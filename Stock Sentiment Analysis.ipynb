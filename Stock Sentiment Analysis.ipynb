{
  "cells": [
    {
      "cell_type": "markdown",
      "metadata": {
        "id": "i7EROqmKLQ-c"
      },
      "source": [
        "# STOCK SENTIMENT\n",
        "\n",
        "Predicting market behavior from tweets\n",
        "\n",
        "Students:\n",
        "* Thiago Bellas - 20231131\n",
        "* Renato Morais - 20231135"
      ]
    },
    {
      "cell_type": "markdown",
      "metadata": {
        "id": "r3AzpYkDDbLO"
      },
      "source": [
        "-----------------------------------------------------------------------"
      ]
    },
    {
      "cell_type": "markdown",
      "metadata": {
        "id": "_ppQ0ZFpR_3-"
      },
      "source": [
        "## Importação de dados"
      ]
    },
    {
      "cell_type": "code",
      "execution_count": 1,
      "metadata": {
        "id": "ioZC_gJQSBUB"
      },
      "outputs": [
        {
          "name": "stderr",
          "output_type": "stream",
          "text": [
            "c:\\Users\\tbellas\\Anaconda3\\lib\\site-packages\\scipy\\__init__.py:146: UserWarning: A NumPy version >=1.16.5 and <1.23.0 is required for this version of SciPy (detected version 1.23.5\n",
            "  warnings.warn(f\"A NumPy version >={np_minversion} and <{np_maxversion}\"\n"
          ]
        }
      ],
      "source": [
        "import numpy as np\n",
        "\n",
        "import pandas as pd\n",
        "pd.set_option('display.max_columns', None)\n",
        "pd.set_option('display.max_colwidth', None)\n",
        "\n",
        "import matplotlib.pyplot as plt\n",
        "import seaborn as sns\n",
        "import nltk\n",
        "import plotly.graph_objects as go\n",
        "import plotly.express as px\n",
        "\n",
        "from nltk.corpus import stopwords\n",
        "from nltk.classify import SklearnClassifier\n",
        "from yellowbrick import ClassBalance\n",
        "from wordcloud import WordCloud,STOPWORDS\n",
        "\n",
        "# Disable all warnings\n",
        "import warnings\n",
        "warnings.filterwarnings('ignore')"
      ]
    },
    {
      "cell_type": "code",
      "execution_count": 2,
      "metadata": {
        "id": "J34-I73TSnJS"
      },
      "outputs": [],
      "source": [
        "# read csv files using Pandas and stored in variables called data_train and data_test\n",
        "data_train = pd.read_csv('train.csv')\n",
        "data_test = pd.read_csv('test.csv')"
      ]
    },
    {
      "cell_type": "code",
      "execution_count": 3,
      "metadata": {
        "colab": {
          "base_uri": "https://localhost:8080/"
        },
        "id": "1t6Kf6fzSyGn",
        "outputId": "beeca5d2-1553-4add-9215-b7b3d26ebfc0"
      },
      "outputs": [
        {
          "name": "stdout",
          "output_type": "stream",
          "text": [
            "O DataFrame \"data_train\": 9543 rows and 2 columns.\n",
            "O DataFrame \"data_test\": 2388 rows and 2 columns.\n"
          ]
        }
      ],
      "source": [
        "# Checking the data in Data_train and Data_test\n",
        "print(f'O DataFrame \"data_train\": {data_train.shape[0]} rows and {data_train.shape[1]} columns.')\n",
        "print(f'O DataFrame \"data_test\": {data_test.shape[0]} rows and {data_test.shape[1]} columns.')"
      ]
    },
    {
      "cell_type": "code",
      "execution_count": 4,
      "metadata": {
        "colab": {
          "base_uri": "https://localhost:8080/",
          "height": 363
        },
        "id": "Can9MtqUS7kt",
        "outputId": "1c3acafa-fb64-481e-c3d6-882d7fa9189e"
      },
      "outputs": [
        {
          "data": {
            "text/html": [
              "<div>\n",
              "<style scoped>\n",
              "    .dataframe tbody tr th:only-of-type {\n",
              "        vertical-align: middle;\n",
              "    }\n",
              "\n",
              "    .dataframe tbody tr th {\n",
              "        vertical-align: top;\n",
              "    }\n",
              "\n",
              "    .dataframe thead th {\n",
              "        text-align: right;\n",
              "    }\n",
              "</style>\n",
              "<table border=\"1\" class=\"dataframe\">\n",
              "  <thead>\n",
              "    <tr style=\"text-align: right;\">\n",
              "      <th></th>\n",
              "      <th>text</th>\n",
              "      <th>label</th>\n",
              "    </tr>\n",
              "  </thead>\n",
              "  <tbody>\n",
              "    <tr>\n",
              "      <th>0</th>\n",
              "      <td>$BYND - JPMorgan reels in expectations on Beyond Meat https://t.co/bd0xbFGjkT</td>\n",
              "      <td>0</td>\n",
              "    </tr>\n",
              "    <tr>\n",
              "      <th>1</th>\n",
              "      <td>$CCL $RCL - Nomura points to bookings weakness at Carnival and Royal Caribbean https://t.co/yGjpT2ReD3</td>\n",
              "      <td>0</td>\n",
              "    </tr>\n",
              "    <tr>\n",
              "      <th>2</th>\n",
              "      <td>$CX - Cemex cut at Credit Suisse, J.P. Morgan on weak building outlook https://t.co/KN1g4AWFIb</td>\n",
              "      <td>0</td>\n",
              "    </tr>\n",
              "    <tr>\n",
              "      <th>3</th>\n",
              "      <td>$ESS: BTIG Research cuts to Neutral https://t.co/MCyfTsXc2N</td>\n",
              "      <td>0</td>\n",
              "    </tr>\n",
              "    <tr>\n",
              "      <th>4</th>\n",
              "      <td>$FNKO - Funko slides after Piper Jaffray PT cut https://t.co/z37IJmCQzB</td>\n",
              "      <td>0</td>\n",
              "    </tr>\n",
              "    <tr>\n",
              "      <th>5</th>\n",
              "      <td>$FTI - TechnipFMC downgraded at Berenberg but called Top Pick at Deutsche Bank https://t.co/XKcPDilIuU</td>\n",
              "      <td>0</td>\n",
              "    </tr>\n",
              "    <tr>\n",
              "      <th>6</th>\n",
              "      <td>$GM - GM loses a bull https://t.co/tdUfG5HbXy</td>\n",
              "      <td>0</td>\n",
              "    </tr>\n",
              "    <tr>\n",
              "      <th>7</th>\n",
              "      <td>$GM: Deutsche Bank cuts to Hold https://t.co/7Fv1ZiFZBS</td>\n",
              "      <td>0</td>\n",
              "    </tr>\n",
              "    <tr>\n",
              "      <th>8</th>\n",
              "      <td>$GTT: Cowen cuts to Market Perform</td>\n",
              "      <td>0</td>\n",
              "    </tr>\n",
              "    <tr>\n",
              "      <th>9</th>\n",
              "      <td>$HNHAF $HNHPD $AAPL - Trendforce cuts iPhone estimate after Foxconn delay https://t.co/rlnEwzlzzS</td>\n",
              "      <td>0</td>\n",
              "    </tr>\n",
              "  </tbody>\n",
              "</table>\n",
              "</div>"
            ],
            "text/plain": [
              "                                                                                                     text  \\\n",
              "0                           $BYND - JPMorgan reels in expectations on Beyond Meat https://t.co/bd0xbFGjkT   \n",
              "1  $CCL $RCL - Nomura points to bookings weakness at Carnival and Royal Caribbean https://t.co/yGjpT2ReD3   \n",
              "2          $CX - Cemex cut at Credit Suisse, J.P. Morgan on weak building outlook https://t.co/KN1g4AWFIb   \n",
              "3                                             $ESS: BTIG Research cuts to Neutral https://t.co/MCyfTsXc2N   \n",
              "4                                 $FNKO - Funko slides after Piper Jaffray PT cut https://t.co/z37IJmCQzB   \n",
              "5  $FTI - TechnipFMC downgraded at Berenberg but called Top Pick at Deutsche Bank https://t.co/XKcPDilIuU   \n",
              "6                                                           $GM - GM loses a bull https://t.co/tdUfG5HbXy   \n",
              "7                                                 $GM: Deutsche Bank cuts to Hold https://t.co/7Fv1ZiFZBS   \n",
              "8                                                                      $GTT: Cowen cuts to Market Perform   \n",
              "9       $HNHAF $HNHPD $AAPL - Trendforce cuts iPhone estimate after Foxconn delay https://t.co/rlnEwzlzzS   \n",
              "\n",
              "   label  \n",
              "0      0  \n",
              "1      0  \n",
              "2      0  \n",
              "3      0  \n",
              "4      0  \n",
              "5      0  \n",
              "6      0  \n",
              "7      0  \n",
              "8      0  \n",
              "9      0  "
            ]
          },
          "execution_count": 4,
          "metadata": {},
          "output_type": "execute_result"
        }
      ],
      "source": [
        "# top 10 rows\n",
        "data_train.head(10)"
      ]
    },
    {
      "cell_type": "markdown",
      "metadata": {
        "id": "qA_MCoP8DbLY"
      },
      "source": [
        "-----------------------------------------------------------------------"
      ]
    },
    {
      "cell_type": "markdown",
      "metadata": {
        "id": "Q5bPJc4ITI9z"
      },
      "source": [
        "# Initial Analysis"
      ]
    },
    {
      "cell_type": "markdown",
      "metadata": {
        "id": "Jp6MenCKV2Og"
      },
      "source": [
        "## Target variable (label)"
      ]
    },
    {
      "cell_type": "code",
      "execution_count": 5,
      "metadata": {
        "colab": {
          "base_uri": "https://localhost:8080/"
        },
        "id": "QMEkApQ8YW85",
        "outputId": "55b38809-0951-43ec-8c81-8ad87ff23210"
      },
      "outputs": [
        {
          "data": {
            "text/plain": [
              "0"
            ]
          },
          "execution_count": 5,
          "metadata": {},
          "output_type": "execute_result"
        }
      ],
      "source": [
        "# Check out if there are null values\n",
        "data_train['label'].isnull().sum()"
      ]
    },
    {
      "cell_type": "code",
      "execution_count": 6,
      "metadata": {
        "colab": {
          "base_uri": "https://localhost:8080/",
          "height": 625
        },
        "id": "Shr9JVZ6WEj2",
        "outputId": "036019bc-e66b-487d-b8f5-794196520cbf"
      },
      "outputs": [
        {
          "data": {
            "image/png": "[encoded data removed]",
            "text/plain": [
              "<Figure size 576x396 with 1 Axes>"
            ]
          },
          "metadata": {},
          "output_type": "display_data"
        },
        {
          "name": "stdout",
          "output_type": "stream",
          "text": [
            "The classification is splited in 3 buckets: [0 1 2]:\n",
            "0 - Bearish\n",
            "1 - Bullish\n",
            "2 - Neutral\n",
            "Total 0 - Bearish in data train: 1442\n",
            "Total 1 - Bullish in data train: 1923\n",
            "Total 2 - Neutral in data train: 6178\n"
          ]
        }
      ],
      "source": [
        "# Plot 1\n",
        "sentimento = ClassBalance(labels=['Bearish', 'Bullish', 'Neutral'])\n",
        "sentimento.fit(data_train['label'])\n",
        "sentimento.ax.grid(False)\n",
        "\n",
        "sentimento.show();\n",
        "\n",
        "\n",
        "\n",
        "# Visualizing the unique values from Target Variable\n",
        "print(f\"The classification is splited in 3 buckets: {(data_train['label']).unique()}:\\n0 - Bearish\\n1 - Bullish\\n2 - Neutral\")\n",
        "print(f\"Total 0 - Bearish in data train: {data_train['label'].eq(0).sum()}\")\n",
        "print(f\"Total 1 - Bullish in data train: {data_train['label'].eq(1).sum()}\")\n",
        "print(f\"Total 2 - Neutral in data train: {data_train['label'].eq(2).sum()}\")"
      ]
    },
    {
      "cell_type": "code",
      "execution_count": null,
      "metadata": {
        "colab": {
          "base_uri": "https://localhost:8080/",
          "height": 542
        },
        "id": "4W_TlntUWgc2",
        "outputId": "90f5061a-7658-4855-bacd-52c1942770ea"
      },
      "outputs": [],
      "source": [
        "# Plot 2 -  Funel graph\n",
        "rotulos = {0: 'Bearish', 1: 'Bullish', 2: 'Neutral'}\n",
        "contagem_valores = data_train['label'].value_counts()\n",
        "\n",
        "# Mapping index of labels\n",
        "contagem_valores.index = contagem_valores.index.map(rotulos)\n",
        "\n",
        "# Plot\n",
        "grafico = go.Figure(\n",
        "    go.Funnelarea(\n",
        "        text=contagem_valores.index,\n",
        "        values=contagem_valores.values,\n",
        "        title={'text':'Distribuição dos sentimentos', 'position':'top center'}\n",
        "    )\n",
        ")\n",
        "\n",
        "grafico.show()"
      ]
    },
    {
      "cell_type": "code",
      "execution_count": null,
      "metadata": {
        "colab": {
          "base_uri": "https://localhost:8080/"
        },
        "id": "31GI1wb7XPD3",
        "outputId": "2113c150-e59a-411f-b8a5-f41bf5fcd9fd"
      },
      "outputs": [],
      "source": [
        "# statistical describe measures of target valiable in Data train.\n",
        "data_train['label'].describe()"
      ]
    },
    {
      "cell_type": "markdown",
      "metadata": {
        "id": "xvs3r7_YDbL8"
      },
      "source": [
        "-----------------------------------------------------------------------"
      ]
    },
    {
      "cell_type": "markdown",
      "metadata": {
        "id": "FVURr1XsDbL8"
      },
      "source": [
        "## Variável independente (text)"
      ]
    },
    {
      "cell_type": "markdown",
      "metadata": {
        "id": "g7SvRh9DZuxa"
      },
      "source": [
        "Wordcounts"
      ]
    },
    {
      "cell_type": "code",
      "execution_count": 7,
      "metadata": {
        "id": "lL7WyaTcZyqy"
      },
      "outputs": [],
      "source": [
        "# Splitting text and after to split the text, add a new column with the word count\n",
        "data_train['word_count']  = data_train['text'].apply(lambda x: len(str(x).split(\" \")))"
      ]
    },
    {
      "cell_type": "code",
      "execution_count": 8,
      "metadata": {
        "colab": {
          "base_uri": "https://localhost:8080/",
          "height": 206
        },
        "id": "vasS2uUuZyxj",
        "outputId": "46ed068b-9217-4c46-db9c-a7d659e9beb2"
      },
      "outputs": [
        {
          "data": {
            "text/html": [
              "<div>\n",
              "<style scoped>\n",
              "    .dataframe tbody tr th:only-of-type {\n",
              "        vertical-align: middle;\n",
              "    }\n",
              "\n",
              "    .dataframe tbody tr th {\n",
              "        vertical-align: top;\n",
              "    }\n",
              "\n",
              "    .dataframe thead th {\n",
              "        text-align: right;\n",
              "    }\n",
              "</style>\n",
              "<table border=\"1\" class=\"dataframe\">\n",
              "  <thead>\n",
              "    <tr style=\"text-align: right;\">\n",
              "      <th></th>\n",
              "      <th>text</th>\n",
              "      <th>label</th>\n",
              "      <th>word_count</th>\n",
              "    </tr>\n",
              "  </thead>\n",
              "  <tbody>\n",
              "    <tr>\n",
              "      <th>0</th>\n",
              "      <td>$BYND - JPMorgan reels in expectations on Beyond Meat https://t.co/bd0xbFGjkT</td>\n",
              "      <td>0</td>\n",
              "      <td>10</td>\n",
              "    </tr>\n",
              "    <tr>\n",
              "      <th>1</th>\n",
              "      <td>$CCL $RCL - Nomura points to bookings weakness at Carnival and Royal Caribbean https://t.co/yGjpT2ReD3</td>\n",
              "      <td>0</td>\n",
              "      <td>14</td>\n",
              "    </tr>\n",
              "    <tr>\n",
              "      <th>2</th>\n",
              "      <td>$CX - Cemex cut at Credit Suisse, J.P. Morgan on weak building outlook https://t.co/KN1g4AWFIb</td>\n",
              "      <td>0</td>\n",
              "      <td>14</td>\n",
              "    </tr>\n",
              "    <tr>\n",
              "      <th>3</th>\n",
              "      <td>$ESS: BTIG Research cuts to Neutral https://t.co/MCyfTsXc2N</td>\n",
              "      <td>0</td>\n",
              "      <td>7</td>\n",
              "    </tr>\n",
              "    <tr>\n",
              "      <th>4</th>\n",
              "      <td>$FNKO - Funko slides after Piper Jaffray PT cut https://t.co/z37IJmCQzB</td>\n",
              "      <td>0</td>\n",
              "      <td>10</td>\n",
              "    </tr>\n",
              "  </tbody>\n",
              "</table>\n",
              "</div>"
            ],
            "text/plain": [
              "                                                                                                     text  \\\n",
              "0                           $BYND - JPMorgan reels in expectations on Beyond Meat https://t.co/bd0xbFGjkT   \n",
              "1  $CCL $RCL - Nomura points to bookings weakness at Carnival and Royal Caribbean https://t.co/yGjpT2ReD3   \n",
              "2          $CX - Cemex cut at Credit Suisse, J.P. Morgan on weak building outlook https://t.co/KN1g4AWFIb   \n",
              "3                                             $ESS: BTIG Research cuts to Neutral https://t.co/MCyfTsXc2N   \n",
              "4                                 $FNKO - Funko slides after Piper Jaffray PT cut https://t.co/z37IJmCQzB   \n",
              "\n",
              "   label  word_count  \n",
              "0      0          10  \n",
              "1      0          14  \n",
              "2      0          14  \n",
              "3      0           7  \n",
              "4      0          10  "
            ]
          },
          "execution_count": 8,
          "metadata": {},
          "output_type": "execute_result"
        }
      ],
      "source": [
        "data_train.head()"
      ]
    },
    {
      "cell_type": "code",
      "execution_count": 9,
      "metadata": {
        "colab": {
          "base_uri": "https://localhost:8080/",
          "height": 599
        },
        "id": "ICaTBHK_Zy0H",
        "outputId": "bb5b7420-864f-4bcd-f0bf-0272ef7ae9e0"
      },
      "outputs": [
        {
          "data": {
            "image/png": "[encoded data removed]",
            "text/plain": [
              "<Figure size 576x504 with 1 Axes>"
            ]
          },
          "metadata": {},
          "output_type": "display_data"
        }
      ],
      "source": [
        "# histogram with how many row (axis X) and how many words (axis Y)\n",
        "data_train['word_count'].hist(figsize=(8, 7), grid=False);"
      ]
    },
    {
      "cell_type": "code",
      "execution_count": 10,
      "metadata": {
        "colab": {
          "base_uri": "https://localhost:8080/"
        },
        "id": "767x8KR3Zy2r",
        "outputId": "aa948929-fe36-45f8-f130-544bac0d65e9"
      },
      "outputs": [
        {
          "data": {
            "text/plain": [
              "to     2332\n",
              "the    1820\n",
              "of     1464\n",
              "-      1390\n",
              "in     1361\n",
              "on     1136\n",
              "for    1032\n",
              "a       970\n",
              "and     898\n",
              "The     663\n",
              "dtype: int64"
            ]
          },
          "execution_count": 10,
          "metadata": {},
          "output_type": "execute_result"
        }
      ],
      "source": [
        "# Working with \"join\" using space as delimiter and counting the frequency of each word.\n",
        "all_words = ' '.join(data_train['text']).split()\n",
        "freq = pd.Series(all_words).value_counts()\n",
        "freq.sort_values(ascending=False)[0:10]"
      ]
    },
    {
      "cell_type": "code",
      "execution_count": 11,
      "metadata": {
        "colab": {
          "base_uri": "https://localhost:8080/",
          "height": 524
        },
        "id": "kWKWow3tDbL_",
        "outputId": "c5180462-21f7-45d3-a3a6-b0785f43cc94"
      },
      "outputs": [
        {
          "data": {
            "image/png": "[encoded data removed]",
            "text/plain": [
              "<Figure size 576x396 with 1 Axes>"
            ]
          },
          "metadata": {},
          "output_type": "display_data"
        }
      ],
      "source": [
        "# Ploting the frenquency of each top 10 words\n",
        "freq_sorted = freq.sort_values(ascending=True)\n",
        "\n",
        "x_labels = freq_sorted.index[-10:]\n",
        "values = freq_sorted[-10:]\n",
        "plt.barh(x_labels, values, align='center', alpha=0.5)\n",
        "plt.xlabel('Frequencies')\n",
        "plt.title('Top 10 Words')\n",
        "plt.show()"
      ]
    },
    {
      "cell_type": "code",
      "execution_count": 12,
      "metadata": {
        "colab": {
          "base_uri": "https://localhost:8080/"
        },
        "id": "81zLo9gEaB_f",
        "outputId": "81f0e12a-6b2a-4a69-fdc7-4ffbb3a17ea8"
      },
      "outputs": [
        {
          "data": {
            "text/plain": [
              "count    9543.000000\n",
              "mean       12.168081\n",
              "std         4.651245\n",
              "min         1.000000\n",
              "25%         9.000000\n",
              "50%        11.000000\n",
              "75%        15.000000\n",
              "max        31.000000\n",
              "Name: word_count, dtype: float64"
            ]
          },
          "execution_count": 12,
          "metadata": {},
          "output_type": "execute_result"
        }
      ],
      "source": [
        "# display the main statistics of \"word_count\"\n",
        "data_train.word_count.describe()"
      ]
    },
    {
      "cell_type": "markdown",
      "metadata": {
        "id": "UuKQ0GnuveEZ"
      },
      "source": [
        "Word clouds"
      ]
    },
    {
      "cell_type": "code",
      "execution_count": null,
      "metadata": {
        "colab": {
          "base_uri": "https://localhost:8080/",
          "height": 1000
        },
        "id": "IZs44wTpvc2l",
        "outputId": "5b5dd6cf-f86c-43d9-aa8e-7321c9056b87"
      },
      "outputs": [],
      "source": [
        "# Separation of texts labeled as \"bullish\" (1) and \"bearish\" (0)\n",
        "train_bullish = data_train[data_train['label'] == 1]\n",
        "train_bullish = train_bullish['text']\n",
        "train_bearish = data_train[data_train['label'] == 0]\n",
        "train_bearish = train_bearish['text']\n",
        "\n",
        "# Function to draw and display a word cloud\n",
        "def wordcloud_draw(data, color = 'black'):\n",
        "    # Combines all texts into a single string\n",
        "    words = ' '.join(data)\n",
        "    # Cleans the string by removing certain unwanted words and patterns\n",
        "    cleaned_word = \" \".join([word for word in words.split()\n",
        "                            if 'http' not in word\n",
        "                                and not word.startswith('@')\n",
        "                                and not word.startswith('#')\n",
        "                                and word != 'RT'\n",
        "                            ])\n",
        "    # Cria a nuvem de palavras usando a biblioteca WordCloud\n",
        "    wordcloud = WordCloud(stopwords=STOPWORDS,\n",
        "                      background_color=color,\n",
        "                      width=2500,\n",
        "                      height=2000\n",
        "                     ).generate(cleaned_word)\n",
        "    # Create the word cloud using the WordCloud library\n",
        "    plt.figure(1,figsize=(8, 8))\n",
        "    plt.imshow(wordcloud)\n",
        "    plt.axis('off')\n",
        "    plt.show()\n",
        "\n",
        "# Generation and display of the word cloud for texts labeled as \"bullish\"\n",
        "print(\"Bullish words\")\n",
        "wordcloud_draw(train_bullish,'white')\n",
        "# Word cloud generation and display for texts labeled as \"bearish\"\n",
        "print(\"Bearish words\")\n",
        "wordcloud_draw(train_bearish)"
      ]
    },
    {
      "cell_type": "code",
      "execution_count": null,
      "metadata": {
        "colab": {
          "base_uri": "https://localhost:8080/",
          "height": 542
        },
        "id": "QRGx4i5zaZxs",
        "outputId": "7f89e218-6eac-44bc-b98d-387a5472f2f9"
      },
      "outputs": [],
      "source": [
        "# chart to check outliers\n",
        "px.box(data_train,\n",
        "       x='label',\n",
        "       y='word_count',\n",
        "       color='label',\n",
        "       title='Quantidade Palavras por Sentimento')"
      ]
    },
    {
      "cell_type": "code",
      "execution_count": null,
      "metadata": {
        "colab": {
          "base_uri": "https://localhost:8080/",
          "height": 129
        },
        "id": "bK4RPnLobW9b",
        "outputId": "53f3152b-0563-44a4-8b53-776270d9eae4"
      },
      "outputs": [],
      "source": [
        "# Filter the data\n",
        "filtro1 = data_train[(data_train['word_count'].isin([31, 25])) & (data_train['label'] == 0)]\n",
        "\n",
        "# Number of outliers for the label=1\n",
        "filtro1"
      ]
    },
    {
      "cell_type": "code",
      "execution_count": null,
      "metadata": {
        "colab": {
          "base_uri": "https://localhost:8080/",
          "height": 1000
        },
        "id": "lJnVCBYacM4o",
        "outputId": "49a430e9-56ba-4867-b364-d96c87c02be6"
      },
      "outputs": [],
      "source": [
        "# Filter the data\n",
        "filtro2 = data_train[(data_train['word_count'].isin([27, 25, 24, 23, 22])) & (data_train['label'] == 1)]\n",
        "\n",
        "# View the results\n",
        "filtro2"
      ]
    },
    {
      "cell_type": "code",
      "execution_count": null,
      "metadata": {
        "colab": {
          "base_uri": "https://localhost:8080/"
        },
        "id": "qUSsPSCAcyxF",
        "outputId": "7f4a9109-3bea-4ab8-b324-7e07963f286c"
      },
      "outputs": [],
      "source": [
        "# Número de outliers para o label=1\n",
        "filtro2.shape"
      ]
    },
    {
      "cell_type": "code",
      "execution_count": null,
      "metadata": {
        "colab": {
          "base_uri": "https://localhost:8080/",
          "height": 178
        },
        "id": "Gg4ryBsac4Id",
        "outputId": "a06acf93-baaa-492d-e188-00047703d1f2"
      },
      "outputs": [],
      "source": [
        "# Filtrar os dados\n",
        "filtro3 = data_train[(data_train['word_count'].isin([29, 27])) & (data_train['label'] == 2)]\n",
        "\n",
        "# Visualizar os resultados\n",
        "filtro3"
      ]
    },
    {
      "cell_type": "markdown",
      "metadata": {
        "id": "_MNMdtMDDbMB"
      },
      "source": [
        "-----------------------------------------------------------------------"
      ]
    },
    {
      "cell_type": "markdown",
      "metadata": {
        "id": "Gg_PPYVihOJf"
      },
      "source": [
        "# 1) Pre-processing\n",
        "\n",
        "To pre-processing data in the project we created one function with the following steps:\n",
        "\n",
        "   * Remove URLs\n",
        "   * Remove Tickers (Identified by $ + some words as pattern)\n",
        "   * Remove extra spaces\n",
        "   * Remove patterns with @ or #\n",
        "   * Remove repeated puntuactions\n",
        "   * Convert all words to lower case\n",
        "   * Identify and remove contractions\n",
        "   * Remove punctuation excluding stopwords"
      ]
    },
    {
      "cell_type": "markdown",
      "metadata": {
        "id": "Yx8iDMAFEhx4"
      },
      "source": [
        "## 1.2) Data cleaning"
      ]
    },
    {
      "cell_type": "markdown",
      "metadata": {
        "id": "IyDM2MEADbMC"
      },
      "source": [
        "Pre-Process Function"
      ]
    },
    {
      "cell_type": "code",
      "execution_count": 13,
      "metadata": {
        "colab": {
          "base_uri": "https://localhost:8080/"
        },
        "id": "oF7DJ0TVyeJ2",
        "outputId": "74fce926-38b2-445c-dc43-32ff30b3eb53"
      },
      "outputs": [
        {
          "name": "stderr",
          "output_type": "stream",
          "text": [
            "[nltk_data] Downloading package stopwords to\n",
            "[nltk_data]     C:\\Users\\tbellas\\AppData\\Roaming\\nltk_data...\n",
            "[nltk_data]   Package stopwords is already up-to-date!\n"
          ]
        }
      ],
      "source": [
        "#!pip install contractions\n",
        "#!pip install emoji --upgrade\n",
        "\n",
        "import re\n",
        "import string\n",
        "import contractions\n",
        "import emoji\n",
        "import nltk\n",
        "from nltk.corpus import stopwords\n",
        "\n",
        "nltk.download('stopwords')\n",
        "\n",
        "# Função para demojizar emojis e remover caracteres não alfanuméricos após demojização\n",
        "def demojize_and_clean(tweet):\n",
        "    tweet = emoji.demojize(tweet)\n",
        "    tweet = re.sub('[^a-zA-Z0-9\\s]', '', tweet)  # Remove caracteres não alfanuméricos\n",
        "    return tweet\n",
        "\n",
        "# Função para pré-processamento e limpeza do texto\n",
        "def pre_processing_cleaning(text, default_replace=\"\"):\n",
        "    # 1) Remove URLs\n",
        "    text = re.sub('(http|https):\\/\\/\\S+', default_replace, text)\n",
        "    # 2) Remove patterns starting with $ (Tickers)\n",
        "    text = re.sub('\\$\\S+', '', text)\n",
        "    # 3) Remove extra spaces between sentences\n",
        "    text = re.sub('\\s*-\\s*', '', text)\n",
        "    # 4) Remove patterns starting with @ or #\n",
        "    text = re.sub('[@#]\\w+', default_replace, text)\n",
        "    # 5) Remove repeated punctuations\n",
        "    text = re.sub('[\\?\\.\\!]+(?=[\\?\\.\\!])', default_replace, text)\n",
        "    # 6) Remove commas\n",
        "    text = text.replace(',', '')\n",
        "    # 7) Convert to lowercase\n",
        "    text = text.lower()\n",
        "    # 8) Fix contractions expressions\n",
        "    text = contractions.fix(text)\n",
        "    # 9) Remove punctuation excluding stopwords\n",
        "    punc_exclude = set(string.punctuation)\n",
        "    text = ''.join([word for word in text if word not in punc_exclude])\n",
        "    # 10) Set Stop words to variable (sw_exclude)\n",
        "    sw_exclude = set(stopwords.words('english'))\n",
        "    # 11) Apply sw_exclude to text cleaned column\n",
        "    text = ' '.join([word for word in text.split() if word not in sw_exclude])\n",
        "    # 12) Demojize and remove caracteres não alfanuméricos após demojização\n",
        "    text = demojize_and_clean(text)\n",
        "\n",
        "    return text"
      ]
    },
    {
      "cell_type": "code",
      "execution_count": 14,
      "metadata": {
        "colab": {
          "base_uri": "https://localhost:8080/"
        },
        "id": "Bv6aeCslfl9c",
        "outputId": "013efaea-1d84-49fb-ec8f-49f43188ecc7"
      },
      "outputs": [
        {
          "name": "stderr",
          "output_type": "stream",
          "text": [
            "100%|██████████| 9543/9543 [00:07<00:00, 1303.58it/s]\n"
          ]
        }
      ],
      "source": [
        "from tqdm import tqdm\n",
        "tqdm.pandas()\n",
        "\n",
        "data_train['text_cleaned'] = data_train['text'].progress_apply(pre_processing_cleaning)"
      ]
    },
    {
      "cell_type": "code",
      "execution_count": 15,
      "metadata": {
        "colab": {
          "base_uri": "https://localhost:8080/",
          "height": 0
        },
        "id": "NRrW3aEvzjZl",
        "outputId": "75c3918d-d9ca-4a21-f938-b0d69c76adc8"
      },
      "outputs": [
        {
          "data": {
            "text/html": [
              "<div>\n",
              "<style scoped>\n",
              "    .dataframe tbody tr th:only-of-type {\n",
              "        vertical-align: middle;\n",
              "    }\n",
              "\n",
              "    .dataframe tbody tr th {\n",
              "        vertical-align: top;\n",
              "    }\n",
              "\n",
              "    .dataframe thead th {\n",
              "        text-align: right;\n",
              "    }\n",
              "</style>\n",
              "<table border=\"1\" class=\"dataframe\">\n",
              "  <thead>\n",
              "    <tr style=\"text-align: right;\">\n",
              "      <th></th>\n",
              "      <th>text</th>\n",
              "      <th>label</th>\n",
              "      <th>word_count</th>\n",
              "      <th>text_cleaned</th>\n",
              "    </tr>\n",
              "  </thead>\n",
              "  <tbody>\n",
              "    <tr>\n",
              "      <th>0</th>\n",
              "      <td>$BYND - JPMorgan reels in expectations on Beyond Meat https://t.co/bd0xbFGjkT</td>\n",
              "      <td>0</td>\n",
              "      <td>10</td>\n",
              "      <td>jpmorgan reels expectations beyond meat</td>\n",
              "    </tr>\n",
              "    <tr>\n",
              "      <th>1</th>\n",
              "      <td>$CCL $RCL - Nomura points to bookings weakness at Carnival and Royal Caribbean https://t.co/yGjpT2ReD3</td>\n",
              "      <td>0</td>\n",
              "      <td>14</td>\n",
              "      <td>nomura points bookings weakness carnival royal caribbean</td>\n",
              "    </tr>\n",
              "    <tr>\n",
              "      <th>2</th>\n",
              "      <td>$CX - Cemex cut at Credit Suisse, J.P. Morgan on weak building outlook https://t.co/KN1g4AWFIb</td>\n",
              "      <td>0</td>\n",
              "      <td>14</td>\n",
              "      <td>cemex cut credit suisse jp morgan weak building outlook</td>\n",
              "    </tr>\n",
              "    <tr>\n",
              "      <th>3</th>\n",
              "      <td>$ESS: BTIG Research cuts to Neutral https://t.co/MCyfTsXc2N</td>\n",
              "      <td>0</td>\n",
              "      <td>7</td>\n",
              "      <td>btig research cuts neutral</td>\n",
              "    </tr>\n",
              "    <tr>\n",
              "      <th>4</th>\n",
              "      <td>$FNKO - Funko slides after Piper Jaffray PT cut https://t.co/z37IJmCQzB</td>\n",
              "      <td>0</td>\n",
              "      <td>10</td>\n",
              "      <td>funko slides piper jaffray pt cut</td>\n",
              "    </tr>\n",
              "  </tbody>\n",
              "</table>\n",
              "</div>"
            ],
            "text/plain": [
              "                                                                                                     text  \\\n",
              "0                           $BYND - JPMorgan reels in expectations on Beyond Meat https://t.co/bd0xbFGjkT   \n",
              "1  $CCL $RCL - Nomura points to bookings weakness at Carnival and Royal Caribbean https://t.co/yGjpT2ReD3   \n",
              "2          $CX - Cemex cut at Credit Suisse, J.P. Morgan on weak building outlook https://t.co/KN1g4AWFIb   \n",
              "3                                             $ESS: BTIG Research cuts to Neutral https://t.co/MCyfTsXc2N   \n",
              "4                                 $FNKO - Funko slides after Piper Jaffray PT cut https://t.co/z37IJmCQzB   \n",
              "\n",
              "   label  word_count                                              text_cleaned  \n",
              "0      0          10                   jpmorgan reels expectations beyond meat  \n",
              "1      0          14  nomura points bookings weakness carnival royal caribbean  \n",
              "2      0          14   cemex cut credit suisse jp morgan weak building outlook  \n",
              "3      0           7                                btig research cuts neutral  \n",
              "4      0          10                         funko slides piper jaffray pt cut  "
            ]
          },
          "execution_count": 15,
          "metadata": {},
          "output_type": "execute_result"
        }
      ],
      "source": [
        "data_train.head()"
      ]
    },
    {
      "cell_type": "code",
      "execution_count": 16,
      "metadata": {
        "colab": {
          "base_uri": "https://localhost:8080/",
          "height": 0
        },
        "id": "wPJrgvxsDbMH",
        "outputId": "9cb01be7-5282-4c55-a46f-86aefde3a83b"
      },
      "outputs": [
        {
          "data": {
            "text/html": [
              "<div>\n",
              "<style scoped>\n",
              "    .dataframe tbody tr th:only-of-type {\n",
              "        vertical-align: middle;\n",
              "    }\n",
              "\n",
              "    .dataframe tbody tr th {\n",
              "        vertical-align: top;\n",
              "    }\n",
              "\n",
              "    .dataframe thead th {\n",
              "        text-align: right;\n",
              "    }\n",
              "</style>\n",
              "<table border=\"1\" class=\"dataframe\">\n",
              "  <thead>\n",
              "    <tr style=\"text-align: right;\">\n",
              "      <th></th>\n",
              "      <th>text</th>\n",
              "      <th>label</th>\n",
              "      <th>word_count</th>\n",
              "      <th>text_cleaned</th>\n",
              "    </tr>\n",
              "  </thead>\n",
              "  <tbody>\n",
              "    <tr>\n",
              "      <th>9538</th>\n",
              "      <td>The Week's Gainers and Losers on the Stoxx Europe 50 --Dec. 2-6 #economy #MarketScreener https://t.co/iK5MO4NhQq https://t.co/AJh5V5fWTT</td>\n",
              "      <td>2</td>\n",
              "      <td>16</td>\n",
              "      <td>weeks gainers losers stoxx europe 50dec 26</td>\n",
              "    </tr>\n",
              "    <tr>\n",
              "      <th>9539</th>\n",
              "      <td>Tupperware Brands among consumer gainers; Unilever leads the losers</td>\n",
              "      <td>2</td>\n",
              "      <td>9</td>\n",
              "      <td>tupperware brands among consumer gainers unilever leads losers</td>\n",
              "    </tr>\n",
              "    <tr>\n",
              "      <th>9540</th>\n",
              "      <td>vTv Therapeutics leads healthcare gainers; Myomo and Biohaven Pharmaceutical among losers</td>\n",
              "      <td>2</td>\n",
              "      <td>11</td>\n",
              "      <td>vtv therapeutics leads healthcare gainers myomo biohaven pharmaceutical among losers</td>\n",
              "    </tr>\n",
              "    <tr>\n",
              "      <th>9541</th>\n",
              "      <td>WORK, XPO, PYX and AMKR among after hour movers</td>\n",
              "      <td>2</td>\n",
              "      <td>9</td>\n",
              "      <td>work xpo pyx amkr among hour movers</td>\n",
              "    </tr>\n",
              "    <tr>\n",
              "      <th>9542</th>\n",
              "      <td>YNDX, I, QD and OESX among tech movers</td>\n",
              "      <td>2</td>\n",
              "      <td>8</td>\n",
              "      <td>yndx qd oesx among tech movers</td>\n",
              "    </tr>\n",
              "  </tbody>\n",
              "</table>\n",
              "</div>"
            ],
            "text/plain": [
              "                                                                                                                                          text  \\\n",
              "9538  The Week's Gainers and Losers on the Stoxx Europe 50 --Dec. 2-6 #economy #MarketScreener https://t.co/iK5MO4NhQq https://t.co/AJh5V5fWTT   \n",
              "9539                                                                       Tupperware Brands among consumer gainers; Unilever leads the losers   \n",
              "9540                                                 vTv Therapeutics leads healthcare gainers; Myomo and Biohaven Pharmaceutical among losers   \n",
              "9541                                                                                           WORK, XPO, PYX and AMKR among after hour movers   \n",
              "9542                                                                                                    YNDX, I, QD and OESX among tech movers   \n",
              "\n",
              "      label  word_count  \\\n",
              "9538      2          16   \n",
              "9539      2           9   \n",
              "9540      2          11   \n",
              "9541      2           9   \n",
              "9542      2           8   \n",
              "\n",
              "                                                                              text_cleaned  \n",
              "9538                                            weeks gainers losers stoxx europe 50dec 26  \n",
              "9539                        tupperware brands among consumer gainers unilever leads losers  \n",
              "9540  vtv therapeutics leads healthcare gainers myomo biohaven pharmaceutical among losers  \n",
              "9541                                                   work xpo pyx amkr among hour movers  \n",
              "9542                                                        yndx qd oesx among tech movers  "
            ]
          },
          "execution_count": 16,
          "metadata": {},
          "output_type": "execute_result"
        }
      ],
      "source": [
        "data_train.tail()"
      ]
    },
    {
      "cell_type": "markdown",
      "metadata": {
        "id": "SgwIRX6GE86u"
      },
      "source": [
        "## 1.3) Tokenization"
      ]
    },
    {
      "cell_type": "markdown",
      "metadata": {
        "id": "2PvX5s-gDbMI"
      },
      "source": [
        "Tokenize sentences"
      ]
    },
    {
      "cell_type": "code",
      "execution_count": 17,
      "metadata": {
        "colab": {
          "base_uri": "https://localhost:8080/"
        },
        "id": "OP8w3ogBDbMI",
        "outputId": "c10cec9c-ac7c-4f19-f46c-537fed8fa221"
      },
      "outputs": [
        {
          "name": "stderr",
          "output_type": "stream",
          "text": [
            "[nltk_data] Downloading package punkt to\n",
            "[nltk_data]     C:\\Users\\tbellas\\AppData\\Roaming\\nltk_data...\n",
            "[nltk_data]   Package punkt is already up-to-date!\n"
          ]
        },
        {
          "data": {
            "text/plain": [
              "True"
            ]
          },
          "execution_count": 17,
          "metadata": {},
          "output_type": "execute_result"
        }
      ],
      "source": [
        "import nltk\n",
        "from nltk.tokenize import word_tokenize\n",
        "nltk.download('punkt')\n"
      ]
    },
    {
      "cell_type": "code",
      "execution_count": 18,
      "metadata": {
        "colab": {
          "base_uri": "https://localhost:8080/"
        },
        "id": "MPcVkVa4DbMI",
        "outputId": "a50625ba-68b2-456f-bd72-f662895fed0b"
      },
      "outputs": [
        {
          "name": "stderr",
          "output_type": "stream",
          "text": [
            "100%|██████████| 9543/9543 [00:01<00:00, 6233.59it/s]\n"
          ]
        }
      ],
      "source": [
        "data_train['text_cleaned'] = data_train['text_cleaned'].progress_apply(word_tokenize)"
      ]
    },
    {
      "cell_type": "code",
      "execution_count": 19,
      "metadata": {
        "colab": {
          "base_uri": "https://localhost:8080/",
          "height": 0
        },
        "id": "TF8ufx-ZDbMI",
        "outputId": "3d470a1a-b6a2-4602-d578-776feb418ac9"
      },
      "outputs": [
        {
          "data": {
            "text/html": [
              "<div>\n",
              "<style scoped>\n",
              "    .dataframe tbody tr th:only-of-type {\n",
              "        vertical-align: middle;\n",
              "    }\n",
              "\n",
              "    .dataframe tbody tr th {\n",
              "        vertical-align: top;\n",
              "    }\n",
              "\n",
              "    .dataframe thead th {\n",
              "        text-align: right;\n",
              "    }\n",
              "</style>\n",
              "<table border=\"1\" class=\"dataframe\">\n",
              "  <thead>\n",
              "    <tr style=\"text-align: right;\">\n",
              "      <th></th>\n",
              "      <th>text</th>\n",
              "      <th>label</th>\n",
              "      <th>word_count</th>\n",
              "      <th>text_cleaned</th>\n",
              "    </tr>\n",
              "  </thead>\n",
              "  <tbody>\n",
              "    <tr>\n",
              "      <th>0</th>\n",
              "      <td>$BYND - JPMorgan reels in expectations on Beyond Meat https://t.co/bd0xbFGjkT</td>\n",
              "      <td>0</td>\n",
              "      <td>10</td>\n",
              "      <td>[jpmorgan, reels, expectations, beyond, meat]</td>\n",
              "    </tr>\n",
              "    <tr>\n",
              "      <th>1</th>\n",
              "      <td>$CCL $RCL - Nomura points to bookings weakness at Carnival and Royal Caribbean https://t.co/yGjpT2ReD3</td>\n",
              "      <td>0</td>\n",
              "      <td>14</td>\n",
              "      <td>[nomura, points, bookings, weakness, carnival, royal, caribbean]</td>\n",
              "    </tr>\n",
              "    <tr>\n",
              "      <th>2</th>\n",
              "      <td>$CX - Cemex cut at Credit Suisse, J.P. Morgan on weak building outlook https://t.co/KN1g4AWFIb</td>\n",
              "      <td>0</td>\n",
              "      <td>14</td>\n",
              "      <td>[cemex, cut, credit, suisse, jp, morgan, weak, building, outlook]</td>\n",
              "    </tr>\n",
              "    <tr>\n",
              "      <th>3</th>\n",
              "      <td>$ESS: BTIG Research cuts to Neutral https://t.co/MCyfTsXc2N</td>\n",
              "      <td>0</td>\n",
              "      <td>7</td>\n",
              "      <td>[btig, research, cuts, neutral]</td>\n",
              "    </tr>\n",
              "    <tr>\n",
              "      <th>4</th>\n",
              "      <td>$FNKO - Funko slides after Piper Jaffray PT cut https://t.co/z37IJmCQzB</td>\n",
              "      <td>0</td>\n",
              "      <td>10</td>\n",
              "      <td>[funko, slides, piper, jaffray, pt, cut]</td>\n",
              "    </tr>\n",
              "  </tbody>\n",
              "</table>\n",
              "</div>"
            ],
            "text/plain": [
              "                                                                                                     text  \\\n",
              "0                           $BYND - JPMorgan reels in expectations on Beyond Meat https://t.co/bd0xbFGjkT   \n",
              "1  $CCL $RCL - Nomura points to bookings weakness at Carnival and Royal Caribbean https://t.co/yGjpT2ReD3   \n",
              "2          $CX - Cemex cut at Credit Suisse, J.P. Morgan on weak building outlook https://t.co/KN1g4AWFIb   \n",
              "3                                             $ESS: BTIG Research cuts to Neutral https://t.co/MCyfTsXc2N   \n",
              "4                                 $FNKO - Funko slides after Piper Jaffray PT cut https://t.co/z37IJmCQzB   \n",
              "\n",
              "   label  word_count  \\\n",
              "0      0          10   \n",
              "1      0          14   \n",
              "2      0          14   \n",
              "3      0           7   \n",
              "4      0          10   \n",
              "\n",
              "                                                        text_cleaned  \n",
              "0                      [jpmorgan, reels, expectations, beyond, meat]  \n",
              "1   [nomura, points, bookings, weakness, carnival, royal, caribbean]  \n",
              "2  [cemex, cut, credit, suisse, jp, morgan, weak, building, outlook]  \n",
              "3                                    [btig, research, cuts, neutral]  \n",
              "4                           [funko, slides, piper, jaffray, pt, cut]  "
            ]
          },
          "execution_count": 19,
          "metadata": {},
          "output_type": "execute_result"
        }
      ],
      "source": [
        "data_train.head()"
      ]
    },
    {
      "cell_type": "code",
      "execution_count": 20,
      "metadata": {
        "colab": {
          "base_uri": "https://localhost:8080/",
          "height": 0
        },
        "id": "K-56W5HvDbMI",
        "outputId": "cdff9159-1af4-4c66-af8b-7f5dcdbebbe9"
      },
      "outputs": [
        {
          "data": {
            "text/html": [
              "<div>\n",
              "<style scoped>\n",
              "    .dataframe tbody tr th:only-of-type {\n",
              "        vertical-align: middle;\n",
              "    }\n",
              "\n",
              "    .dataframe tbody tr th {\n",
              "        vertical-align: top;\n",
              "    }\n",
              "\n",
              "    .dataframe thead th {\n",
              "        text-align: right;\n",
              "    }\n",
              "</style>\n",
              "<table border=\"1\" class=\"dataframe\">\n",
              "  <thead>\n",
              "    <tr style=\"text-align: right;\">\n",
              "      <th></th>\n",
              "      <th>text</th>\n",
              "      <th>label</th>\n",
              "      <th>word_count</th>\n",
              "      <th>text_cleaned</th>\n",
              "    </tr>\n",
              "  </thead>\n",
              "  <tbody>\n",
              "    <tr>\n",
              "      <th>9538</th>\n",
              "      <td>The Week's Gainers and Losers on the Stoxx Europe 50 --Dec. 2-6 #economy #MarketScreener https://t.co/iK5MO4NhQq https://t.co/AJh5V5fWTT</td>\n",
              "      <td>2</td>\n",
              "      <td>16</td>\n",
              "      <td>[weeks, gainers, losers, stoxx, europe, 50dec, 26]</td>\n",
              "    </tr>\n",
              "    <tr>\n",
              "      <th>9539</th>\n",
              "      <td>Tupperware Brands among consumer gainers; Unilever leads the losers</td>\n",
              "      <td>2</td>\n",
              "      <td>9</td>\n",
              "      <td>[tupperware, brands, among, consumer, gainers, unilever, leads, losers]</td>\n",
              "    </tr>\n",
              "    <tr>\n",
              "      <th>9540</th>\n",
              "      <td>vTv Therapeutics leads healthcare gainers; Myomo and Biohaven Pharmaceutical among losers</td>\n",
              "      <td>2</td>\n",
              "      <td>11</td>\n",
              "      <td>[vtv, therapeutics, leads, healthcare, gainers, myomo, biohaven, pharmaceutical, among, losers]</td>\n",
              "    </tr>\n",
              "    <tr>\n",
              "      <th>9541</th>\n",
              "      <td>WORK, XPO, PYX and AMKR among after hour movers</td>\n",
              "      <td>2</td>\n",
              "      <td>9</td>\n",
              "      <td>[work, xpo, pyx, amkr, among, hour, movers]</td>\n",
              "    </tr>\n",
              "    <tr>\n",
              "      <th>9542</th>\n",
              "      <td>YNDX, I, QD and OESX among tech movers</td>\n",
              "      <td>2</td>\n",
              "      <td>8</td>\n",
              "      <td>[yndx, qd, oesx, among, tech, movers]</td>\n",
              "    </tr>\n",
              "  </tbody>\n",
              "</table>\n",
              "</div>"
            ],
            "text/plain": [
              "                                                                                                                                          text  \\\n",
              "9538  The Week's Gainers and Losers on the Stoxx Europe 50 --Dec. 2-6 #economy #MarketScreener https://t.co/iK5MO4NhQq https://t.co/AJh5V5fWTT   \n",
              "9539                                                                       Tupperware Brands among consumer gainers; Unilever leads the losers   \n",
              "9540                                                 vTv Therapeutics leads healthcare gainers; Myomo and Biohaven Pharmaceutical among losers   \n",
              "9541                                                                                           WORK, XPO, PYX and AMKR among after hour movers   \n",
              "9542                                                                                                    YNDX, I, QD and OESX among tech movers   \n",
              "\n",
              "      label  word_count  \\\n",
              "9538      2          16   \n",
              "9539      2           9   \n",
              "9540      2          11   \n",
              "9541      2           9   \n",
              "9542      2           8   \n",
              "\n",
              "                                                                                         text_cleaned  \n",
              "9538                                               [weeks, gainers, losers, stoxx, europe, 50dec, 26]  \n",
              "9539                          [tupperware, brands, among, consumer, gainers, unilever, leads, losers]  \n",
              "9540  [vtv, therapeutics, leads, healthcare, gainers, myomo, biohaven, pharmaceutical, among, losers]  \n",
              "9541                                                      [work, xpo, pyx, amkr, among, hour, movers]  \n",
              "9542                                                            [yndx, qd, oesx, among, tech, movers]  "
            ]
          },
          "execution_count": 20,
          "metadata": {},
          "output_type": "execute_result"
        }
      ],
      "source": [
        "data_train.tail()"
      ]
    },
    {
      "cell_type": "markdown",
      "metadata": {
        "id": "q4SOndBvDbMJ"
      },
      "source": [
        "## 1.4) Lemmatization"
      ]
    },
    {
      "cell_type": "markdown",
      "metadata": {
        "id": "sEKZp8KqDbMJ"
      },
      "source": [
        "Stemmer and Lemmatizer"
      ]
    },
    {
      "cell_type": "markdown",
      "metadata": {
        "id": "HrY6WxImDbMJ"
      },
      "source": [
        "Analyzing differences between Stemmer and Lemmatizer"
      ]
    },
    {
      "cell_type": "code",
      "execution_count": 21,
      "metadata": {
        "id": "VgMMsG9XDbMJ"
      },
      "outputs": [],
      "source": [
        "from nltk.stem import SnowballStemmer\n",
        "from nltk.stem.wordnet import WordNetLemmatizer\n",
        "\n",
        "stemmer = SnowballStemmer('english')\n",
        "lemma = WordNetLemmatizer()"
      ]
    },
    {
      "cell_type": "code",
      "execution_count": 22,
      "metadata": {
        "id": "roe98YfpDbMJ"
      },
      "outputs": [],
      "source": [
        "list_of_words = data_train['text_cleaned'][0]"
      ]
    },
    {
      "cell_type": "code",
      "execution_count": 23,
      "metadata": {
        "colab": {
          "base_uri": "https://localhost:8080/"
        },
        "id": "VRVqFKOiDbMJ",
        "outputId": "2a9d1daa-d882-46c3-b050-aeebe11eb413"
      },
      "outputs": [
        {
          "name": "stderr",
          "output_type": "stream",
          "text": [
            "[nltk_data] Downloading package wordnet to\n",
            "[nltk_data]     C:\\Users\\tbellas\\AppData\\Roaming\\nltk_data...\n",
            "[nltk_data]   Package wordnet is already up-to-date!\n"
          ]
        },
        {
          "name": "stdout",
          "output_type": "stream",
          "text": [
            "['jpmorgan', 'reels', 'expectations', 'beyond', 'meat']\n",
            "Lemma of jpmorgan is jpmorgan\n",
            "Stem of jpmorgan is jpmorgan\n",
            "--------------------New word----------------\n",
            "['jpmorgan', 'reels', 'expectations', 'beyond', 'meat']\n",
            "Lemma of reels is reel\n",
            "Stem of reels is reel\n",
            "--------------------New word----------------\n",
            "['jpmorgan', 'reels', 'expectations', 'beyond', 'meat']\n",
            "Lemma of expectations is expectation\n",
            "Stem of expectations is expect\n",
            "--------------------New word----------------\n",
            "['jpmorgan', 'reels', 'expectations', 'beyond', 'meat']\n",
            "Lemma of beyond is beyond\n",
            "Stem of beyond is beyond\n",
            "--------------------New word----------------\n",
            "['jpmorgan', 'reels', 'expectations', 'beyond', 'meat']\n",
            "Lemma of meat is meat\n",
            "Stem of meat is meat\n",
            "--------------------New word----------------\n"
          ]
        }
      ],
      "source": [
        "import nltk\n",
        "nltk.download('wordnet')\n",
        "for word in list_of_words:\n",
        "    print(list_of_words)\n",
        "    print(f\"Lemma of {word} is {lemma.lemmatize(word)}\")\n",
        "    print(f\"Stem of {word} is {stemmer.stem(word)}\")\n",
        "    print('--------------------New word----------------')"
      ]
    },
    {
      "cell_type": "code",
      "execution_count": 24,
      "metadata": {
        "id": "a8wY5qFnDbMK"
      },
      "outputs": [],
      "source": [
        "# Function Lemma\n",
        "def apply_lemma(text):\n",
        "    lemmatizer = WordNetLemmatizer()\n",
        "    lemma_words = [lemmatizer.lemmatize(word) for word in text]\n",
        "    return ' '.join(lemma_words)"
      ]
    },
    {
      "cell_type": "code",
      "execution_count": 25,
      "metadata": {
        "colab": {
          "base_uri": "https://localhost:8080/"
        },
        "id": "z4gVQfDbDbMK",
        "outputId": "7af29a2f-c7f3-4d4e-850c-ba9e940b3af9"
      },
      "outputs": [
        {
          "name": "stderr",
          "output_type": "stream",
          "text": [
            "100%|██████████| 9543/9543 [00:00<00:00, 14433.82it/s]\n"
          ]
        }
      ],
      "source": [
        "# After applying Lemm, add the column with the new words\n",
        "data_train['lemma_text'] = data_train['text_cleaned'].progress_apply(apply_lemma)"
      ]
    },
    {
      "cell_type": "code",
      "execution_count": 26,
      "metadata": {
        "colab": {
          "base_uri": "https://localhost:8080/",
          "height": 0
        },
        "id": "S66ZfzMiDbMK",
        "outputId": "abcc51bf-7945-437f-fb78-bad11a4284ae"
      },
      "outputs": [
        {
          "data": {
            "text/html": [
              "<div>\n",
              "<style scoped>\n",
              "    .dataframe tbody tr th:only-of-type {\n",
              "        vertical-align: middle;\n",
              "    }\n",
              "\n",
              "    .dataframe tbody tr th {\n",
              "        vertical-align: top;\n",
              "    }\n",
              "\n",
              "    .dataframe thead th {\n",
              "        text-align: right;\n",
              "    }\n",
              "</style>\n",
              "<table border=\"1\" class=\"dataframe\">\n",
              "  <thead>\n",
              "    <tr style=\"text-align: right;\">\n",
              "      <th></th>\n",
              "      <th>text</th>\n",
              "      <th>label</th>\n",
              "      <th>word_count</th>\n",
              "      <th>text_cleaned</th>\n",
              "      <th>lemma_text</th>\n",
              "    </tr>\n",
              "  </thead>\n",
              "  <tbody>\n",
              "    <tr>\n",
              "      <th>0</th>\n",
              "      <td>$BYND - JPMorgan reels in expectations on Beyond Meat https://t.co/bd0xbFGjkT</td>\n",
              "      <td>0</td>\n",
              "      <td>10</td>\n",
              "      <td>[jpmorgan, reels, expectations, beyond, meat]</td>\n",
              "      <td>jpmorgan reel expectation beyond meat</td>\n",
              "    </tr>\n",
              "    <tr>\n",
              "      <th>1</th>\n",
              "      <td>$CCL $RCL - Nomura points to bookings weakness at Carnival and Royal Caribbean https://t.co/yGjpT2ReD3</td>\n",
              "      <td>0</td>\n",
              "      <td>14</td>\n",
              "      <td>[nomura, points, bookings, weakness, carnival, royal, caribbean]</td>\n",
              "      <td>nomura point booking weakness carnival royal caribbean</td>\n",
              "    </tr>\n",
              "    <tr>\n",
              "      <th>2</th>\n",
              "      <td>$CX - Cemex cut at Credit Suisse, J.P. Morgan on weak building outlook https://t.co/KN1g4AWFIb</td>\n",
              "      <td>0</td>\n",
              "      <td>14</td>\n",
              "      <td>[cemex, cut, credit, suisse, jp, morgan, weak, building, outlook]</td>\n",
              "      <td>cemex cut credit suisse jp morgan weak building outlook</td>\n",
              "    </tr>\n",
              "    <tr>\n",
              "      <th>3</th>\n",
              "      <td>$ESS: BTIG Research cuts to Neutral https://t.co/MCyfTsXc2N</td>\n",
              "      <td>0</td>\n",
              "      <td>7</td>\n",
              "      <td>[btig, research, cuts, neutral]</td>\n",
              "      <td>btig research cut neutral</td>\n",
              "    </tr>\n",
              "    <tr>\n",
              "      <th>4</th>\n",
              "      <td>$FNKO - Funko slides after Piper Jaffray PT cut https://t.co/z37IJmCQzB</td>\n",
              "      <td>0</td>\n",
              "      <td>10</td>\n",
              "      <td>[funko, slides, piper, jaffray, pt, cut]</td>\n",
              "      <td>funko slide piper jaffray pt cut</td>\n",
              "    </tr>\n",
              "  </tbody>\n",
              "</table>\n",
              "</div>"
            ],
            "text/plain": [
              "                                                                                                     text  \\\n",
              "0                           $BYND - JPMorgan reels in expectations on Beyond Meat https://t.co/bd0xbFGjkT   \n",
              "1  $CCL $RCL - Nomura points to bookings weakness at Carnival and Royal Caribbean https://t.co/yGjpT2ReD3   \n",
              "2          $CX - Cemex cut at Credit Suisse, J.P. Morgan on weak building outlook https://t.co/KN1g4AWFIb   \n",
              "3                                             $ESS: BTIG Research cuts to Neutral https://t.co/MCyfTsXc2N   \n",
              "4                                 $FNKO - Funko slides after Piper Jaffray PT cut https://t.co/z37IJmCQzB   \n",
              "\n",
              "   label  word_count  \\\n",
              "0      0          10   \n",
              "1      0          14   \n",
              "2      0          14   \n",
              "3      0           7   \n",
              "4      0          10   \n",
              "\n",
              "                                                        text_cleaned  \\\n",
              "0                      [jpmorgan, reels, expectations, beyond, meat]   \n",
              "1   [nomura, points, bookings, weakness, carnival, royal, caribbean]   \n",
              "2  [cemex, cut, credit, suisse, jp, morgan, weak, building, outlook]   \n",
              "3                                    [btig, research, cuts, neutral]   \n",
              "4                           [funko, slides, piper, jaffray, pt, cut]   \n",
              "\n",
              "                                                lemma_text  \n",
              "0                    jpmorgan reel expectation beyond meat  \n",
              "1   nomura point booking weakness carnival royal caribbean  \n",
              "2  cemex cut credit suisse jp morgan weak building outlook  \n",
              "3                                btig research cut neutral  \n",
              "4                         funko slide piper jaffray pt cut  "
            ]
          },
          "execution_count": 26,
          "metadata": {},
          "output_type": "execute_result"
        }
      ],
      "source": [
        "data_train.head()"
      ]
    },
    {
      "cell_type": "code",
      "execution_count": 27,
      "metadata": {
        "colab": {
          "base_uri": "https://localhost:8080/",
          "height": 0
        },
        "id": "T1P_UK7sDbMK",
        "outputId": "8061f266-e36a-402d-e6a4-38721e9ec6a0"
      },
      "outputs": [
        {
          "data": {
            "text/html": [
              "<div>\n",
              "<style scoped>\n",
              "    .dataframe tbody tr th:only-of-type {\n",
              "        vertical-align: middle;\n",
              "    }\n",
              "\n",
              "    .dataframe tbody tr th {\n",
              "        vertical-align: top;\n",
              "    }\n",
              "\n",
              "    .dataframe thead th {\n",
              "        text-align: right;\n",
              "    }\n",
              "</style>\n",
              "<table border=\"1\" class=\"dataframe\">\n",
              "  <thead>\n",
              "    <tr style=\"text-align: right;\">\n",
              "      <th></th>\n",
              "      <th>text</th>\n",
              "      <th>label</th>\n",
              "      <th>word_count</th>\n",
              "      <th>text_cleaned</th>\n",
              "      <th>lemma_text</th>\n",
              "    </tr>\n",
              "  </thead>\n",
              "  <tbody>\n",
              "    <tr>\n",
              "      <th>9538</th>\n",
              "      <td>The Week's Gainers and Losers on the Stoxx Europe 50 --Dec. 2-6 #economy #MarketScreener https://t.co/iK5MO4NhQq https://t.co/AJh5V5fWTT</td>\n",
              "      <td>2</td>\n",
              "      <td>16</td>\n",
              "      <td>[weeks, gainers, losers, stoxx, europe, 50dec, 26]</td>\n",
              "      <td>week gainer loser stoxx europe 50dec 26</td>\n",
              "    </tr>\n",
              "    <tr>\n",
              "      <th>9539</th>\n",
              "      <td>Tupperware Brands among consumer gainers; Unilever leads the losers</td>\n",
              "      <td>2</td>\n",
              "      <td>9</td>\n",
              "      <td>[tupperware, brands, among, consumer, gainers, unilever, leads, losers]</td>\n",
              "      <td>tupperware brand among consumer gainer unilever lead loser</td>\n",
              "    </tr>\n",
              "    <tr>\n",
              "      <th>9540</th>\n",
              "      <td>vTv Therapeutics leads healthcare gainers; Myomo and Biohaven Pharmaceutical among losers</td>\n",
              "      <td>2</td>\n",
              "      <td>11</td>\n",
              "      <td>[vtv, therapeutics, leads, healthcare, gainers, myomo, biohaven, pharmaceutical, among, losers]</td>\n",
              "      <td>vtv therapeutic lead healthcare gainer myomo biohaven pharmaceutical among loser</td>\n",
              "    </tr>\n",
              "    <tr>\n",
              "      <th>9541</th>\n",
              "      <td>WORK, XPO, PYX and AMKR among after hour movers</td>\n",
              "      <td>2</td>\n",
              "      <td>9</td>\n",
              "      <td>[work, xpo, pyx, amkr, among, hour, movers]</td>\n",
              "      <td>work xpo pyx amkr among hour mover</td>\n",
              "    </tr>\n",
              "    <tr>\n",
              "      <th>9542</th>\n",
              "      <td>YNDX, I, QD and OESX among tech movers</td>\n",
              "      <td>2</td>\n",
              "      <td>8</td>\n",
              "      <td>[yndx, qd, oesx, among, tech, movers]</td>\n",
              "      <td>yndx qd oesx among tech mover</td>\n",
              "    </tr>\n",
              "  </tbody>\n",
              "</table>\n",
              "</div>"
            ],
            "text/plain": [
              "                                                                                                                                          text  \\\n",
              "9538  The Week's Gainers and Losers on the Stoxx Europe 50 --Dec. 2-6 #economy #MarketScreener https://t.co/iK5MO4NhQq https://t.co/AJh5V5fWTT   \n",
              "9539                                                                       Tupperware Brands among consumer gainers; Unilever leads the losers   \n",
              "9540                                                 vTv Therapeutics leads healthcare gainers; Myomo and Biohaven Pharmaceutical among losers   \n",
              "9541                                                                                           WORK, XPO, PYX and AMKR among after hour movers   \n",
              "9542                                                                                                    YNDX, I, QD and OESX among tech movers   \n",
              "\n",
              "      label  word_count  \\\n",
              "9538      2          16   \n",
              "9539      2           9   \n",
              "9540      2          11   \n",
              "9541      2           9   \n",
              "9542      2           8   \n",
              "\n",
              "                                                                                         text_cleaned  \\\n",
              "9538                                               [weeks, gainers, losers, stoxx, europe, 50dec, 26]   \n",
              "9539                          [tupperware, brands, among, consumer, gainers, unilever, leads, losers]   \n",
              "9540  [vtv, therapeutics, leads, healthcare, gainers, myomo, biohaven, pharmaceutical, among, losers]   \n",
              "9541                                                      [work, xpo, pyx, amkr, among, hour, movers]   \n",
              "9542                                                            [yndx, qd, oesx, among, tech, movers]   \n",
              "\n",
              "                                                                            lemma_text  \n",
              "9538                                           week gainer loser stoxx europe 50dec 26  \n",
              "9539                        tupperware brand among consumer gainer unilever lead loser  \n",
              "9540  vtv therapeutic lead healthcare gainer myomo biohaven pharmaceutical among loser  \n",
              "9541                                                work xpo pyx amkr among hour mover  \n",
              "9542                                                     yndx qd oesx among tech mover  "
            ]
          },
          "execution_count": 27,
          "metadata": {},
          "output_type": "execute_result"
        }
      ],
      "source": [
        "data_train.tail()"
      ]
    },
    {
      "cell_type": "code",
      "execution_count": 28,
      "metadata": {
        "id": "FrBj6F6ODbMK"
      },
      "outputs": [],
      "source": [
        "data_train['text_cleaned'] = data_train['lemma_text']"
      ]
    },
    {
      "cell_type": "code",
      "execution_count": 29,
      "metadata": {
        "id": "6BpNouTUDbML"
      },
      "outputs": [],
      "source": [
        "data_train.drop('lemma_text', axis=1, inplace=True)\n"
      ]
    },
    {
      "cell_type": "code",
      "execution_count": 30,
      "metadata": {
        "colab": {
          "base_uri": "https://localhost:8080/",
          "height": 0
        },
        "id": "w47i9slFDbML",
        "outputId": "5db7487f-02b6-4f76-bf8b-116695cf38c0"
      },
      "outputs": [
        {
          "data": {
            "text/html": [
              "<div>\n",
              "<style scoped>\n",
              "    .dataframe tbody tr th:only-of-type {\n",
              "        vertical-align: middle;\n",
              "    }\n",
              "\n",
              "    .dataframe tbody tr th {\n",
              "        vertical-align: top;\n",
              "    }\n",
              "\n",
              "    .dataframe thead th {\n",
              "        text-align: right;\n",
              "    }\n",
              "</style>\n",
              "<table border=\"1\" class=\"dataframe\">\n",
              "  <thead>\n",
              "    <tr style=\"text-align: right;\">\n",
              "      <th></th>\n",
              "      <th>text</th>\n",
              "      <th>label</th>\n",
              "      <th>word_count</th>\n",
              "      <th>text_cleaned</th>\n",
              "    </tr>\n",
              "  </thead>\n",
              "  <tbody>\n",
              "    <tr>\n",
              "      <th>0</th>\n",
              "      <td>$BYND - JPMorgan reels in expectations on Beyond Meat https://t.co/bd0xbFGjkT</td>\n",
              "      <td>0</td>\n",
              "      <td>10</td>\n",
              "      <td>jpmorgan reel expectation beyond meat</td>\n",
              "    </tr>\n",
              "    <tr>\n",
              "      <th>1</th>\n",
              "      <td>$CCL $RCL - Nomura points to bookings weakness at Carnival and Royal Caribbean https://t.co/yGjpT2ReD3</td>\n",
              "      <td>0</td>\n",
              "      <td>14</td>\n",
              "      <td>nomura point booking weakness carnival royal caribbean</td>\n",
              "    </tr>\n",
              "    <tr>\n",
              "      <th>2</th>\n",
              "      <td>$CX - Cemex cut at Credit Suisse, J.P. Morgan on weak building outlook https://t.co/KN1g4AWFIb</td>\n",
              "      <td>0</td>\n",
              "      <td>14</td>\n",
              "      <td>cemex cut credit suisse jp morgan weak building outlook</td>\n",
              "    </tr>\n",
              "    <tr>\n",
              "      <th>3</th>\n",
              "      <td>$ESS: BTIG Research cuts to Neutral https://t.co/MCyfTsXc2N</td>\n",
              "      <td>0</td>\n",
              "      <td>7</td>\n",
              "      <td>btig research cut neutral</td>\n",
              "    </tr>\n",
              "    <tr>\n",
              "      <th>4</th>\n",
              "      <td>$FNKO - Funko slides after Piper Jaffray PT cut https://t.co/z37IJmCQzB</td>\n",
              "      <td>0</td>\n",
              "      <td>10</td>\n",
              "      <td>funko slide piper jaffray pt cut</td>\n",
              "    </tr>\n",
              "  </tbody>\n",
              "</table>\n",
              "</div>"
            ],
            "text/plain": [
              "                                                                                                     text  \\\n",
              "0                           $BYND - JPMorgan reels in expectations on Beyond Meat https://t.co/bd0xbFGjkT   \n",
              "1  $CCL $RCL - Nomura points to bookings weakness at Carnival and Royal Caribbean https://t.co/yGjpT2ReD3   \n",
              "2          $CX - Cemex cut at Credit Suisse, J.P. Morgan on weak building outlook https://t.co/KN1g4AWFIb   \n",
              "3                                             $ESS: BTIG Research cuts to Neutral https://t.co/MCyfTsXc2N   \n",
              "4                                 $FNKO - Funko slides after Piper Jaffray PT cut https://t.co/z37IJmCQzB   \n",
              "\n",
              "   label  word_count                                             text_cleaned  \n",
              "0      0          10                    jpmorgan reel expectation beyond meat  \n",
              "1      0          14   nomura point booking weakness carnival royal caribbean  \n",
              "2      0          14  cemex cut credit suisse jp morgan weak building outlook  \n",
              "3      0           7                                btig research cut neutral  \n",
              "4      0          10                         funko slide piper jaffray pt cut  "
            ]
          },
          "execution_count": 30,
          "metadata": {},
          "output_type": "execute_result"
        }
      ],
      "source": [
        "data_train.head()"
      ]
    },
    {
      "cell_type": "code",
      "execution_count": 31,
      "metadata": {
        "colab": {
          "base_uri": "https://localhost:8080/"
        },
        "id": "bn9u4RzsUttt",
        "outputId": "bd9a9336-f7f6-477a-a9b7-ebbcba4f3a1b"
      },
      "outputs": [
        {
          "name": "stderr",
          "output_type": "stream",
          "text": [
            "100%|██████████| 9543/9543 [00:01<00:00, 5438.70it/s]\n"
          ]
        }
      ],
      "source": [
        "data_train['text_cleaned'] = data_train['text_cleaned'].progress_apply(word_tokenize)"
      ]
    },
    {
      "cell_type": "code",
      "execution_count": 32,
      "metadata": {
        "colab": {
          "base_uri": "https://localhost:8080/",
          "height": 0
        },
        "id": "tI8CSIctUtwi",
        "outputId": "6ece7e55-3699-4a81-b805-23024ee8c3ee"
      },
      "outputs": [
        {
          "data": {
            "text/html": [
              "<div>\n",
              "<style scoped>\n",
              "    .dataframe tbody tr th:only-of-type {\n",
              "        vertical-align: middle;\n",
              "    }\n",
              "\n",
              "    .dataframe tbody tr th {\n",
              "        vertical-align: top;\n",
              "    }\n",
              "\n",
              "    .dataframe thead th {\n",
              "        text-align: right;\n",
              "    }\n",
              "</style>\n",
              "<table border=\"1\" class=\"dataframe\">\n",
              "  <thead>\n",
              "    <tr style=\"text-align: right;\">\n",
              "      <th></th>\n",
              "      <th>text</th>\n",
              "      <th>label</th>\n",
              "      <th>word_count</th>\n",
              "      <th>text_cleaned</th>\n",
              "    </tr>\n",
              "  </thead>\n",
              "  <tbody>\n",
              "    <tr>\n",
              "      <th>0</th>\n",
              "      <td>$BYND - JPMorgan reels in expectations on Beyond Meat https://t.co/bd0xbFGjkT</td>\n",
              "      <td>0</td>\n",
              "      <td>10</td>\n",
              "      <td>[jpmorgan, reel, expectation, beyond, meat]</td>\n",
              "    </tr>\n",
              "    <tr>\n",
              "      <th>1</th>\n",
              "      <td>$CCL $RCL - Nomura points to bookings weakness at Carnival and Royal Caribbean https://t.co/yGjpT2ReD3</td>\n",
              "      <td>0</td>\n",
              "      <td>14</td>\n",
              "      <td>[nomura, point, booking, weakness, carnival, royal, caribbean]</td>\n",
              "    </tr>\n",
              "    <tr>\n",
              "      <th>2</th>\n",
              "      <td>$CX - Cemex cut at Credit Suisse, J.P. Morgan on weak building outlook https://t.co/KN1g4AWFIb</td>\n",
              "      <td>0</td>\n",
              "      <td>14</td>\n",
              "      <td>[cemex, cut, credit, suisse, jp, morgan, weak, building, outlook]</td>\n",
              "    </tr>\n",
              "    <tr>\n",
              "      <th>3</th>\n",
              "      <td>$ESS: BTIG Research cuts to Neutral https://t.co/MCyfTsXc2N</td>\n",
              "      <td>0</td>\n",
              "      <td>7</td>\n",
              "      <td>[btig, research, cut, neutral]</td>\n",
              "    </tr>\n",
              "    <tr>\n",
              "      <th>4</th>\n",
              "      <td>$FNKO - Funko slides after Piper Jaffray PT cut https://t.co/z37IJmCQzB</td>\n",
              "      <td>0</td>\n",
              "      <td>10</td>\n",
              "      <td>[funko, slide, piper, jaffray, pt, cut]</td>\n",
              "    </tr>\n",
              "  </tbody>\n",
              "</table>\n",
              "</div>"
            ],
            "text/plain": [
              "                                                                                                     text  \\\n",
              "0                           $BYND - JPMorgan reels in expectations on Beyond Meat https://t.co/bd0xbFGjkT   \n",
              "1  $CCL $RCL - Nomura points to bookings weakness at Carnival and Royal Caribbean https://t.co/yGjpT2ReD3   \n",
              "2          $CX - Cemex cut at Credit Suisse, J.P. Morgan on weak building outlook https://t.co/KN1g4AWFIb   \n",
              "3                                             $ESS: BTIG Research cuts to Neutral https://t.co/MCyfTsXc2N   \n",
              "4                                 $FNKO - Funko slides after Piper Jaffray PT cut https://t.co/z37IJmCQzB   \n",
              "\n",
              "   label  word_count  \\\n",
              "0      0          10   \n",
              "1      0          14   \n",
              "2      0          14   \n",
              "3      0           7   \n",
              "4      0          10   \n",
              "\n",
              "                                                        text_cleaned  \n",
              "0                        [jpmorgan, reel, expectation, beyond, meat]  \n",
              "1     [nomura, point, booking, weakness, carnival, royal, caribbean]  \n",
              "2  [cemex, cut, credit, suisse, jp, morgan, weak, building, outlook]  \n",
              "3                                     [btig, research, cut, neutral]  \n",
              "4                            [funko, slide, piper, jaffray, pt, cut]  "
            ]
          },
          "execution_count": 32,
          "metadata": {},
          "output_type": "execute_result"
        }
      ],
      "source": [
        "data_train.head()"
      ]
    },
    {
      "cell_type": "code",
      "execution_count": 33,
      "metadata": {
        "colab": {
          "base_uri": "https://localhost:8080/"
        },
        "id": "SvTSeZ1CX70R",
        "outputId": "4d7d02a4-0081-4441-e478-a8fe3b62265d"
      },
      "outputs": [
        {
          "data": {
            "text/plain": [
              "0                                                       [jpmorgan, reel, expectation, beyond, meat]\n",
              "1                                    [nomura, point, booking, weakness, carnival, royal, caribbean]\n",
              "2                                 [cemex, cut, credit, suisse, jp, morgan, weak, building, outlook]\n",
              "3                                                                    [btig, research, cut, neutral]\n",
              "4                                                           [funko, slide, piper, jaffray, pt, cut]\n",
              "                                                   ...                                             \n",
              "9538                                                [week, gainer, loser, stoxx, europe, 50dec, 26]\n",
              "9539                            [tupperware, brand, among, consumer, gainer, unilever, lead, loser]\n",
              "9540    [vtv, therapeutic, lead, healthcare, gainer, myomo, biohaven, pharmaceutical, among, loser]\n",
              "9541                                                     [work, xpo, pyx, amkr, among, hour, mover]\n",
              "9542                                                           [yndx, qd, oesx, among, tech, mover]\n",
              "Name: text_cleaned, Length: 9543, dtype: object"
            ]
          },
          "execution_count": 33,
          "metadata": {},
          "output_type": "execute_result"
        }
      ],
      "source": [
        "data_train['text_cleaned']"
      ]
    },
    {
      "cell_type": "markdown",
      "metadata": {
        "id": "6oMbtz3xVgtJ"
      },
      "source": [
        "___________________________________________________________________________________________"
      ]
    },
    {
      "cell_type": "markdown",
      "metadata": {
        "id": "FKJLv6shDbML"
      },
      "source": [
        "Stemming\n",
        "\n",
        "We decide to move forward with Lemmatization due to when we compared both sentences chances we notice some loss of meaning in Lemmatization output"
      ]
    },
    {
      "cell_type": "code",
      "execution_count": 34,
      "metadata": {
        "colab": {
          "base_uri": "https://localhost:8080/",
          "height": 0
        },
        "id": "STD8oPcYDbML",
        "outputId": "cb9c3039-2d9c-4426-8ffc-4c3f31ed8ddf"
      },
      "outputs": [
        {
          "data": {
            "text/plain": [
              "\"\\ndef apply_stemming(text):\\n    stemmer = SnowballStemmer('english')\\n    stemmed_words = [stemmer.stem(word) for word in text]\\n    return ' '.join(stemmed_words)\\n\\n# After applying stem, add the column with the new words\\ndata_train['Stemmed_text'] = data_train['Text_Cleaned_Without_stop_words'].apply(apply_stemming)\\n\""
            ]
          },
          "execution_count": 34,
          "metadata": {},
          "output_type": "execute_result"
        }
      ],
      "source": [
        "# Function Stemming\n",
        "\"\"\"\n",
        "def apply_stemming(text):\n",
        "    stemmer = SnowballStemmer('english')\n",
        "    stemmed_words = [stemmer.stem(word) for word in text]\n",
        "    return ' '.join(stemmed_words)\n",
        "\n",
        "# After applying stem, add the column with the new words\n",
        "data_train['Stemmed_text'] = data_train['Text_Cleaned_Without_stop_words'].apply(apply_stemming)\n",
        "\"\"\""
      ]
    },
    {
      "cell_type": "markdown",
      "metadata": {},
      "source": [
        "# 2) Features engineering functions"
      ]
    },
    {
      "cell_type": "markdown",
      "metadata": {
        "id": "ToJPZ6I_EszG"
      },
      "source": [
        "## 2.1) Bag-of-Words"
      ]
    },
    {
      "cell_type": "code",
      "execution_count": 35,
      "metadata": {
        "id": "SJfAvHvMWIZj"
      },
      "outputs": [],
      "source": [
        "corpus = data_train['text_cleaned']"
      ]
    },
    {
      "cell_type": "code",
      "execution_count": 36,
      "metadata": {
        "id": "9ARGfOYAWIe3"
      },
      "outputs": [],
      "source": [
        "from sklearn.feature_extraction.text import CountVectorizer"
      ]
    },
    {
      "cell_type": "code",
      "execution_count": 37,
      "metadata": {
        "id": "-2A5Sk7bYTTx"
      },
      "outputs": [],
      "source": [
        "# create a fit_cv function used to build the Bag-of-Word vectorizer with the corpus\n",
        "def fit_cv(tweet_corpus):\n",
        "  cv_vect = CountVectorizer(tokenizer=lambda x: x,\n",
        "                           preprocessor=lambda x: x)\n",
        "  cv_vect.fit(tweet_corpus)\n",
        "  return cv_vect"
      ]
    },
    {
      "cell_type": "code",
      "execution_count": 38,
      "metadata": {
        "colab": {
          "base_uri": "https://localhost:8080/"
        },
        "id": "4HKJkG1DYTWV",
        "outputId": "cb2d8018-3bbf-4c89-e2ce-f69c29023232"
      },
      "outputs": [],
      "source": [
        "# Use the fit_cv function to fit the vectorizer on the corpus\n",
        "cv_vect = fit_cv(corpus)"
      ]
    },
    {
      "cell_type": "code",
      "execution_count": 39,
      "metadata": {
        "id": "D1R_FJuLWIhO"
      },
      "outputs": [],
      "source": [
        "# Get the vectorizer features (matrix columns)\n",
        "ft = cv_vect.get_feature_names_out()"
      ]
    },
    {
      "cell_type": "code",
      "execution_count": 40,
      "metadata": {
        "colab": {
          "base_uri": "https://localhost:8080/"
        },
        "id": "YdKVUEtabIuk",
        "outputId": "0775c31e-b38b-4e9c-d4c6-736b4f2742a7"
      },
      "outputs": [
        {
          "name": "stdout",
          "output_type": "stream",
          "text": [
            "There are 14460 features in this corpus\n",
            "['0' '00' '000' ... 'zyen' 'zynex' 'zynga']\n"
          ]
        }
      ],
      "source": [
        "print('There are {} features in this corpus'.format(len(ft)))\n",
        "print(ft)"
      ]
    },
    {
      "cell_type": "code",
      "execution_count": 41,
      "metadata": {
        "id": "XrwNIXDhbIzz"
      },
      "outputs": [],
      "source": [
        "# Convert the corpus to a matrix by using the vectorize\n",
        "cv_mtx = cv_vect.transform(corpus)"
      ]
    },
    {
      "cell_type": "code",
      "execution_count": 42,
      "metadata": {
        "colab": {
          "base_uri": "https://localhost:8080/"
        },
        "id": "r_nYgFc5bfyu",
        "outputId": "553209b5-a2ee-46d1-efea-032b6243b2ec"
      },
      "outputs": [
        {
          "name": "stdout",
          "output_type": "stream",
          "text": [
            "Matrix shape is: (9543, 14460)\n"
          ]
        }
      ],
      "source": [
        "# print the matrix shape\n",
        "print('Matrix shape is: {}'.format(cv_mtx.shape))"
      ]
    },
    {
      "cell_type": "code",
      "execution_count": 43,
      "metadata": {
        "colab": {
          "base_uri": "https://localhost:8080/"
        },
        "id": "E6OV7SWQbf1L",
        "outputId": "988a41d9-e596-465d-bcbd-fab5982f6842"
      },
      "outputs": [
        {
          "data": {
            "text/plain": [
              "array([[0, 0, 0, ..., 0, 0, 0],\n",
              "       [0, 0, 0, ..., 0, 0, 0],\n",
              "       [0, 0, 0, ..., 0, 0, 0],\n",
              "       ...,\n",
              "       [0, 0, 0, ..., 0, 0, 0],\n",
              "       [0, 0, 0, ..., 0, 0, 0],\n",
              "       [0, 0, 0, ..., 0, 0, 0]], dtype=int64)"
            ]
          },
          "execution_count": 43,
          "metadata": {},
          "output_type": "execute_result"
        }
      ],
      "source": [
        "# convert the matrix to an array\n",
        "cv_mtx.toarray()"
      ]
    },
    {
      "cell_type": "markdown",
      "metadata": {
        "id": "qgk3JmqJd4Ga"
      },
      "source": [
        "## 2.2) TF-IDF"
      ]
    },
    {
      "cell_type": "code",
      "execution_count": 44,
      "metadata": {
        "id": "xu_Jagf5dHko"
      },
      "outputs": [],
      "source": [
        "from sklearn.feature_extraction.text import TfidfVectorizer"
      ]
    },
    {
      "cell_type": "code",
      "execution_count": 45,
      "metadata": {
        "id": "z_FxNaTjdHnN"
      },
      "outputs": [],
      "source": [
        "# create a fit_tfidf function to build the TF-IDF vectorizer with the corpus\n",
        "def fit_tfidf(tweet_corpus):\n",
        "  tf_vect = TfidfVectorizer(preprocessor = lambda x: x,\n",
        "                            tokenizer = lambda x: x)\n",
        "  tf_vect.fit(tweet_corpus)\n",
        "  return tf_vect"
      ]
    },
    {
      "cell_type": "code",
      "execution_count": 46,
      "metadata": {
        "id": "Ep7ig2eydHpV"
      },
      "outputs": [],
      "source": [
        "# Use the fit_cv function to fit  the vectorizer on the corpus, and transform the corpus\n",
        "tf_vect = fit_tfidf(corpus)\n",
        "tf_mtx = tf_vect.transform(corpus)"
      ]
    },
    {
      "cell_type": "code",
      "execution_count": 47,
      "metadata": {
        "id": "FQhRtDwNdHri"
      },
      "outputs": [],
      "source": [
        "# Get the vectorizer features (matrix columns)\n",
        "ft = tf_vect.get_feature_names_out()"
      ]
    },
    {
      "cell_type": "code",
      "execution_count": 48,
      "metadata": {
        "colab": {
          "base_uri": "https://localhost:8080/"
        },
        "id": "Po4aMNlYgW6i",
        "outputId": "0f531ee6-1588-4eef-ef0f-d9d125780dbd"
      },
      "outputs": [
        {
          "name": "stdout",
          "output_type": "stream",
          "text": [
            "There are 14460 features in this corpus\n",
            "['0' '00' '000' ... 'zyen' 'zynex' 'zynga']\n"
          ]
        }
      ],
      "source": [
        "print('There are {} features in this corpus'.format(len(ft)))\n",
        "print(ft)"
      ]
    },
    {
      "cell_type": "code",
      "execution_count": 49,
      "metadata": {
        "colab": {
          "base_uri": "https://localhost:8080/"
        },
        "id": "pVaAoSjIgW9B",
        "outputId": "43f8b3f4-92c0-49f6-b0e3-d966fc83a8bc"
      },
      "outputs": [
        {
          "name": "stdout",
          "output_type": "stream",
          "text": [
            "(9543, 14460)\n"
          ]
        }
      ],
      "source": [
        "# print the matrix shape\n",
        "print(tf_mtx.shape)"
      ]
    },
    {
      "cell_type": "code",
      "execution_count": 50,
      "metadata": {
        "colab": {
          "base_uri": "https://localhost:8080/"
        },
        "id": "KCAx2uWSgW_M",
        "outputId": "de573bf2-5b40-400c-df3d-7538090456c2"
      },
      "outputs": [
        {
          "data": {
            "text/plain": [
              "array([[0., 0., 0., ..., 0., 0., 0.],\n",
              "       [0., 0., 0., ..., 0., 0., 0.],\n",
              "       [0., 0., 0., ..., 0., 0., 0.],\n",
              "       ...,\n",
              "       [0., 0., 0., ..., 0., 0., 0.],\n",
              "       [0., 0., 0., ..., 0., 0., 0.],\n",
              "       [0., 0., 0., ..., 0., 0., 0.]])"
            ]
          },
          "execution_count": 50,
          "metadata": {},
          "output_type": "execute_result"
        }
      ],
      "source": [
        "# convert the matrix to an array\n",
        "tf_mtx.toarray()"
      ]
    },
    {
      "cell_type": "markdown",
      "metadata": {
        "id": "UKfrek8oYh5b"
      },
      "source": [
        "## 2.3) Word2Vec"
      ]
    },
    {
      "cell_type": "code",
      "execution_count": 51,
      "metadata": {
        "id": "40l8MYOmfl94"
      },
      "outputs": [],
      "source": [
        "import gensim.downloader"
      ]
    },
    {
      "cell_type": "markdown",
      "metadata": {
        "id": "5fUX85ZJfl95"
      },
      "source": [
        "### Set model \"glove-twitter-25\""
      ]
    },
    {
      "cell_type": "code",
      "execution_count": 52,
      "metadata": {
        "colab": {
          "base_uri": "https://localhost:8080/"
        },
        "id": "r8D9_0UJfl95",
        "outputId": "559bd67e-108c-4f44-9b03-7801596c8644"
      },
      "outputs": [],
      "source": [
        "w2v = gensim.downloader.load('glove-twitter-25')"
      ]
    },
    {
      "cell_type": "markdown",
      "metadata": {
        "id": "OcsEQ6vgfl95"
      },
      "source": [
        "### Model Input with Word2vec | 'glove-twitter-25'"
      ]
    },
    {
      "cell_type": "code",
      "execution_count": 53,
      "metadata": {
        "id": "lzoQ1Sr9fl95"
      },
      "outputs": [],
      "source": [
        "def word_2_vec(corpus, w2v_model, vector_size):\n",
        "    doc_vec = []\n",
        "\n",
        "    for document in tqdm(corpus):\n",
        "        sentence_vector = np.zeros(vector_size)\n",
        "        count = 0\n",
        "\n",
        "        for word in document:\n",
        "            if word in w2v_model.index_to_key:\n",
        "                count += 1\n",
        "                sentence_vector = np.add(sentence_vector, w2v_model.word_vec(word))\n",
        "\n",
        "        # Check if count is higher than zero before the average\n",
        "        if count > 0:\n",
        "            avg_vector = sentence_vector / count\n",
        "        else:\n",
        "            avg_vector = sentence_vector\n",
        "\n",
        "        doc_vec.append(avg_vector)\n",
        "\n",
        "    return np.array(doc_vec)\n"
      ]
    },
    {
      "cell_type": "markdown",
      "metadata": {
        "id": "xX00_sVgJVOQ"
      },
      "source": [
        "# 3) Train and test split"
      ]
    },
    {
      "cell_type": "markdown",
      "metadata": {},
      "source": [
        "### 3.1) Original dataset"
      ]
    },
    {
      "cell_type": "code",
      "execution_count": 54,
      "metadata": {
        "id": "ULX4u9BvJa_t"
      },
      "outputs": [],
      "source": [
        "# Splitting features X and y to train\n",
        "from sklearn.model_selection import train_test_split\n",
        "\n",
        "X = data_train['text_cleaned']\n",
        "y = data_train['label']\n",
        "\n",
        "X_train, X_test, y_train, y_test = train_test_split(X, y, test_size=0.20, random_state=4)"
      ]
    },
    {
      "cell_type": "code",
      "execution_count": 55,
      "metadata": {},
      "outputs": [
        {
          "data": {
            "image/png": "[encoded data removed]",
            "text/plain": [
              "<Figure size 576x396 with 1 Axes>"
            ]
          },
          "metadata": {},
          "output_type": "display_data"
        },
        {
          "name": "stdout",
          "output_type": "stream",
          "text": [
            "The classification is splited in 3 buckets: [0 1 2]:\n",
            "0 - Bearish\n",
            "1 - Bullish\n",
            "2 - Neutral\n",
            "Total 0 - Bearish in data train: 1165\n",
            "Total 1 - Bullish in data train: 1545\n",
            "Total 2 - Neutral in data train: 4924\n"
          ]
        }
      ],
      "source": [
        "# Plot 1\n",
        "sentimento = ClassBalance(labels=['Bearish', 'Bullish', 'Neutral'])\n",
        "sentimento.fit(y_train)\n",
        "sentimento.ax.grid(False)\n",
        "\n",
        "sentimento.show();\n",
        "\n",
        "\n",
        "\n",
        "# Visualizing the unique values from Target Variable\n",
        "print(f\"The classification is splited in 3 buckets: {(data_train['label']).unique()}:\\n0 - Bearish\\n1 - Bullish\\n2 - Neutral\")\n",
        "print(f\"Total 0 - Bearish in data train: {y_train.eq(0).sum()}\")\n",
        "print(f\"Total 1 - Bullish in data train: {y_train.eq(1).sum()}\")\n",
        "print(f\"Total 2 - Neutral in data train: {y_train.eq(2).sum()}\")"
      ]
    },
    {
      "cell_type": "code",
      "execution_count": 56,
      "metadata": {
        "colab": {
          "base_uri": "https://localhost:8080/"
        },
        "id": "0Mqdxu4Yjk-P",
        "outputId": "1c6fa1bf-8671-4478-e17a-6b1d77aa279c"
      },
      "outputs": [
        {
          "name": "stdout",
          "output_type": "stream",
          "text": [
            "Shape of x_train: (7634,)\n",
            "Shape of y_train: (7634,)\n",
            "\n",
            "Shape of x_test: (1909,)\n",
            "Shape of y_test: (1909,)\n"
          ]
        }
      ],
      "source": [
        "# Display the shapes of the training and testing sets for features and target variable\n",
        "print(f\"Shape of x_train: {X_train.shape}\")\n",
        "print(f\"Shape of y_train: {y_train.shape}\")\n",
        "print('')\n",
        "print(f\"Shape of x_test: {X_test.shape}\")\n",
        "print(f\"Shape of y_test: {y_test.shape}\")"
      ]
    },
    {
      "cell_type": "code",
      "execution_count": 57,
      "metadata": {
        "colab": {
          "base_uri": "https://localhost:8080/"
        },
        "id": "83N42bnsHZnV",
        "outputId": "aeac2454-db8a-499b-e283-215a0b51942a"
      },
      "outputs": [
        {
          "name": "stdout",
          "output_type": "stream",
          "text": [
            "Train tweet: ['cybersecurity', 'expert', 'launch', 'crosspoint', 'capital', 'partner']\n",
            "Sentiment: 2\n"
          ]
        }
      ],
      "source": [
        "import random\n",
        "id = random.randint(0, len(X_train) - 1)\n",
        "print('Train tweet: {}'.format(X_train.iloc[id]))\n",
        "print('Sentiment: {}'.format(y_train.iloc[id]))"
      ]
    },
    {
      "cell_type": "markdown",
      "metadata": {},
      "source": [
        "### 3.2) Balanced Dataset"
      ]
    },
    {
      "cell_type": "code",
      "execution_count": 58,
      "metadata": {},
      "outputs": [],
      "source": [
        "from imblearn.under_sampling import RandomUnderSampler"
      ]
    },
    {
      "cell_type": "code",
      "execution_count": 59,
      "metadata": {},
      "outputs": [],
      "source": [
        "# Converter a Series para um array NumPy\n",
        "X_train_array = np.array(X_train).reshape(-1, 1)"
      ]
    },
    {
      "cell_type": "code",
      "execution_count": 60,
      "metadata": {},
      "outputs": [
        {
          "name": "stdout",
          "output_type": "stream",
          "text": [
            "Shape of x_train_resampled: (3495,)\n",
            "Shape of y_train_resampled: (3495,)\n"
          ]
        }
      ],
      "source": [
        "# Instanciar o objeto RandomUnderSampler\n",
        "under_sampler = RandomUnderSampler(sampling_strategy='auto', random_state=42)\n",
        "\n",
        "# Aplicar o under-sampling aos dados\n",
        "X_train_resampled, y_train_resampled = under_sampler.fit_resample(X_train_array.reshape(-1, 1), y_train)\n",
        "\n",
        "# Utilizar np.squeeze para remover a dimensão extra\n",
        "X_train_resampled = np.squeeze(X_train_resampled)\n",
        "\n",
        "# Verificar as novas formas dos dados\n",
        "print(\"Shape of x_train_resampled:\", X_train_resampled.shape)\n",
        "print(\"Shape of y_train_resampled:\", y_train_resampled.shape)\n"
      ]
    },
    {
      "cell_type": "code",
      "execution_count": 61,
      "metadata": {},
      "outputs": [
        {
          "data": {
            "image/png": "[encoded data removed]",
            "text/plain": [
              "<Figure size 576x396 with 1 Axes>"
            ]
          },
          "metadata": {},
          "output_type": "display_data"
        },
        {
          "name": "stdout",
          "output_type": "stream",
          "text": [
            "The classification is splited in 3 buckets: [0 1 2]:\n",
            "0 - Bearish\n",
            "1 - Bullish\n",
            "2 - Neutral\n",
            "Total 0 - Bearish in data train: 1165\n",
            "Total 1 - Bullish in data train: 1165\n",
            "Total 2 - Neutral in data train: 1165\n"
          ]
        }
      ],
      "source": [
        "# Plot 1\n",
        "sentimento = ClassBalance(labels=['Bearish', 'Bullish', 'Neutral'])\n",
        "sentimento.fit(y_train_resampled)\n",
        "sentimento.ax.grid(False)\n",
        "\n",
        "sentimento.show();\n",
        "\n",
        "\n",
        "\n",
        "# Visualizing the unique values from Target Variable\n",
        "print(f\"The classification is splited in 3 buckets: {(y_train_resampled).unique()}:\\n0 - Bearish\\n1 - Bullish\\n2 - Neutral\")\n",
        "print(f\"Total 0 - Bearish in data train: {y_train_resampled.eq(0).sum()}\")\n",
        "print(f\"Total 1 - Bullish in data train: {y_train_resampled.eq(1).sum()}\")\n",
        "print(f\"Total 2 - Neutral in data train: {y_train_resampled.eq(2).sum()}\")"
      ]
    },
    {
      "cell_type": "markdown",
      "metadata": {
        "id": "WTrbLPp_DbMN"
      },
      "source": [
        "# 4) Classification models"
      ]
    },
    {
      "cell_type": "markdown",
      "metadata": {
        "id": "9pKaDBWn9QCd"
      },
      "source": [
        "This function will be used to plot the confusion matrix for the different models we will create"
      ]
    },
    {
      "cell_type": "code",
      "execution_count": 62,
      "metadata": {
        "id": "d6n00qa39cTs"
      },
      "outputs": [],
      "source": [
        "import seaborn as sn\n",
        "\n",
        "def plot_confusion(cm):\n",
        "  plt.figure(figsize = (5,5))\n",
        "  sn.heatmap(cm, annot=True, cmap=\"Blues\", fmt='.0f')\n",
        "  plt.xlabel(\"Prediction\")\n",
        "  plt.ylabel(\"True value\")\n",
        "  plt.title(\"Confusion Matrix\")\n",
        "  return sn"
      ]
    },
    {
      "cell_type": "markdown",
      "metadata": {
        "id": "IQrXBToIk2Tn"
      },
      "source": [
        "## 4.1) Logistic Regression (LR)"
      ]
    },
    {
      "cell_type": "code",
      "execution_count": 63,
      "metadata": {
        "id": "5bLAawYTkzU_"
      },
      "outputs": [],
      "source": [
        "from sklearn.linear_model import LogisticRegression"
      ]
    },
    {
      "cell_type": "code",
      "execution_count": 64,
      "metadata": {
        "id": "oItoZTEakzW-"
      },
      "outputs": [],
      "source": [
        "# Function to set and train the logistic regression model\n",
        "def fit_lr(X_train, y_train):\n",
        "  model = LogisticRegression(max_iter=1000, solver='lbfgs')\n",
        "  model.fit(X_train, y_train)\n",
        "  return model"
      ]
    },
    {
      "cell_type": "markdown",
      "metadata": {
        "id": "l4azocQsk6iO"
      },
      "source": [
        "### Model construction"
      ]
    },
    {
      "cell_type": "markdown",
      "metadata": {
        "id": "Kw7I4Uvnfl99"
      },
      "source": [
        "##### Training the model with Bag of Words"
      ]
    },
    {
      "cell_type": "markdown",
      "metadata": {},
      "source": [
        "###### Original dataset"
      ]
    },
    {
      "cell_type": "code",
      "execution_count": 65,
      "metadata": {
        "colab": {
          "base_uri": "https://localhost:8080/"
        },
        "id": "h3iimmaDkzZX",
        "outputId": "22279d9d-9d6a-4554-f0ae-29fd4db8efec"
      },
      "outputs": [],
      "source": [
        "# Use the function above (1.5 Bag of Words) to fit and train data to build the Bag-of-Words vectorizer\n",
        "cv = fit_cv(X_train)\n",
        "X_train_BoW = cv.transform(X_train)\n",
        "X_test_BoW = cv.transform(X_test)"
      ]
    },
    {
      "cell_type": "code",
      "execution_count": 66,
      "metadata": {
        "id": "9J-zZbwLkzdC"
      },
      "outputs": [],
      "source": [
        "# Call the Logistic Regression function to fit it with BoW data\n",
        "model_lr_BoW = fit_lr(X_train_BoW, y_train)"
      ]
    },
    {
      "cell_type": "markdown",
      "metadata": {},
      "source": [
        "###### Balanced Dataset"
      ]
    },
    {
      "cell_type": "code",
      "execution_count": 67,
      "metadata": {},
      "outputs": [],
      "source": [
        "# Use the function above (1.5 Bag of Words) to fit and train data to build the Bag-of-Words vectorizer\n",
        "cv = fit_cv(X_train_resampled)\n",
        "X_train_resampled_BoW = cv.transform(X_train_resampled)\n",
        "X_test_resambled_BoW = cv.transform(X_test)"
      ]
    },
    {
      "cell_type": "code",
      "execution_count": 68,
      "metadata": {},
      "outputs": [],
      "source": [
        "# Call the Logistic Regression function to fit it with BoW data\n",
        "model_lr_BoW_resample = fit_lr(X_train_resampled_BoW, y_train_resampled)"
      ]
    },
    {
      "cell_type": "markdown",
      "metadata": {
        "id": "cMXdxcirfl9-"
      },
      "source": [
        "##### Training the model with TF-IDF"
      ]
    },
    {
      "cell_type": "markdown",
      "metadata": {},
      "source": [
        "###### Original Dataset"
      ]
    },
    {
      "cell_type": "code",
      "execution_count": 69,
      "metadata": {
        "colab": {
          "base_uri": "https://localhost:8080/"
        },
        "id": "leGUjC0OnLvt",
        "outputId": "e0ff4dde-b50c-45ec-bd4a-6db3925a7ce5"
      },
      "outputs": [],
      "source": [
        "# Use the function above (1.6 Bag of Words) to fit and train data to build the TF-IDF vectorizer\n",
        "tf = fit_tfidf(X_train)\n",
        "X_train_tf = tf.transform(X_train)\n",
        "X_test_tf = tf.transform(X_test)"
      ]
    },
    {
      "cell_type": "code",
      "execution_count": 70,
      "metadata": {
        "id": "Sw3QCvHlnLyj"
      },
      "outputs": [],
      "source": [
        "# # Call the Logistic Regression function to fit it with TF-IDF data\n",
        "model_lr_tf = fit_lr(X_train_tf, y_train)"
      ]
    },
    {
      "cell_type": "markdown",
      "metadata": {},
      "source": [
        "###### Balanced Dataset"
      ]
    },
    {
      "cell_type": "code",
      "execution_count": 71,
      "metadata": {},
      "outputs": [],
      "source": [
        "# Use the function above (1.6 Bag of Words) to fit and train data to build the TF-IDF vectorizer\n",
        "tf = fit_tfidf(X_train_resampled)\n",
        "X_train_resambled_tf = tf.transform(X_train_resampled)\n",
        "X_test_resampled_tf = tf.transform(X_test)"
      ]
    },
    {
      "cell_type": "code",
      "execution_count": 72,
      "metadata": {},
      "outputs": [],
      "source": [
        "# # Call the Logistic Regression function to fit it with TF-IDF data\n",
        "model_lr_tf_resampled = fit_lr(X_train_resambled_tf, y_train_resampled)"
      ]
    },
    {
      "cell_type": "markdown",
      "metadata": {
        "id": "RSVn-7NHfl-A"
      },
      "source": [
        "##### Training the model with Word2Vec"
      ]
    },
    {
      "cell_type": "markdown",
      "metadata": {},
      "source": [
        "###### Original Dataset"
      ]
    },
    {
      "cell_type": "code",
      "execution_count": 73,
      "metadata": {
        "id": "zVv6VKH4fl-A"
      },
      "outputs": [],
      "source": [
        "# Splitting features X_w2v and y_w2v to train\n",
        "\n",
        "X_w2v = data_train['text_cleaned']\n",
        "y_w2v = data_train['label']\n",
        "\n",
        "X_train_w2v, X_test_w2v, y_train_w2v, y_test_w2v = train_test_split(X_w2v, y_w2v, test_size=0.20, random_state=4)"
      ]
    },
    {
      "cell_type": "code",
      "execution_count": 74,
      "metadata": {
        "colab": {
          "base_uri": "https://localhost:8080/"
        },
        "id": "uh1_HL2Dfl-A",
        "outputId": "7823b0c3-3690-45c5-ee5c-f5c2c0ab50ec"
      },
      "outputs": [
        {
          "name": "stderr",
          "output_type": "stream",
          "text": [
            "100%|██████████| 7634/7634 [05:04<00:00, 25.03it/s]\n"
          ]
        }
      ],
      "source": [
        "X_train_clean_w2v = word_2_vec(X_train_w2v, w2v, 25)"
      ]
    },
    {
      "cell_type": "code",
      "execution_count": 75,
      "metadata": {
        "colab": {
          "base_uri": "https://localhost:8080/"
        },
        "id": "4nF_xHWPfl-B",
        "outputId": "31d3bc72-8190-43de-e119-1126f36f2ad1"
      },
      "outputs": [
        {
          "name": "stderr",
          "output_type": "stream",
          "text": [
            "100%|██████████| 1909/1909 [01:07<00:00, 28.21it/s]\n"
          ]
        }
      ],
      "source": [
        "X_test_clean_w2v = word_2_vec(X_test_w2v, w2v, 25)"
      ]
    },
    {
      "cell_type": "code",
      "execution_count": 76,
      "metadata": {
        "colab": {
          "base_uri": "https://localhost:8080/"
        },
        "id": "1x56O2s8fl-B",
        "outputId": "21461625-d307-4a64-b4ba-3394eeb2455c"
      },
      "outputs": [
        {
          "data": {
            "text/plain": [
              "7634"
            ]
          },
          "execution_count": 76,
          "metadata": {},
          "output_type": "execute_result"
        }
      ],
      "source": [
        "len(X_train_clean_w2v)"
      ]
    },
    {
      "cell_type": "code",
      "execution_count": 77,
      "metadata": {
        "colab": {
          "base_uri": "https://localhost:8080/"
        },
        "id": "rtkl07h3fl-C",
        "outputId": "15b0f504-f80b-47a6-acd1-48aacae2a2aa"
      },
      "outputs": [
        {
          "data": {
            "text/plain": [
              "1909"
            ]
          },
          "execution_count": 77,
          "metadata": {},
          "output_type": "execute_result"
        }
      ],
      "source": [
        "len(X_test_clean_w2v)"
      ]
    },
    {
      "cell_type": "code",
      "execution_count": 78,
      "metadata": {
        "colab": {
          "base_uri": "https://localhost:8080/"
        },
        "id": "JA0RoFWgfl-C",
        "outputId": "d98c6e31-e919-441a-bebc-c9e61e633a7d"
      },
      "outputs": [
        {
          "data": {
            "text/plain": [
              "array([-0.3936478 ,  0.35705493, -0.20627699, -0.09910221,  0.19857941,\n",
              "       -0.3869817 ,  0.3608987 , -1.23232099,  0.21991201,  0.125033  ,\n",
              "        0.11569831,  0.2455684 , -2.63159997,  0.3087019 ,  0.221879  ,\n",
              "       -0.01767   ,  0.31652931,  0.0440096 ,  0.20839219, -0.236234  ,\n",
              "        0.217271  ,  0.5556793 , -0.17920431, -0.98827098, -0.37602401])"
            ]
          },
          "execution_count": 78,
          "metadata": {},
          "output_type": "execute_result"
        }
      ],
      "source": [
        "X_train_clean_w2v[200]"
      ]
    },
    {
      "cell_type": "code",
      "execution_count": 79,
      "metadata": {
        "colab": {
          "base_uri": "https://localhost:8080/"
        },
        "id": "sEHgOSgFfl-C",
        "outputId": "a9c0932b-8507-441b-8c29-c12f2557f651"
      },
      "outputs": [
        {
          "data": {
            "text/plain": [
              "array([ 0.19097267,  0.97596666, -0.70926482, -0.31577301,  0.41967434,\n",
              "       -0.52180733,  0.39057934, -1.17470413,  0.0736285 , -0.35210312,\n",
              "       -0.10724167,  0.21018666, -2.61571666,  0.59693167,  0.419174  ,\n",
              "       -0.19373167, -0.24670333,  0.03424484,  0.58229833, -0.45993667,\n",
              "       -0.38334333, -0.171598  , -0.47331184, -0.40500516, -0.68421435])"
            ]
          },
          "execution_count": 79,
          "metadata": {},
          "output_type": "execute_result"
        }
      ],
      "source": [
        "X_test_clean_w2v[0]"
      ]
    },
    {
      "cell_type": "code",
      "execution_count": 80,
      "metadata": {},
      "outputs": [],
      "source": [
        "log_reg_w2v = LogisticRegression(max_iter=1000, solver='lbfgs')"
      ]
    },
    {
      "cell_type": "code",
      "execution_count": 81,
      "metadata": {},
      "outputs": [
        {
          "data": {
            "text/html": [
              "<style>#sk-container-id-1 {color: black;}#sk-container-id-1 pre{padding: 0;}#sk-container-id-1 div.sk-toggleable {background-color: white;}#sk-container-id-1 label.sk-toggleable__label {cursor: pointer;display: block;width: 100%;margin-bottom: 0;padding: 0.3em;box-sizing: border-box;text-align: center;}#sk-container-id-1 label.sk-toggleable__label-arrow:before {content: \"▸\";float: left;margin-right: 0.25em;color: #696969;}#sk-container-id-1 label.sk-toggleable__label-arrow:hover:before {color: black;}#sk-container-id-1 div.sk-estimator:hover label.sk-toggleable__label-arrow:before {color: black;}#sk-container-id-1 div.sk-toggleable__content {max-height: 0;max-width: 0;overflow: hidden;text-align: left;background-color: #f0f8ff;}#sk-container-id-1 div.sk-toggleable__content pre {margin: 0.2em;color: black;border-radius: 0.25em;background-color: #f0f8ff;}#sk-container-id-1 input.sk-toggleable__control:checked~div.sk-toggleable__content {max-height: 200px;max-width: 100%;overflow: auto;}#sk-container-id-1 input.sk-toggleable__control:checked~label.sk-toggleable__label-arrow:before {content: \"▾\";}#sk-container-id-1 div.sk-estimator input.sk-toggleable__control:checked~label.sk-toggleable__label {background-color: #d4ebff;}#sk-container-id-1 div.sk-label input.sk-toggleable__control:checked~label.sk-toggleable__label {background-color: #d4ebff;}#sk-container-id-1 input.sk-hidden--visually {border: 0;clip: rect(1px 1px 1px 1px);clip: rect(1px, 1px, 1px, 1px);height: 1px;margin: -1px;overflow: hidden;padding: 0;position: absolute;width: 1px;}#sk-container-id-1 div.sk-estimator {font-family: monospace;background-color: #f0f8ff;border: 1px dotted black;border-radius: 0.25em;box-sizing: border-box;margin-bottom: 0.5em;}#sk-container-id-1 div.sk-estimator:hover {background-color: #d4ebff;}#sk-container-id-1 div.sk-parallel-item::after {content: \"\";width: 100%;border-bottom: 1px solid gray;flex-grow: 1;}#sk-container-id-1 div.sk-label:hover label.sk-toggleable__label {background-color: #d4ebff;}#sk-container-id-1 div.sk-serial::before {content: \"\";position: absolute;border-left: 1px solid gray;box-sizing: border-box;top: 0;bottom: 0;left: 50%;z-index: 0;}#sk-container-id-1 div.sk-serial {display: flex;flex-direction: column;align-items: center;background-color: white;padding-right: 0.2em;padding-left: 0.2em;position: relative;}#sk-container-id-1 div.sk-item {position: relative;z-index: 1;}#sk-container-id-1 div.sk-parallel {display: flex;align-items: stretch;justify-content: center;background-color: white;position: relative;}#sk-container-id-1 div.sk-item::before, #sk-container-id-1 div.sk-parallel-item::before {content: \"\";position: absolute;border-left: 1px solid gray;box-sizing: border-box;top: 0;bottom: 0;left: 50%;z-index: -1;}#sk-container-id-1 div.sk-parallel-item {display: flex;flex-direction: column;z-index: 1;position: relative;background-color: white;}#sk-container-id-1 div.sk-parallel-item:first-child::after {align-self: flex-end;width: 50%;}#sk-container-id-1 div.sk-parallel-item:last-child::after {align-self: flex-start;width: 50%;}#sk-container-id-1 div.sk-parallel-item:only-child::after {width: 0;}#sk-container-id-1 div.sk-dashed-wrapped {border: 1px dashed gray;margin: 0 0.4em 0.5em 0.4em;box-sizing: border-box;padding-bottom: 0.4em;background-color: white;}#sk-container-id-1 div.sk-label label {font-family: monospace;font-weight: bold;display: inline-block;line-height: 1.2em;}#sk-container-id-1 div.sk-label-container {text-align: center;}#sk-container-id-1 div.sk-container {/* jupyter's `normalize.less` sets `[hidden] { display: none; }` but bootstrap.min.css set `[hidden] { display: none !important; }` so we also need the `!important` here to be able to override the default hidden behavior on the sphinx rendered scikit-learn.org. See: https://github.com/scikit-learn/scikit-learn/issues/21755 */display: inline-block !important;position: relative;}#sk-container-id-1 div.sk-text-repr-fallback {display: none;}</style><div id=\"sk-container-id-1\" class=\"sk-top-container\"><div class=\"sk-text-repr-fallback\"><pre>LogisticRegression(max_iter=1000)</pre><b>In a Jupyter environment, please rerun this cell to show the HTML representation or trust the notebook. <br />On GitHub, the HTML representation is unable to render, please try loading this page with nbviewer.org.</b></div><div class=\"sk-container\" hidden><div class=\"sk-item\"><div class=\"sk-estimator sk-toggleable\"><input class=\"sk-toggleable__control sk-hidden--visually\" id=\"sk-estimator-id-1\" type=\"checkbox\" checked><label for=\"sk-estimator-id-1\" class=\"sk-toggleable__label sk-toggleable__label-arrow\">LogisticRegression</label><div class=\"sk-toggleable__content\"><pre>LogisticRegression(max_iter=1000)</pre></div></div></div></div></div>"
            ],
            "text/plain": [
              "LogisticRegression(max_iter=1000)"
            ]
          },
          "execution_count": 81,
          "metadata": {},
          "output_type": "execute_result"
        }
      ],
      "source": [
        "log_reg_w2v.fit(X_train_clean_w2v, y_train)"
      ]
    },
    {
      "cell_type": "markdown",
      "metadata": {},
      "source": [
        "###### Balanced Dataset"
      ]
    },
    {
      "cell_type": "code",
      "execution_count": 82,
      "metadata": {},
      "outputs": [],
      "source": [
        "# Converter a Series para um array NumPy\n",
        "X_train_array = np.array(X_train_w2v).reshape(-1, 1)"
      ]
    },
    {
      "cell_type": "code",
      "execution_count": 83,
      "metadata": {},
      "outputs": [
        {
          "name": "stdout",
          "output_type": "stream",
          "text": [
            "Shape of x_train_resampled: (3495,)\n",
            "Shape of y_train_resampled: (3495,)\n"
          ]
        }
      ],
      "source": [
        "# Instanciar o objeto RandomUnderSampler\n",
        "under_sampler = RandomUnderSampler(sampling_strategy='auto', random_state=42)\n",
        "\n",
        "# Aplicar o under-sampling aos dados\n",
        "X_train_w2v_resampled, y_train_w2v_resampled = under_sampler.fit_resample(X_train_array.reshape(-1, 1), y_train_w2v)\n",
        "\n",
        "# Utilizar np.squeeze para remover a dimensão extra\n",
        "X_train_w2v_resampled = np.squeeze(X_train_w2v_resampled)\n",
        "\n",
        "# Verificar as novas formas dos dados\n",
        "print(\"Shape of x_train_resampled:\", X_train_w2v_resampled.shape)\n",
        "print(\"Shape of y_train_resampled:\", y_train_w2v_resampled.shape)"
      ]
    },
    {
      "cell_type": "code",
      "execution_count": 84,
      "metadata": {},
      "outputs": [
        {
          "name": "stderr",
          "output_type": "stream",
          "text": [
            "100%|██████████| 3495/3495 [02:16<00:00, 25.65it/s]\n"
          ]
        }
      ],
      "source": [
        "X_train_clean_w2v_resampled = word_2_vec(X_train_w2v_resampled, w2v, 25)"
      ]
    },
    {
      "cell_type": "code",
      "execution_count": 85,
      "metadata": {},
      "outputs": [
        {
          "data": {
            "text/plain": [
              "3495"
            ]
          },
          "execution_count": 85,
          "metadata": {},
          "output_type": "execute_result"
        }
      ],
      "source": [
        "len(X_train_clean_w2v_resampled)"
      ]
    },
    {
      "cell_type": "code",
      "execution_count": 86,
      "metadata": {},
      "outputs": [],
      "source": [
        "log_reg_w2v_resampled = LogisticRegression(max_iter=1000, solver='lbfgs')"
      ]
    },
    {
      "cell_type": "code",
      "execution_count": 87,
      "metadata": {},
      "outputs": [
        {
          "data": {
            "text/html": [
              "<style>#sk-container-id-2 {color: black;}#sk-container-id-2 pre{padding: 0;}#sk-container-id-2 div.sk-toggleable {background-color: white;}#sk-container-id-2 label.sk-toggleable__label {cursor: pointer;display: block;width: 100%;margin-bottom: 0;padding: 0.3em;box-sizing: border-box;text-align: center;}#sk-container-id-2 label.sk-toggleable__label-arrow:before {content: \"▸\";float: left;margin-right: 0.25em;color: #696969;}#sk-container-id-2 label.sk-toggleable__label-arrow:hover:before {color: black;}#sk-container-id-2 div.sk-estimator:hover label.sk-toggleable__label-arrow:before {color: black;}#sk-container-id-2 div.sk-toggleable__content {max-height: 0;max-width: 0;overflow: hidden;text-align: left;background-color: #f0f8ff;}#sk-container-id-2 div.sk-toggleable__content pre {margin: 0.2em;color: black;border-radius: 0.25em;background-color: #f0f8ff;}#sk-container-id-2 input.sk-toggleable__control:checked~div.sk-toggleable__content {max-height: 200px;max-width: 100%;overflow: auto;}#sk-container-id-2 input.sk-toggleable__control:checked~label.sk-toggleable__label-arrow:before {content: \"▾\";}#sk-container-id-2 div.sk-estimator input.sk-toggleable__control:checked~label.sk-toggleable__label {background-color: #d4ebff;}#sk-container-id-2 div.sk-label input.sk-toggleable__control:checked~label.sk-toggleable__label {background-color: #d4ebff;}#sk-container-id-2 input.sk-hidden--visually {border: 0;clip: rect(1px 1px 1px 1px);clip: rect(1px, 1px, 1px, 1px);height: 1px;margin: -1px;overflow: hidden;padding: 0;position: absolute;width: 1px;}#sk-container-id-2 div.sk-estimator {font-family: monospace;background-color: #f0f8ff;border: 1px dotted black;border-radius: 0.25em;box-sizing: border-box;margin-bottom: 0.5em;}#sk-container-id-2 div.sk-estimator:hover {background-color: #d4ebff;}#sk-container-id-2 div.sk-parallel-item::after {content: \"\";width: 100%;border-bottom: 1px solid gray;flex-grow: 1;}#sk-container-id-2 div.sk-label:hover label.sk-toggleable__label {background-color: #d4ebff;}#sk-container-id-2 div.sk-serial::before {content: \"\";position: absolute;border-left: 1px solid gray;box-sizing: border-box;top: 0;bottom: 0;left: 50%;z-index: 0;}#sk-container-id-2 div.sk-serial {display: flex;flex-direction: column;align-items: center;background-color: white;padding-right: 0.2em;padding-left: 0.2em;position: relative;}#sk-container-id-2 div.sk-item {position: relative;z-index: 1;}#sk-container-id-2 div.sk-parallel {display: flex;align-items: stretch;justify-content: center;background-color: white;position: relative;}#sk-container-id-2 div.sk-item::before, #sk-container-id-2 div.sk-parallel-item::before {content: \"\";position: absolute;border-left: 1px solid gray;box-sizing: border-box;top: 0;bottom: 0;left: 50%;z-index: -1;}#sk-container-id-2 div.sk-parallel-item {display: flex;flex-direction: column;z-index: 1;position: relative;background-color: white;}#sk-container-id-2 div.sk-parallel-item:first-child::after {align-self: flex-end;width: 50%;}#sk-container-id-2 div.sk-parallel-item:last-child::after {align-self: flex-start;width: 50%;}#sk-container-id-2 div.sk-parallel-item:only-child::after {width: 0;}#sk-container-id-2 div.sk-dashed-wrapped {border: 1px dashed gray;margin: 0 0.4em 0.5em 0.4em;box-sizing: border-box;padding-bottom: 0.4em;background-color: white;}#sk-container-id-2 div.sk-label label {font-family: monospace;font-weight: bold;display: inline-block;line-height: 1.2em;}#sk-container-id-2 div.sk-label-container {text-align: center;}#sk-container-id-2 div.sk-container {/* jupyter's `normalize.less` sets `[hidden] { display: none; }` but bootstrap.min.css set `[hidden] { display: none !important; }` so we also need the `!important` here to be able to override the default hidden behavior on the sphinx rendered scikit-learn.org. See: https://github.com/scikit-learn/scikit-learn/issues/21755 */display: inline-block !important;position: relative;}#sk-container-id-2 div.sk-text-repr-fallback {display: none;}</style><div id=\"sk-container-id-2\" class=\"sk-top-container\"><div class=\"sk-text-repr-fallback\"><pre>LogisticRegression(max_iter=1000)</pre><b>In a Jupyter environment, please rerun this cell to show the HTML representation or trust the notebook. <br />On GitHub, the HTML representation is unable to render, please try loading this page with nbviewer.org.</b></div><div class=\"sk-container\" hidden><div class=\"sk-item\"><div class=\"sk-estimator sk-toggleable\"><input class=\"sk-toggleable__control sk-hidden--visually\" id=\"sk-estimator-id-2\" type=\"checkbox\" checked><label for=\"sk-estimator-id-2\" class=\"sk-toggleable__label sk-toggleable__label-arrow\">LogisticRegression</label><div class=\"sk-toggleable__content\"><pre>LogisticRegression(max_iter=1000)</pre></div></div></div></div></div>"
            ],
            "text/plain": [
              "LogisticRegression(max_iter=1000)"
            ]
          },
          "execution_count": 87,
          "metadata": {},
          "output_type": "execute_result"
        }
      ],
      "source": [
        "log_reg_w2v_resampled.fit(X_train_clean_w2v_resampled, y_train_resampled)"
      ]
    },
    {
      "cell_type": "markdown",
      "metadata": {
        "id": "VSul4jRXopkY"
      },
      "source": [
        "### Performance metrics"
      ]
    },
    {
      "cell_type": "code",
      "execution_count": 88,
      "metadata": {
        "id": "jL_D313JoXdb"
      },
      "outputs": [],
      "source": [
        "from sklearn.metrics import accuracy_score\n",
        "from sklearn.metrics import confusion_matrix\n",
        "from sklearn.metrics import classification_report"
      ]
    },
    {
      "cell_type": "markdown",
      "metadata": {
        "id": "hqbz-hA6o6bF"
      },
      "source": [
        "#### BoW"
      ]
    },
    {
      "cell_type": "markdown",
      "metadata": {},
      "source": [
        "###### Original Dataset"
      ]
    },
    {
      "cell_type": "code",
      "execution_count": 89,
      "metadata": {
        "id": "eANoTcmoo8zV"
      },
      "outputs": [],
      "source": [
        "# use the fitted model_lr_cv (BoW) to predict X_text\n",
        "y_pred_lr_BoW = model_lr_BoW.predict(X_test_BoW)"
      ]
    },
    {
      "cell_type": "code",
      "execution_count": 90,
      "metadata": {
        "colab": {
          "base_uri": "https://localhost:8080/"
        },
        "id": "l5bRhh4wo82T",
        "outputId": "bd655c36-0613-4a28-f083-bad184e7d952"
      },
      "outputs": [
        {
          "name": "stdout",
          "output_type": "stream",
          "text": [
            "Logistic Regression Model Accuracy: 79.94%\n"
          ]
        }
      ],
      "source": [
        "print('Logistic Regression Model Accuracy: {:.2%}'.format(accuracy_score(y_test, y_pred_lr_BoW)))"
      ]
    },
    {
      "cell_type": "code",
      "execution_count": 91,
      "metadata": {
        "colab": {
          "base_uri": "https://localhost:8080/"
        },
        "id": "2-iulzJPXcad",
        "outputId": "15552fc4-4302-416a-ab15-707d3af96b16"
      },
      "outputs": [
        {
          "name": "stdout",
          "output_type": "stream",
          "text": [
            "              precision    recall  f1-score   support\n",
            "\n",
            "     Bearish       0.46      0.68      0.55       187\n",
            "     Bullish       0.60      0.74      0.66       307\n",
            "     Neutral       0.94      0.83      0.88      1415\n",
            "\n",
            "    accuracy                           0.80      1909\n",
            "   macro avg       0.66      0.75      0.70      1909\n",
            "weighted avg       0.83      0.80      0.81      1909\n",
            "\n"
          ]
        }
      ],
      "source": [
        "labels = {\"Bearish\":0, \"Bullish\":1, \"Neutral\":2}\n",
        "print(classification_report(y_pred_lr_BoW, y_test, target_names = labels.keys()))"
      ]
    },
    {
      "cell_type": "code",
      "execution_count": 92,
      "metadata": {
        "colab": {
          "base_uri": "https://localhost:8080/",
          "height": 485
        },
        "id": "xWh7A1JO8z4s",
        "outputId": "76b38adf-0225-45aa-db5f-20d9777516be"
      },
      "outputs": [
        {
          "data": {
            "image/png": "[encoded data removed]",
            "text/plain": [
              "<Figure size 360x360 with 2 Axes>"
            ]
          },
          "metadata": {},
          "output_type": "display_data"
        }
      ],
      "source": [
        "plot_confusion(confusion_matrix(y_test, y_pred_lr_BoW));"
      ]
    },
    {
      "cell_type": "markdown",
      "metadata": {},
      "source": [
        "###### Balanced Dataset"
      ]
    },
    {
      "cell_type": "code",
      "execution_count": 93,
      "metadata": {},
      "outputs": [],
      "source": [
        "y_pred_lr_BoW_resample = model_lr_BoW_resample.predict(X_test_resambled_BoW)"
      ]
    },
    {
      "cell_type": "code",
      "execution_count": 94,
      "metadata": {},
      "outputs": [
        {
          "name": "stdout",
          "output_type": "stream",
          "text": [
            "Logistic Regression Model Accuracy: 72.18%\n"
          ]
        }
      ],
      "source": [
        "print('Logistic Regression Model Accuracy: {:.2%}'.format(accuracy_score(y_test, y_pred_lr_BoW_resample)))"
      ]
    },
    {
      "cell_type": "code",
      "execution_count": 95,
      "metadata": {},
      "outputs": [
        {
          "name": "stdout",
          "output_type": "stream",
          "text": [
            "              precision    recall  f1-score   support\n",
            "\n",
            "     Bearish       0.67      0.44      0.53       421\n",
            "     Bullish       0.70      0.57      0.63       458\n",
            "     Neutral       0.74      0.90      0.81      1030\n",
            "\n",
            "    accuracy                           0.72      1909\n",
            "   macro avg       0.70      0.64      0.66      1909\n",
            "weighted avg       0.71      0.72      0.71      1909\n",
            "\n"
          ]
        }
      ],
      "source": [
        "labels = {\"Bearish\":0, \"Bullish\":1, \"Neutral\":2}\n",
        "print(classification_report(y_pred_lr_BoW_resample, y_test, target_names = labels.keys()))"
      ]
    },
    {
      "cell_type": "code",
      "execution_count": 96,
      "metadata": {},
      "outputs": [
        {
          "data": {
            "image/png": "[encoded data removed]",
            "text/plain": [
              "<Figure size 360x360 with 2 Axes>"
            ]
          },
          "metadata": {},
          "output_type": "display_data"
        }
      ],
      "source": [
        "plot_confusion(confusion_matrix(y_test, y_pred_lr_BoW_resample));"
      ]
    },
    {
      "cell_type": "markdown",
      "metadata": {
        "id": "aekWwPGJqtsa"
      },
      "source": [
        "#### TF_IDF"
      ]
    },
    {
      "cell_type": "markdown",
      "metadata": {},
      "source": [
        "###### Original Dataset"
      ]
    },
    {
      "cell_type": "code",
      "execution_count": 97,
      "metadata": {
        "id": "IzY2B1Xvqmf6"
      },
      "outputs": [],
      "source": [
        "# use the fitted model_lr_cv (BoW) to predict X_text\n",
        "y_pred_lr_tf = model_lr_tf.predict(X_test_tf)"
      ]
    },
    {
      "cell_type": "code",
      "execution_count": 98,
      "metadata": {
        "colab": {
          "base_uri": "https://localhost:8080/"
        },
        "id": "RwazNOxboXh8",
        "outputId": "cec4de4a-337c-4b2a-860a-55b8f7b4ea01"
      },
      "outputs": [
        {
          "name": "stdout",
          "output_type": "stream",
          "text": [
            "Logistic Regression Model Accuracy: 78.21%\n"
          ]
        }
      ],
      "source": [
        "print('Logistic Regression Model Accuracy: {:.2%}'.format(accuracy_score(y_test, y_pred_lr_tf)))"
      ]
    },
    {
      "cell_type": "code",
      "execution_count": 99,
      "metadata": {
        "colab": {
          "base_uri": "https://localhost:8080/"
        },
        "id": "CQVEhuOSXtin",
        "outputId": "3632ade1-11bd-48bc-9168-8ac889610b75"
      },
      "outputs": [
        {
          "name": "stdout",
          "output_type": "stream",
          "text": [
            "              precision    recall  f1-score   support\n",
            "\n",
            "     Bearish       0.35      0.75      0.48       130\n",
            "     Bullish       0.51      0.75      0.60       255\n",
            "     Neutral       0.96      0.79      0.87      1524\n",
            "\n",
            "    accuracy                           0.78      1909\n",
            "   macro avg       0.61      0.76      0.65      1909\n",
            "weighted avg       0.86      0.78      0.81      1909\n",
            "\n"
          ]
        }
      ],
      "source": [
        "labels = {\"Bearish\":0, \"Bullish\":1, \"Neutral\":2}\n",
        "print(classification_report(y_pred_lr_tf, y_test, target_names = labels.keys()))"
      ]
    },
    {
      "cell_type": "code",
      "execution_count": 100,
      "metadata": {
        "colab": {
          "base_uri": "https://localhost:8080/",
          "height": 485
        },
        "id": "oPt-Uv8g-E9F",
        "outputId": "dbeec9c1-d609-45b4-f7d9-967c2b2a4b80"
      },
      "outputs": [
        {
          "data": {
            "image/png": "[encoded data removed]",
            "text/plain": [
              "<Figure size 360x360 with 2 Axes>"
            ]
          },
          "metadata": {},
          "output_type": "display_data"
        }
      ],
      "source": [
        "plot_confusion(confusion_matrix(y_test, y_pred_lr_tf));"
      ]
    },
    {
      "cell_type": "markdown",
      "metadata": {},
      "source": [
        "###### Balanced Dataset"
      ]
    },
    {
      "cell_type": "code",
      "execution_count": 101,
      "metadata": {},
      "outputs": [],
      "source": [
        "# use the fitted model_lr_cv (BoW) to predict X_text\n",
        "y_pred_lr_tf_resampled = model_lr_tf_resampled.predict(X_test_resampled_tf)"
      ]
    },
    {
      "cell_type": "code",
      "execution_count": 102,
      "metadata": {},
      "outputs": [
        {
          "name": "stdout",
          "output_type": "stream",
          "text": [
            "Logistic Regression Model Accuracy: 73.07%\n"
          ]
        }
      ],
      "source": [
        "print('Logistic Regression Model Accuracy: {:.2%}'.format(accuracy_score(y_test, y_pred_lr_tf_resampled)))"
      ]
    },
    {
      "cell_type": "code",
      "execution_count": 103,
      "metadata": {},
      "outputs": [
        {
          "name": "stdout",
          "output_type": "stream",
          "text": [
            "              precision    recall  f1-score   support\n",
            "\n",
            "     Bearish       0.70      0.46      0.56       420\n",
            "     Bullish       0.70      0.58      0.63       455\n",
            "     Neutral       0.75      0.91      0.82      1034\n",
            "\n",
            "    accuracy                           0.73      1909\n",
            "   macro avg       0.71      0.65      0.67      1909\n",
            "weighted avg       0.73      0.73      0.72      1909\n",
            "\n"
          ]
        }
      ],
      "source": [
        "labels = {\"Bearish\":0, \"Bullish\":1, \"Neutral\":2}\n",
        "print(classification_report(y_pred_lr_tf_resampled, y_test, target_names = labels.keys()))"
      ]
    },
    {
      "cell_type": "code",
      "execution_count": 104,
      "metadata": {},
      "outputs": [
        {
          "data": {
            "image/png": "[encoded data removed]",
            "text/plain": [
              "<Figure size 360x360 with 2 Axes>"
            ]
          },
          "metadata": {},
          "output_type": "display_data"
        }
      ],
      "source": [
        "plot_confusion(confusion_matrix(y_test, y_pred_lr_tf_resampled));"
      ]
    },
    {
      "cell_type": "markdown",
      "metadata": {
        "id": "ZMQp88LhiKWL"
      },
      "source": [
        "#### Word2Vec"
      ]
    },
    {
      "cell_type": "markdown",
      "metadata": {},
      "source": [
        "###### Original Dataset"
      ]
    },
    {
      "cell_type": "code",
      "execution_count": 105,
      "metadata": {
        "id": "7vduDoP6fl-I"
      },
      "outputs": [],
      "source": [
        "y_pred_lr_w2c = log_reg_w2v.predict(X_test_clean_w2v)"
      ]
    },
    {
      "cell_type": "code",
      "execution_count": 106,
      "metadata": {
        "colab": {
          "base_uri": "https://localhost:8080/"
        },
        "id": "XUQIubcrfl-I",
        "outputId": "2c9f7573-7466-48c9-855c-adac1d9b342c"
      },
      "outputs": [
        {
          "name": "stdout",
          "output_type": "stream",
          "text": [
            "Logistic Regression Model with Word2Vec Accuracy: 67.52%\n"
          ]
        }
      ],
      "source": [
        "print('Logistic Regression Model with Word2Vec Accuracy: {:.2%}'.format(accuracy_score(y_test, y_pred_lr_w2c)))"
      ]
    },
    {
      "cell_type": "code",
      "execution_count": 107,
      "metadata": {
        "colab": {
          "base_uri": "https://localhost:8080/"
        },
        "id": "hb3d54zifl-J",
        "outputId": "0232745b-a8c1-4d6a-8fdd-484ddce5a29e"
      },
      "outputs": [
        {
          "name": "stdout",
          "output_type": "stream",
          "text": [
            "              precision    recall  f1-score   support\n",
            "\n",
            "     Bearish       0.06      0.35      0.10        49\n",
            "     Bullish       0.22      0.50      0.31       170\n",
            "     Neutral       0.95      0.70      0.81      1690\n",
            "\n",
            "    accuracy                           0.68      1909\n",
            "   macro avg       0.41      0.52      0.41      1909\n",
            "weighted avg       0.86      0.68      0.74      1909\n",
            "\n"
          ]
        }
      ],
      "source": [
        "labels = {\"Bearish\":0, \"Bullish\":1, \"Neutral\":2}\n",
        "print(classification_report(y_pred_lr_w2c, y_test, target_names = labels.keys()))"
      ]
    },
    {
      "cell_type": "code",
      "execution_count": 108,
      "metadata": {
        "colab": {
          "base_uri": "https://localhost:8080/",
          "height": 485
        },
        "id": "C5rSB2dIfl-J",
        "outputId": "18226701-f0bc-4324-c70f-a8139c57df4c"
      },
      "outputs": [
        {
          "data": {
            "image/png": "[encoded data removed]",
            "text/plain": [
              "<Figure size 360x360 with 2 Axes>"
            ]
          },
          "metadata": {},
          "output_type": "display_data"
        }
      ],
      "source": [
        "plot_confusion(confusion_matrix(y_test, y_pred_lr_w2c));"
      ]
    },
    {
      "cell_type": "markdown",
      "metadata": {},
      "source": [
        "###### Balanced Dataset"
      ]
    },
    {
      "cell_type": "code",
      "execution_count": 109,
      "metadata": {},
      "outputs": [],
      "source": [
        "y_pred_lr_w2c_resambled = log_reg_w2v.predict(X_test_clean_w2v)"
      ]
    },
    {
      "cell_type": "code",
      "execution_count": 110,
      "metadata": {},
      "outputs": [
        {
          "name": "stdout",
          "output_type": "stream",
          "text": [
            "Logistic Regression Model with Word2Vec Accuracy: 67.52%\n"
          ]
        }
      ],
      "source": [
        "print('Logistic Regression Model with Word2Vec Accuracy: {:.2%}'.format(accuracy_score(y_test, y_pred_lr_w2c_resambled)))"
      ]
    },
    {
      "cell_type": "code",
      "execution_count": 111,
      "metadata": {},
      "outputs": [
        {
          "name": "stdout",
          "output_type": "stream",
          "text": [
            "              precision    recall  f1-score   support\n",
            "\n",
            "     Bearish       0.06      0.35      0.10        49\n",
            "     Bullish       0.22      0.50      0.31       170\n",
            "     Neutral       0.95      0.70      0.81      1690\n",
            "\n",
            "    accuracy                           0.68      1909\n",
            "   macro avg       0.41      0.52      0.41      1909\n",
            "weighted avg       0.86      0.68      0.74      1909\n",
            "\n"
          ]
        }
      ],
      "source": [
        "labels = {\"Bearish\":0, \"Bullish\":1, \"Neutral\":2}\n",
        "print(classification_report(y_pred_lr_w2c_resambled, y_test, target_names = labels.keys()))"
      ]
    },
    {
      "cell_type": "code",
      "execution_count": 112,
      "metadata": {},
      "outputs": [
        {
          "data": {
            "image/png": "[encoded data removed]",
            "text/plain": [
              "<Figure size 360x360 with 2 Axes>"
            ]
          },
          "metadata": {},
          "output_type": "display_data"
        }
      ],
      "source": [
        "plot_confusion(confusion_matrix(y_test, y_pred_lr_w2c_resambled));"
      ]
    },
    {
      "cell_type": "markdown",
      "metadata": {
        "id": "9AzVdtfFGBIK"
      },
      "source": [
        "### Cross Validation (K-folds)"
      ]
    },
    {
      "cell_type": "code",
      "execution_count": 113,
      "metadata": {
        "colab": {
          "base_uri": "https://localhost:8080/"
        },
        "id": "sN-Pijaofl-K",
        "outputId": "a48bb154-0ec9-4572-f0da-dbffb2d1610c"
      },
      "outputs": [],
      "source": [
        "from sklearn.model_selection import cross_val_score, KFold\n",
        "\n",
        "def perform_cross_validation(model, X, y, representation_name):\n",
        "    kfold = KFold(n_splits=10, shuffle=True, random_state=5)\n",
        "    results = cross_val_score(model, X, y, cv=kfold)\n",
        "    average_accuracy = results.mean() * 100.0\n",
        "    print(f\"{representation_name} Average accuracy: {average_accuracy:.2f}%\")"
      ]
    },
    {
      "cell_type": "markdown",
      "metadata": {},
      "source": [
        "###### Original Dataset"
      ]
    },
    {
      "cell_type": "code",
      "execution_count": 114,
      "metadata": {},
      "outputs": [
        {
          "name": "stdout",
          "output_type": "stream",
          "text": [
            "BoW Average accuracy: 78.49%\n",
            "TF-IDF Average accuracy: 76.45%\n",
            "Word2Vec Average accuracy: 65.71%\n"
          ]
        }
      ],
      "source": [
        "# Assuming X_train_BoW, X_train_tf, X_train_clean_w2v are defined\n",
        "model = LogisticRegression(max_iter=1000, solver='sag')\n",
        "\n",
        "perform_cross_validation(model, X_train_BoW, y_train, \"BoW\")\n",
        "perform_cross_validation(model, X_train_tf, y_train, \"TF-IDF\")\n",
        "perform_cross_validation(model, X_train_clean_w2v, y_train, \"Word2Vec\")"
      ]
    },
    {
      "cell_type": "markdown",
      "metadata": {},
      "source": [
        "###### Balanced Dataset"
      ]
    },
    {
      "cell_type": "code",
      "execution_count": 115,
      "metadata": {},
      "outputs": [
        {
          "name": "stdout",
          "output_type": "stream",
          "text": [
            "BoW Balanced Dataset Average accuracy: 68.38%\n",
            "TF-IDF Balanced Dataset Average accuracy: 68.24%\n",
            "Word2Vec Balanced Dataset Average accuracy: 50.38%\n"
          ]
        }
      ],
      "source": [
        "perform_cross_validation(model, X_train_resampled_BoW, y_train_resampled, \"BoW Balanced Dataset\")\n",
        "perform_cross_validation(model, X_train_resambled_tf, y_train_resampled, \"TF-IDF Balanced Dataset\")\n",
        "perform_cross_validation(model, X_train_clean_w2v_resampled, y_train_resampled, \"Word2Vec Balanced Dataset\")"
      ]
    },
    {
      "cell_type": "markdown",
      "metadata": {
        "id": "Keg5ttVtI44t"
      },
      "source": [
        "## 4.2) K-Nearest Neighbors | KNN"
      ]
    },
    {
      "cell_type": "code",
      "execution_count": 116,
      "metadata": {
        "id": "ZfG54lD2LWhH"
      },
      "outputs": [],
      "source": [
        "from sklearn.neighbors import KNeighborsClassifier"
      ]
    },
    {
      "cell_type": "code",
      "execution_count": 117,
      "metadata": {
        "id": "4yyPP0MSJNYo"
      },
      "outputs": [],
      "source": [
        "def fit_knn(X_train, y_train):\n",
        "  model_knn = KNeighborsClassifier(n_neighbors = 10, metric = 'cosine', weights = 'distance')\n",
        "  model_knn.fit(X_train, y_train)\n",
        "  return model_knn"
      ]
    },
    {
      "cell_type": "markdown",
      "metadata": {
        "id": "pUcmRgt3JKk8"
      },
      "source": [
        "### Model construction"
      ]
    },
    {
      "cell_type": "markdown",
      "metadata": {},
      "source": [
        "##### Training the model with Bag of Words"
      ]
    },
    {
      "cell_type": "markdown",
      "metadata": {},
      "source": [
        "###### Original Dataset"
      ]
    },
    {
      "cell_type": "code",
      "execution_count": 118,
      "metadata": {
        "colab": {
          "base_uri": "https://localhost:8080/"
        },
        "id": "cqYbtbAUJNbS",
        "outputId": "6eeb86dd-3739-4c62-f972-b17de3d12f63"
      },
      "outputs": [],
      "source": [
        "# código igual ao da LR\n",
        "# use the fit_cv function on training data to build the Bag-of-Words vectorizer\n",
        "cv = fit_cv(X_train)\n",
        "X_train_BoW = cv.transform(X_train)\n",
        "X_test_BoW = cv.transform(X_test)"
      ]
    },
    {
      "cell_type": "code",
      "execution_count": 119,
      "metadata": {
        "id": "oRle3DXVJNd4"
      },
      "outputs": [],
      "source": [
        "# Fit the KNN model on training data by using the fit_knn function\n",
        "model_knn_BoW = fit_knn(X_train_BoW, y_train)"
      ]
    },
    {
      "cell_type": "markdown",
      "metadata": {},
      "source": [
        "###### Balanced Dataset"
      ]
    },
    {
      "cell_type": "code",
      "execution_count": 120,
      "metadata": {},
      "outputs": [],
      "source": [
        "# Call the Logistic Regression function to fit it with BoW data\n",
        "model_knn_BoW_resample = fit_knn(X_train_resampled_BoW, y_train_resampled)"
      ]
    },
    {
      "cell_type": "code",
      "execution_count": 121,
      "metadata": {},
      "outputs": [
        {
          "data": {
            "text/plain": [
              "(3495, 7343)"
            ]
          },
          "execution_count": 121,
          "metadata": {},
          "output_type": "execute_result"
        }
      ],
      "source": [
        "X_train_resampled_BoW.shape"
      ]
    },
    {
      "cell_type": "markdown",
      "metadata": {},
      "source": [
        "##### Training the model with TF-IDF"
      ]
    },
    {
      "cell_type": "markdown",
      "metadata": {},
      "source": [
        "###### Original Dataset"
      ]
    },
    {
      "cell_type": "code",
      "execution_count": 122,
      "metadata": {
        "colab": {
          "base_uri": "https://localhost:8080/"
        },
        "id": "gSaIyXYCNHEm",
        "outputId": "b67e7d9e-e744-49d4-b3bc-ea8b62a1ac9e"
      },
      "outputs": [],
      "source": [
        "# use the fit_cv function on training data to build the TF-IDF vectorizer\n",
        "tf = fit_tfidf(X_train)\n",
        "X_train_tf = tf.transform(X_train)\n",
        "X_test_tf = tf.transform(X_test)"
      ]
    },
    {
      "cell_type": "code",
      "execution_count": 123,
      "metadata": {
        "id": "E9L84jwSNHHS"
      },
      "outputs": [],
      "source": [
        "# Fit the KNN model on training data by using the fit_knn function\n",
        "model_knn_tf = fit_knn(X_train_tf, y_train)"
      ]
    },
    {
      "cell_type": "markdown",
      "metadata": {},
      "source": [
        "###### Balanced Dataset"
      ]
    },
    {
      "cell_type": "code",
      "execution_count": 124,
      "metadata": {},
      "outputs": [],
      "source": [
        "# # Call the Logistic Regression function to fit it with TF-IDF data\n",
        "model_knn_tf_resampled = fit_knn(X_train_resambled_tf, y_train_resampled)"
      ]
    },
    {
      "cell_type": "markdown",
      "metadata": {},
      "source": [
        "##### Training the model with Word2Vec"
      ]
    },
    {
      "cell_type": "markdown",
      "metadata": {},
      "source": [
        "###### Original Dataset"
      ]
    },
    {
      "cell_type": "code",
      "execution_count": 125,
      "metadata": {
        "colab": {
          "base_uri": "https://localhost:8080/",
          "height": 0
        },
        "id": "U59u0UhFfl-W",
        "outputId": "c0aaae91-dc4e-45c3-dfa2-49462ae28b5a"
      },
      "outputs": [],
      "source": [
        "model_knn_w2v = fit_knn(X_train_clean_w2v, y_train)"
      ]
    },
    {
      "cell_type": "markdown",
      "metadata": {},
      "source": [
        "###### Balanced Dataset"
      ]
    },
    {
      "cell_type": "code",
      "execution_count": 126,
      "metadata": {},
      "outputs": [],
      "source": [
        "model_knn_w2v_resampled = fit_knn(X_train_clean_w2v_resampled, y_train_resampled)"
      ]
    },
    {
      "cell_type": "markdown",
      "metadata": {
        "id": "2O4GoehjJOIy"
      },
      "source": [
        "### Performance metrics"
      ]
    },
    {
      "cell_type": "markdown",
      "metadata": {
        "id": "7c-1IwawNqk0"
      },
      "source": [
        "#### BoW"
      ]
    },
    {
      "cell_type": "markdown",
      "metadata": {},
      "source": [
        "###### Original Dataset"
      ]
    },
    {
      "cell_type": "code",
      "execution_count": 127,
      "metadata": {
        "id": "9TWzn6phNs8K"
      },
      "outputs": [],
      "source": [
        "# use the fitted model_knn_cv (BoW) to predict X_text\n",
        "y_pred_knn_BoW = model_knn_BoW.predict(X_test_BoW)"
      ]
    },
    {
      "cell_type": "code",
      "execution_count": 128,
      "metadata": {
        "colab": {
          "base_uri": "https://localhost:8080/"
        },
        "id": "drnvzPaJNs_E",
        "outputId": "94b352c5-73ad-4231-fcba-183fbb004d65"
      },
      "outputs": [
        {
          "name": "stdout",
          "output_type": "stream",
          "text": [
            "KNN Model with Bag of Words Accuracy: 77.27%\n"
          ]
        }
      ],
      "source": [
        "print('KNN Model with Bag of Words Accuracy: {:.2%}'.format(accuracy_score(y_test, y_pred_knn_BoW)))"
      ]
    },
    {
      "cell_type": "code",
      "execution_count": 129,
      "metadata": {
        "colab": {
          "base_uri": "https://localhost:8080/"
        },
        "id": "HBxvOo0_YIXk",
        "outputId": "cfe4a55d-94e2-4b2f-ecf2-1c7d36b3f085"
      },
      "outputs": [
        {
          "name": "stdout",
          "output_type": "stream",
          "text": [
            "              precision    recall  f1-score   support\n",
            "\n",
            "     Bearish       0.36      0.65      0.47       156\n",
            "     Bullish       0.59      0.66      0.62       337\n",
            "     Neutral       0.92      0.81      0.86      1416\n",
            "\n",
            "    accuracy                           0.77      1909\n",
            "   macro avg       0.62      0.71      0.65      1909\n",
            "weighted avg       0.81      0.77      0.79      1909\n",
            "\n"
          ]
        }
      ],
      "source": [
        "labels = {\"Bearish\":0, \"Bullish\":1, \"Neutral\":2}\n",
        "print(classification_report(y_pred_knn_BoW, y_test, target_names = labels.keys()))"
      ]
    },
    {
      "cell_type": "code",
      "execution_count": 130,
      "metadata": {
        "colab": {
          "base_uri": "https://localhost:8080/",
          "height": 0
        },
        "id": "VeY6VtU9fl-P",
        "outputId": "e42aa854-5d32-45b6-e70b-9d91e394aba1"
      },
      "outputs": [
        {
          "data": {
            "image/png": "[encoded data removed]",
            "text/plain": [
              "<Figure size 360x360 with 2 Axes>"
            ]
          },
          "metadata": {},
          "output_type": "display_data"
        }
      ],
      "source": [
        "plot_confusion(confusion_matrix(y_test, y_pred_knn_BoW));"
      ]
    },
    {
      "cell_type": "markdown",
      "metadata": {},
      "source": [
        "###### Balanced Dataset"
      ]
    },
    {
      "cell_type": "code",
      "execution_count": 131,
      "metadata": {},
      "outputs": [],
      "source": [
        "y_pred_knn_BoW_resample = model_knn_BoW_resample.predict(X_test_resambled_BoW)"
      ]
    },
    {
      "cell_type": "code",
      "execution_count": 132,
      "metadata": {},
      "outputs": [
        {
          "name": "stdout",
          "output_type": "stream",
          "text": [
            "KNN Model with Bag of Words Accuracy: 62.02%\n"
          ]
        }
      ],
      "source": [
        "print('KNN Model with Bag of Words Accuracy: {:.2%}'.format(accuracy_score(y_test, y_pred_knn_BoW_resample)))"
      ]
    },
    {
      "cell_type": "code",
      "execution_count": 133,
      "metadata": {},
      "outputs": [
        {
          "name": "stdout",
          "output_type": "stream",
          "text": [
            "              precision    recall  f1-score   support\n",
            "\n",
            "     Bearish       0.60      0.35      0.44       468\n",
            "     Bullish       0.74      0.45      0.56       616\n",
            "     Neutral       0.59      0.90      0.71       825\n",
            "\n",
            "    accuracy                           0.62      1909\n",
            "   macro avg       0.64      0.57      0.57      1909\n",
            "weighted avg       0.64      0.62      0.60      1909\n",
            "\n"
          ]
        }
      ],
      "source": [
        "labels = {\"Bearish\":0, \"Bullish\":1, \"Neutral\":2}\n",
        "print(classification_report(y_pred_knn_BoW_resample, y_test, target_names = labels.keys()))"
      ]
    },
    {
      "cell_type": "code",
      "execution_count": 134,
      "metadata": {},
      "outputs": [
        {
          "data": {
            "image/png": "[encoded data removed]",
            "text/plain": [
              "<Figure size 360x360 with 2 Axes>"
            ]
          },
          "metadata": {},
          "output_type": "display_data"
        }
      ],
      "source": [
        "plot_confusion(confusion_matrix(y_test, y_pred_knn_BoW_resample));"
      ]
    },
    {
      "cell_type": "markdown",
      "metadata": {
        "id": "N1LGas5gN-i9"
      },
      "source": [
        "#### TF_IDF"
      ]
    },
    {
      "cell_type": "markdown",
      "metadata": {},
      "source": [
        "###### Original Dataset"
      ]
    },
    {
      "cell_type": "code",
      "execution_count": 135,
      "metadata": {
        "id": "OlLHK6fMNtAl"
      },
      "outputs": [],
      "source": [
        "# use the fitted model_knn_tf (TF-IDF) to predict X_text\n",
        "y_pred_knn_tf = model_knn_tf.predict(X_test_tf)"
      ]
    },
    {
      "cell_type": "code",
      "execution_count": 136,
      "metadata": {
        "colab": {
          "base_uri": "https://localhost:8080/"
        },
        "id": "NkMfQE12OGRc",
        "outputId": "0827b634-67a3-4620-c23d-96daa79e04cc"
      },
      "outputs": [
        {
          "name": "stdout",
          "output_type": "stream",
          "text": [
            "KNN Model with TF-IDF Accuracy: 77.74%\n"
          ]
        }
      ],
      "source": [
        "print('KNN Model with TF-IDF Accuracy: {:.2%}'.format(accuracy_score(y_test, y_pred_knn_tf)))"
      ]
    },
    {
      "cell_type": "code",
      "execution_count": 137,
      "metadata": {
        "colab": {
          "base_uri": "https://localhost:8080/"
        },
        "id": "jybcWi85YN7A",
        "outputId": "04ce0c46-6c20-4213-df0f-f005f55885b5"
      },
      "outputs": [
        {
          "name": "stdout",
          "output_type": "stream",
          "text": [
            "              precision    recall  f1-score   support\n",
            "\n",
            "     Bearish       0.40      0.67      0.50       164\n",
            "     Bullish       0.61      0.66      0.63       347\n",
            "     Neutral       0.91      0.82      0.86      1398\n",
            "\n",
            "    accuracy                           0.78      1909\n",
            "   macro avg       0.64      0.72      0.66      1909\n",
            "weighted avg       0.81      0.78      0.79      1909\n",
            "\n"
          ]
        }
      ],
      "source": [
        "labels = {\"Bearish\":0, \"Bullish\":1, \"Neutral\":2}\n",
        "print(classification_report(y_pred_knn_tf, y_test, target_names = labels.keys()))"
      ]
    },
    {
      "cell_type": "code",
      "execution_count": 138,
      "metadata": {
        "colab": {
          "base_uri": "https://localhost:8080/",
          "height": 0
        },
        "id": "CY8JHqCMfl-U",
        "outputId": "2e702938-87b2-40ec-9497-13e28fa3926d"
      },
      "outputs": [
        {
          "data": {
            "image/png": "[encoded data removed]",
            "text/plain": [
              "<Figure size 360x360 with 2 Axes>"
            ]
          },
          "metadata": {},
          "output_type": "display_data"
        }
      ],
      "source": [
        "plot_confusion(confusion_matrix(y_test, y_pred_knn_tf));"
      ]
    },
    {
      "cell_type": "markdown",
      "metadata": {},
      "source": [
        "###### Balanced Dataset"
      ]
    },
    {
      "cell_type": "code",
      "execution_count": 139,
      "metadata": {},
      "outputs": [],
      "source": [
        "y_pred_knn_tf_resampled = model_knn_tf_resampled.predict(X_test_resampled_tf)"
      ]
    },
    {
      "cell_type": "code",
      "execution_count": 140,
      "metadata": {},
      "outputs": [
        {
          "name": "stdout",
          "output_type": "stream",
          "text": [
            "KNN Model with TF-IDF Accuracy: 62.02%\n"
          ]
        }
      ],
      "source": [
        "print('KNN Model with TF-IDF Accuracy: {:.2%}'.format(accuracy_score(y_test, y_pred_knn_tf_resampled)))"
      ]
    },
    {
      "cell_type": "code",
      "execution_count": 141,
      "metadata": {},
      "outputs": [
        {
          "name": "stdout",
          "output_type": "stream",
          "text": [
            "              precision    recall  f1-score   support\n",
            "\n",
            "     Bearish       0.64      0.38      0.47       473\n",
            "     Bullish       0.75      0.45      0.56       631\n",
            "     Neutral       0.58      0.90      0.70       805\n",
            "\n",
            "    accuracy                           0.62      1909\n",
            "   macro avg       0.66      0.57      0.58      1909\n",
            "weighted avg       0.65      0.62      0.60      1909\n",
            "\n"
          ]
        }
      ],
      "source": [
        "labels = {\"Bearish\":0, \"Bullish\":1, \"Neutral\":2}\n",
        "print(classification_report(y_pred_knn_tf_resampled, y_test, target_names = labels.keys()))"
      ]
    },
    {
      "cell_type": "code",
      "execution_count": 142,
      "metadata": {},
      "outputs": [
        {
          "data": {
            "image/png": "[encoded data removed]",
            "text/plain": [
              "<Figure size 360x360 with 2 Axes>"
            ]
          },
          "metadata": {},
          "output_type": "display_data"
        }
      ],
      "source": [
        "plot_confusion(confusion_matrix(y_test, y_pred_knn_tf_resampled));"
      ]
    },
    {
      "cell_type": "markdown",
      "metadata": {
        "id": "gNh_evB2fl-V"
      },
      "source": [
        "#### Word2Vec"
      ]
    },
    {
      "cell_type": "markdown",
      "metadata": {},
      "source": [
        "###### Original Dataset"
      ]
    },
    {
      "cell_type": "code",
      "execution_count": 143,
      "metadata": {
        "id": "9_1DhgIGfl-W"
      },
      "outputs": [],
      "source": [
        "y_pred_knn_w2v = model_knn_w2v.predict(X_test_clean_w2v)"
      ]
    },
    {
      "cell_type": "code",
      "execution_count": 144,
      "metadata": {
        "colab": {
          "base_uri": "https://localhost:8080/"
        },
        "id": "jG65y8Lcfl-W",
        "outputId": "a2058b36-1503-4048-90d0-e6b633b8287d"
      },
      "outputs": [
        {
          "name": "stdout",
          "output_type": "stream",
          "text": [
            " K-Nearest Neighbors Model with Word2Vec Accuracy: 70.19%\n"
          ]
        }
      ],
      "source": [
        "print(' K-Nearest Neighbors Model with Word2Vec Accuracy: {:.2%}'.format(accuracy_score(y_test, y_pred_knn_w2v)))"
      ]
    },
    {
      "cell_type": "code",
      "execution_count": 145,
      "metadata": {
        "colab": {
          "base_uri": "https://localhost:8080/"
        },
        "id": "2ZMlo-Zpfl-X",
        "outputId": "adbb9bf8-f60a-4688-8b28-d680528e87b5"
      },
      "outputs": [
        {
          "name": "stdout",
          "output_type": "stream",
          "text": [
            "              precision    recall  f1-score   support\n",
            "\n",
            "     Bearish       0.22      0.54      0.32       115\n",
            "     Bullish       0.38      0.51      0.44       279\n",
            "     Neutral       0.91      0.75      0.82      1515\n",
            "\n",
            "    accuracy                           0.70      1909\n",
            "   macro avg       0.50      0.60      0.52      1909\n",
            "weighted avg       0.79      0.70      0.73      1909\n",
            "\n"
          ]
        }
      ],
      "source": [
        "labels = {\"Bearish\":0, \"Bullish\":1, \"Neutral\":2}\n",
        "print(classification_report(y_pred_knn_w2v, y_test, target_names = labels.keys()))"
      ]
    },
    {
      "cell_type": "code",
      "execution_count": 146,
      "metadata": {
        "colab": {
          "base_uri": "https://localhost:8080/",
          "height": 0
        },
        "id": "qfFLgrGQfl-X",
        "outputId": "630ef1ab-c3c7-4397-cafe-28b1901b71e2"
      },
      "outputs": [
        {
          "data": {
            "image/png": "[encoded data removed]",
            "text/plain": [
              "<Figure size 360x360 with 2 Axes>"
            ]
          },
          "metadata": {},
          "output_type": "display_data"
        }
      ],
      "source": [
        "plot_confusion(confusion_matrix(y_test, y_pred_knn_w2v));"
      ]
    },
    {
      "cell_type": "markdown",
      "metadata": {},
      "source": [
        "###### Balanced Dataset"
      ]
    },
    {
      "cell_type": "code",
      "execution_count": 147,
      "metadata": {},
      "outputs": [],
      "source": [
        "y_pred_knn_w2c_resambled = model_knn_w2v.predict(X_test_clean_w2v)"
      ]
    },
    {
      "cell_type": "code",
      "execution_count": 148,
      "metadata": {},
      "outputs": [
        {
          "name": "stdout",
          "output_type": "stream",
          "text": [
            "Logistic Regression Model with Word2Vec Accuracy: 70.19%\n"
          ]
        }
      ],
      "source": [
        "print('Logistic Regression Model with Word2Vec Accuracy: {:.2%}'.format(accuracy_score(y_test, y_pred_knn_w2c_resambled)))"
      ]
    },
    {
      "cell_type": "code",
      "execution_count": 149,
      "metadata": {},
      "outputs": [
        {
          "name": "stdout",
          "output_type": "stream",
          "text": [
            "              precision    recall  f1-score   support\n",
            "\n",
            "     Bearish       0.22      0.54      0.32       115\n",
            "     Bullish       0.38      0.51      0.44       279\n",
            "     Neutral       0.91      0.75      0.82      1515\n",
            "\n",
            "    accuracy                           0.70      1909\n",
            "   macro avg       0.50      0.60      0.52      1909\n",
            "weighted avg       0.79      0.70      0.73      1909\n",
            "\n"
          ]
        }
      ],
      "source": [
        "labels = {\"Bearish\":0, \"Bullish\":1, \"Neutral\":2}\n",
        "print(classification_report(y_pred_knn_w2c_resambled, y_test, target_names = labels.keys()))"
      ]
    },
    {
      "cell_type": "code",
      "execution_count": 150,
      "metadata": {},
      "outputs": [
        {
          "data": {
            "image/png": "[encoded data removed]",
            "text/plain": [
              "<Figure size 360x360 with 2 Axes>"
            ]
          },
          "metadata": {},
          "output_type": "display_data"
        }
      ],
      "source": [
        "plot_confusion(confusion_matrix(y_test, y_pred_knn_w2c_resambled));"
      ]
    },
    {
      "cell_type": "markdown",
      "metadata": {
        "id": "b1aQo0wYfl-Y"
      },
      "source": [
        "### Cross Validation (K-folds)"
      ]
    },
    {
      "cell_type": "code",
      "execution_count": 151,
      "metadata": {
        "colab": {
          "base_uri": "https://localhost:8080/"
        },
        "id": "zPm84XeSfl-Y",
        "outputId": "665a2a4f-3f39-448b-f468-355580e90b25"
      },
      "outputs": [
        {
          "name": "stdout",
          "output_type": "stream",
          "text": [
            "BoW Average accuracy: 75.65%\n",
            "TF-IDF Average accuracy: 76.67%\n",
            "Word2Vec Average accuracy: 69.48%\n"
          ]
        }
      ],
      "source": [
        "# Assuming X_train_BoW, X_train_tf, X_train_clean_w2v are defined\n",
        "model = KNeighborsClassifier(n_neighbors = 10, metric = 'cosine', weights = 'distance')\n",
        "\n",
        "perform_cross_validation(model, X_train_BoW, y_train, \"BoW\")\n",
        "perform_cross_validation(model, X_train_tf, y_train, \"TF-IDF\")\n",
        "perform_cross_validation(model, X_train_clean_w2v, y_train, \"Word2Vec\")"
      ]
    },
    {
      "cell_type": "code",
      "execution_count": 152,
      "metadata": {},
      "outputs": [
        {
          "name": "stdout",
          "output_type": "stream",
          "text": [
            "BoW Balanced Dataset Average accuracy: 61.60%\n",
            "TF-IDF Balanced Dataset Average accuracy: 61.55%\n",
            "Word2Vec Balanced Dataset Average accuracy: 52.19%\n"
          ]
        }
      ],
      "source": [
        "perform_cross_validation(model, X_train_resampled_BoW, y_train_resampled, \"BoW Balanced Dataset\")\n",
        "perform_cross_validation(model, X_train_resambled_tf, y_train_resampled, \"TF-IDF Balanced Dataset\")\n",
        "perform_cross_validation(model, X_train_clean_w2v_resampled, y_train_resampled, \"Word2Vec Balanced Dataset\")"
      ]
    },
    {
      "cell_type": "markdown",
      "metadata": {
        "id": "I3WhcmIiOQTr"
      },
      "source": [
        "## 4.3) Naive-Bayes"
      ]
    },
    {
      "cell_type": "code",
      "execution_count": 153,
      "metadata": {
        "id": "enwqQn-3OSut"
      },
      "outputs": [],
      "source": [
        "from sklearn.naive_bayes import MultinomialNB"
      ]
    },
    {
      "cell_type": "code",
      "execution_count": 154,
      "metadata": {
        "id": "iImPKe5_OS3m"
      },
      "outputs": [],
      "source": [
        "def fit_nb(X_train, y_train):\n",
        "  model_nb = MultinomialNB()\n",
        "  model_nb.fit(X_train, y_train)\n",
        "  return model_nb"
      ]
    },
    {
      "cell_type": "markdown",
      "metadata": {
        "id": "c9mT0T89Ojq9"
      },
      "source": [
        "### Model construction"
      ]
    },
    {
      "cell_type": "markdown",
      "metadata": {},
      "source": [
        "##### Training the model with Bag of Words"
      ]
    },
    {
      "cell_type": "markdown",
      "metadata": {},
      "source": [
        "###### Original Dataaset"
      ]
    },
    {
      "cell_type": "code",
      "execution_count": 155,
      "metadata": {
        "colab": {
          "base_uri": "https://localhost:8080/"
        },
        "id": "tESxU4GSPNiU",
        "outputId": "c24b99b7-8cc5-4add-c0b0-47830023af92"
      },
      "outputs": [],
      "source": [
        "# código igual ao da LR\n",
        "# use the fit_cv function on training data to build the Bag-of-Words vectorizer\n",
        "cv = fit_cv(X_train)\n",
        "X_train_BoW = cv.transform(X_train)\n",
        "X_test_BoW = cv.transform(X_test)"
      ]
    },
    {
      "cell_type": "code",
      "execution_count": 156,
      "metadata": {
        "id": "x13zxqfVOS5l"
      },
      "outputs": [],
      "source": [
        "# Fit the NB model on training data by using the fit_nb function\n",
        "model_nb_BoW = fit_nb(X_train_BoW, y_train)"
      ]
    },
    {
      "cell_type": "markdown",
      "metadata": {},
      "source": [
        "###### Original Dataaset"
      ]
    },
    {
      "cell_type": "code",
      "execution_count": 157,
      "metadata": {},
      "outputs": [],
      "source": [
        "# Call the Logistic Regression function to fit it with BoW data\n",
        "model_nb_BoW_resample = fit_nb(X_train_resampled_BoW, y_train_resampled)"
      ]
    },
    {
      "cell_type": "markdown",
      "metadata": {},
      "source": [
        "##### Training the model with TF-IDF"
      ]
    },
    {
      "cell_type": "markdown",
      "metadata": {},
      "source": [
        "###### Original Dataaset"
      ]
    },
    {
      "cell_type": "code",
      "execution_count": 158,
      "metadata": {
        "colab": {
          "base_uri": "https://localhost:8080/"
        },
        "id": "TOd9SM-rPiot",
        "outputId": "c5597f81-c50f-45b5-98ca-1088ffe3b3c3"
      },
      "outputs": [],
      "source": [
        "# use the fit_tfidf function on training data to build the TF-IDF vectorizer\n",
        "tf = fit_tfidf(X_train)\n",
        "X_train_tf = tf.transform(X_train)\n",
        "X_test_tf = tf.transform(X_test)"
      ]
    },
    {
      "cell_type": "code",
      "execution_count": 159,
      "metadata": {
        "id": "7XlOPQWVPivS"
      },
      "outputs": [],
      "source": [
        "# Fit the KNN model on training data by using the fit_nb function\n",
        "model_nb_tf = fit_nb(X_train_tf, y_train)"
      ]
    },
    {
      "cell_type": "markdown",
      "metadata": {},
      "source": [
        "###### Balanced Dataaset"
      ]
    },
    {
      "cell_type": "code",
      "execution_count": 160,
      "metadata": {},
      "outputs": [],
      "source": [
        "model_nb_tf_resampled = fit_nb(X_train_resambled_tf, y_train_resampled)"
      ]
    },
    {
      "cell_type": "markdown",
      "metadata": {},
      "source": [
        "##### Training the model with Word2Vec"
      ]
    },
    {
      "cell_type": "markdown",
      "metadata": {},
      "source": [
        "###### Original Dataset"
      ]
    },
    {
      "cell_type": "code",
      "execution_count": 161,
      "metadata": {},
      "outputs": [],
      "source": [
        "from sklearn.naive_bayes import GaussianNB\n",
        "\n",
        "# Instanciar e treinar o modelo Naive Bayes\n",
        "model_nb_w2v = GaussianNB()"
      ]
    },
    {
      "cell_type": "code",
      "execution_count": 162,
      "metadata": {},
      "outputs": [],
      "source": [
        "X_train_clean_w2v_adj_nb = np.mean(X_train_clean_w2v, axis=1)\n",
        "\n",
        "# Reshape para torná-lo uma matriz 2D\n",
        "X_train_clean_w2v_adj_nb_2d = X_train_clean_w2v_adj_nb.reshape(-1, 1)"
      ]
    },
    {
      "cell_type": "code",
      "execution_count": 163,
      "metadata": {},
      "outputs": [
        {
          "data": {
            "text/html": [
              "<style>#sk-container-id-3 {color: black;}#sk-container-id-3 pre{padding: 0;}#sk-container-id-3 div.sk-toggleable {background-color: white;}#sk-container-id-3 label.sk-toggleable__label {cursor: pointer;display: block;width: 100%;margin-bottom: 0;padding: 0.3em;box-sizing: border-box;text-align: center;}#sk-container-id-3 label.sk-toggleable__label-arrow:before {content: \"▸\";float: left;margin-right: 0.25em;color: #696969;}#sk-container-id-3 label.sk-toggleable__label-arrow:hover:before {color: black;}#sk-container-id-3 div.sk-estimator:hover label.sk-toggleable__label-arrow:before {color: black;}#sk-container-id-3 div.sk-toggleable__content {max-height: 0;max-width: 0;overflow: hidden;text-align: left;background-color: #f0f8ff;}#sk-container-id-3 div.sk-toggleable__content pre {margin: 0.2em;color: black;border-radius: 0.25em;background-color: #f0f8ff;}#sk-container-id-3 input.sk-toggleable__control:checked~div.sk-toggleable__content {max-height: 200px;max-width: 100%;overflow: auto;}#sk-container-id-3 input.sk-toggleable__control:checked~label.sk-toggleable__label-arrow:before {content: \"▾\";}#sk-container-id-3 div.sk-estimator input.sk-toggleable__control:checked~label.sk-toggleable__label {background-color: #d4ebff;}#sk-container-id-3 div.sk-label input.sk-toggleable__control:checked~label.sk-toggleable__label {background-color: #d4ebff;}#sk-container-id-3 input.sk-hidden--visually {border: 0;clip: rect(1px 1px 1px 1px);clip: rect(1px, 1px, 1px, 1px);height: 1px;margin: -1px;overflow: hidden;padding: 0;position: absolute;width: 1px;}#sk-container-id-3 div.sk-estimator {font-family: monospace;background-color: #f0f8ff;border: 1px dotted black;border-radius: 0.25em;box-sizing: border-box;margin-bottom: 0.5em;}#sk-container-id-3 div.sk-estimator:hover {background-color: #d4ebff;}#sk-container-id-3 div.sk-parallel-item::after {content: \"\";width: 100%;border-bottom: 1px solid gray;flex-grow: 1;}#sk-container-id-3 div.sk-label:hover label.sk-toggleable__label {background-color: #d4ebff;}#sk-container-id-3 div.sk-serial::before {content: \"\";position: absolute;border-left: 1px solid gray;box-sizing: border-box;top: 0;bottom: 0;left: 50%;z-index: 0;}#sk-container-id-3 div.sk-serial {display: flex;flex-direction: column;align-items: center;background-color: white;padding-right: 0.2em;padding-left: 0.2em;position: relative;}#sk-container-id-3 div.sk-item {position: relative;z-index: 1;}#sk-container-id-3 div.sk-parallel {display: flex;align-items: stretch;justify-content: center;background-color: white;position: relative;}#sk-container-id-3 div.sk-item::before, #sk-container-id-3 div.sk-parallel-item::before {content: \"\";position: absolute;border-left: 1px solid gray;box-sizing: border-box;top: 0;bottom: 0;left: 50%;z-index: -1;}#sk-container-id-3 div.sk-parallel-item {display: flex;flex-direction: column;z-index: 1;position: relative;background-color: white;}#sk-container-id-3 div.sk-parallel-item:first-child::after {align-self: flex-end;width: 50%;}#sk-container-id-3 div.sk-parallel-item:last-child::after {align-self: flex-start;width: 50%;}#sk-container-id-3 div.sk-parallel-item:only-child::after {width: 0;}#sk-container-id-3 div.sk-dashed-wrapped {border: 1px dashed gray;margin: 0 0.4em 0.5em 0.4em;box-sizing: border-box;padding-bottom: 0.4em;background-color: white;}#sk-container-id-3 div.sk-label label {font-family: monospace;font-weight: bold;display: inline-block;line-height: 1.2em;}#sk-container-id-3 div.sk-label-container {text-align: center;}#sk-container-id-3 div.sk-container {/* jupyter's `normalize.less` sets `[hidden] { display: none; }` but bootstrap.min.css set `[hidden] { display: none !important; }` so we also need the `!important` here to be able to override the default hidden behavior on the sphinx rendered scikit-learn.org. See: https://github.com/scikit-learn/scikit-learn/issues/21755 */display: inline-block !important;position: relative;}#sk-container-id-3 div.sk-text-repr-fallback {display: none;}</style><div id=\"sk-container-id-3\" class=\"sk-top-container\"><div class=\"sk-text-repr-fallback\"><pre>GaussianNB()</pre><b>In a Jupyter environment, please rerun this cell to show the HTML representation or trust the notebook. <br />On GitHub, the HTML representation is unable to render, please try loading this page with nbviewer.org.</b></div><div class=\"sk-container\" hidden><div class=\"sk-item\"><div class=\"sk-estimator sk-toggleable\"><input class=\"sk-toggleable__control sk-hidden--visually\" id=\"sk-estimator-id-3\" type=\"checkbox\" checked><label for=\"sk-estimator-id-3\" class=\"sk-toggleable__label sk-toggleable__label-arrow\">GaussianNB</label><div class=\"sk-toggleable__content\"><pre>GaussianNB()</pre></div></div></div></div></div>"
            ],
            "text/plain": [
              "GaussianNB()"
            ]
          },
          "execution_count": 163,
          "metadata": {},
          "output_type": "execute_result"
        }
      ],
      "source": [
        "model_nb_w2v.fit(X_train_clean_w2v_adj_nb_2d, y_train)"
      ]
    },
    {
      "cell_type": "markdown",
      "metadata": {},
      "source": [
        "###### Balanced Dataaset"
      ]
    },
    {
      "cell_type": "code",
      "execution_count": 164,
      "metadata": {},
      "outputs": [],
      "source": [
        "X_train_clean_w2v_adj_nb_resampled = np.mean(X_train_clean_w2v_resampled, axis=1)\n",
        "\n",
        "# Reshape para torná-lo uma matriz 2D\n",
        "X_train_clean_w2v_adj_nb_2d_resampled = X_train_clean_w2v_adj_nb_resampled.reshape(-1, 1)"
      ]
    },
    {
      "cell_type": "code",
      "execution_count": 165,
      "metadata": {},
      "outputs": [
        {
          "data": {
            "text/html": [
              "<style>#sk-container-id-4 {color: black;}#sk-container-id-4 pre{padding: 0;}#sk-container-id-4 div.sk-toggleable {background-color: white;}#sk-container-id-4 label.sk-toggleable__label {cursor: pointer;display: block;width: 100%;margin-bottom: 0;padding: 0.3em;box-sizing: border-box;text-align: center;}#sk-container-id-4 label.sk-toggleable__label-arrow:before {content: \"▸\";float: left;margin-right: 0.25em;color: #696969;}#sk-container-id-4 label.sk-toggleable__label-arrow:hover:before {color: black;}#sk-container-id-4 div.sk-estimator:hover label.sk-toggleable__label-arrow:before {color: black;}#sk-container-id-4 div.sk-toggleable__content {max-height: 0;max-width: 0;overflow: hidden;text-align: left;background-color: #f0f8ff;}#sk-container-id-4 div.sk-toggleable__content pre {margin: 0.2em;color: black;border-radius: 0.25em;background-color: #f0f8ff;}#sk-container-id-4 input.sk-toggleable__control:checked~div.sk-toggleable__content {max-height: 200px;max-width: 100%;overflow: auto;}#sk-container-id-4 input.sk-toggleable__control:checked~label.sk-toggleable__label-arrow:before {content: \"▾\";}#sk-container-id-4 div.sk-estimator input.sk-toggleable__control:checked~label.sk-toggleable__label {background-color: #d4ebff;}#sk-container-id-4 div.sk-label input.sk-toggleable__control:checked~label.sk-toggleable__label {background-color: #d4ebff;}#sk-container-id-4 input.sk-hidden--visually {border: 0;clip: rect(1px 1px 1px 1px);clip: rect(1px, 1px, 1px, 1px);height: 1px;margin: -1px;overflow: hidden;padding: 0;position: absolute;width: 1px;}#sk-container-id-4 div.sk-estimator {font-family: monospace;background-color: #f0f8ff;border: 1px dotted black;border-radius: 0.25em;box-sizing: border-box;margin-bottom: 0.5em;}#sk-container-id-4 div.sk-estimator:hover {background-color: #d4ebff;}#sk-container-id-4 div.sk-parallel-item::after {content: \"\";width: 100%;border-bottom: 1px solid gray;flex-grow: 1;}#sk-container-id-4 div.sk-label:hover label.sk-toggleable__label {background-color: #d4ebff;}#sk-container-id-4 div.sk-serial::before {content: \"\";position: absolute;border-left: 1px solid gray;box-sizing: border-box;top: 0;bottom: 0;left: 50%;z-index: 0;}#sk-container-id-4 div.sk-serial {display: flex;flex-direction: column;align-items: center;background-color: white;padding-right: 0.2em;padding-left: 0.2em;position: relative;}#sk-container-id-4 div.sk-item {position: relative;z-index: 1;}#sk-container-id-4 div.sk-parallel {display: flex;align-items: stretch;justify-content: center;background-color: white;position: relative;}#sk-container-id-4 div.sk-item::before, #sk-container-id-4 div.sk-parallel-item::before {content: \"\";position: absolute;border-left: 1px solid gray;box-sizing: border-box;top: 0;bottom: 0;left: 50%;z-index: -1;}#sk-container-id-4 div.sk-parallel-item {display: flex;flex-direction: column;z-index: 1;position: relative;background-color: white;}#sk-container-id-4 div.sk-parallel-item:first-child::after {align-self: flex-end;width: 50%;}#sk-container-id-4 div.sk-parallel-item:last-child::after {align-self: flex-start;width: 50%;}#sk-container-id-4 div.sk-parallel-item:only-child::after {width: 0;}#sk-container-id-4 div.sk-dashed-wrapped {border: 1px dashed gray;margin: 0 0.4em 0.5em 0.4em;box-sizing: border-box;padding-bottom: 0.4em;background-color: white;}#sk-container-id-4 div.sk-label label {font-family: monospace;font-weight: bold;display: inline-block;line-height: 1.2em;}#sk-container-id-4 div.sk-label-container {text-align: center;}#sk-container-id-4 div.sk-container {/* jupyter's `normalize.less` sets `[hidden] { display: none; }` but bootstrap.min.css set `[hidden] { display: none !important; }` so we also need the `!important` here to be able to override the default hidden behavior on the sphinx rendered scikit-learn.org. See: https://github.com/scikit-learn/scikit-learn/issues/21755 */display: inline-block !important;position: relative;}#sk-container-id-4 div.sk-text-repr-fallback {display: none;}</style><div id=\"sk-container-id-4\" class=\"sk-top-container\"><div class=\"sk-text-repr-fallback\"><pre>GaussianNB()</pre><b>In a Jupyter environment, please rerun this cell to show the HTML representation or trust the notebook. <br />On GitHub, the HTML representation is unable to render, please try loading this page with nbviewer.org.</b></div><div class=\"sk-container\" hidden><div class=\"sk-item\"><div class=\"sk-estimator sk-toggleable\"><input class=\"sk-toggleable__control sk-hidden--visually\" id=\"sk-estimator-id-4\" type=\"checkbox\" checked><label for=\"sk-estimator-id-4\" class=\"sk-toggleable__label sk-toggleable__label-arrow\">GaussianNB</label><div class=\"sk-toggleable__content\"><pre>GaussianNB()</pre></div></div></div></div></div>"
            ],
            "text/plain": [
              "GaussianNB()"
            ]
          },
          "execution_count": 165,
          "metadata": {},
          "output_type": "execute_result"
        }
      ],
      "source": [
        "model_nb_w2v.fit(X_train_clean_w2v_adj_nb_2d_resampled, y_train_resampled)"
      ]
    },
    {
      "cell_type": "markdown",
      "metadata": {
        "id": "dlMF0cuGQFc4"
      },
      "source": [
        "### Performance metrics"
      ]
    },
    {
      "cell_type": "markdown",
      "metadata": {
        "id": "89-CWNdeQIzx"
      },
      "source": [
        "#### BoW"
      ]
    },
    {
      "cell_type": "markdown",
      "metadata": {},
      "source": [
        "###### Original Dataset"
      ]
    },
    {
      "cell_type": "code",
      "execution_count": 166,
      "metadata": {
        "id": "EgXpzr3BQNAI"
      },
      "outputs": [],
      "source": [
        "# use the fitted model_nb_cv (BoW) to predict X_text\n",
        "y_pred_nb_BoW = model_nb_BoW.predict(X_test_BoW)"
      ]
    },
    {
      "cell_type": "code",
      "execution_count": 167,
      "metadata": {
        "colab": {
          "base_uri": "https://localhost:8080/"
        },
        "id": "COnMbnPeQSuy",
        "outputId": "f1066b44-0ea6-472f-f5be-c2646815e2f4"
      },
      "outputs": [
        {
          "name": "stdout",
          "output_type": "stream",
          "text": [
            "Naive Bayes Model with Bog of Words Accuracy: 78.52%\n"
          ]
        }
      ],
      "source": [
        "print('Naive Bayes Model with Bog of Words Accuracy: {:.2%}'.format(accuracy_score(y_test, y_pred_nb_BoW)))"
      ]
    },
    {
      "cell_type": "code",
      "execution_count": 168,
      "metadata": {
        "colab": {
          "base_uri": "https://localhost:8080/"
        },
        "id": "lMRUYXd5YTsl",
        "outputId": "812a00a6-9a13-40cb-fe80-0bcdc96c3faa"
      },
      "outputs": [
        {
          "name": "stdout",
          "output_type": "stream",
          "text": [
            "              precision    recall  f1-score   support\n",
            "\n",
            "     Bearish       0.43      0.70      0.53       170\n",
            "     Bullish       0.60      0.68      0.64       335\n",
            "     Neutral       0.92      0.82      0.87      1404\n",
            "\n",
            "    accuracy                           0.79      1909\n",
            "   macro avg       0.65      0.73      0.68      1909\n",
            "weighted avg       0.82      0.79      0.80      1909\n",
            "\n"
          ]
        }
      ],
      "source": [
        "labels = {\"Bearish\":0, \"Bullish\":1, \"Neutral\":2}\n",
        "print(classification_report(y_pred_nb_BoW, y_test, target_names = labels.keys()))"
      ]
    },
    {
      "cell_type": "code",
      "execution_count": 169,
      "metadata": {
        "colab": {
          "base_uri": "https://localhost:8080/",
          "height": 0
        },
        "id": "GbALHnwlfl-d",
        "outputId": "9cd6bd74-a8bc-4b42-d90a-d5ec828c42dc"
      },
      "outputs": [
        {
          "data": {
            "image/png": "[encoded data removed]",
            "text/plain": [
              "<Figure size 360x360 with 2 Axes>"
            ]
          },
          "metadata": {},
          "output_type": "display_data"
        }
      ],
      "source": [
        "plot_confusion(confusion_matrix(y_test, y_pred_nb_BoW));"
      ]
    },
    {
      "cell_type": "markdown",
      "metadata": {},
      "source": [
        "###### Balanced dataset"
      ]
    },
    {
      "cell_type": "code",
      "execution_count": 170,
      "metadata": {},
      "outputs": [],
      "source": [
        "y_pred_nb_BoW_resample = model_nb_BoW_resample.predict(X_test_resambled_BoW)"
      ]
    },
    {
      "cell_type": "code",
      "execution_count": 171,
      "metadata": {},
      "outputs": [
        {
          "name": "stdout",
          "output_type": "stream",
          "text": [
            "KNN Model with Bag of Words Accuracy: 66.00%\n"
          ]
        }
      ],
      "source": [
        "print('KNN Model with Bag of Words Accuracy: {:.2%}'.format(accuracy_score(y_test, y_pred_nb_BoW_resample)))"
      ]
    },
    {
      "cell_type": "code",
      "execution_count": 172,
      "metadata": {},
      "outputs": [
        {
          "name": "stdout",
          "output_type": "stream",
          "text": [
            "              precision    recall  f1-score   support\n",
            "\n",
            "     Bearish       0.70      0.38      0.49       508\n",
            "     Bullish       0.74      0.51      0.61       549\n",
            "     Neutral       0.63      0.92      0.75       852\n",
            "\n",
            "    accuracy                           0.66      1909\n",
            "   macro avg       0.69      0.60      0.61      1909\n",
            "weighted avg       0.68      0.66      0.64      1909\n",
            "\n"
          ]
        }
      ],
      "source": [
        "labels = {\"Bearish\":0, \"Bullish\":1, \"Neutral\":2}\n",
        "print(classification_report(y_pred_nb_BoW_resample, y_test, target_names = labels.keys()))"
      ]
    },
    {
      "cell_type": "code",
      "execution_count": 173,
      "metadata": {},
      "outputs": [
        {
          "data": {
            "image/png": "[encoded data removed]",
            "text/plain": [
              "<Figure size 360x360 with 2 Axes>"
            ]
          },
          "metadata": {},
          "output_type": "display_data"
        }
      ],
      "source": [
        "plot_confusion(confusion_matrix(y_test, y_pred_nb_BoW_resample));"
      ]
    },
    {
      "cell_type": "markdown",
      "metadata": {
        "id": "Ycx7SkFpRAN7"
      },
      "source": [
        "#### TF_IDF"
      ]
    },
    {
      "cell_type": "markdown",
      "metadata": {},
      "source": [
        "###### Original Dataset"
      ]
    },
    {
      "cell_type": "code",
      "execution_count": 174,
      "metadata": {
        "id": "GHs5i89aRMb7"
      },
      "outputs": [],
      "source": [
        "# use the fitted model_nb_cv (BoW) to predict X_text\n",
        "y_pred_nb_tf = model_nb_tf.predict(X_test_tf)"
      ]
    },
    {
      "cell_type": "code",
      "execution_count": 175,
      "metadata": {
        "colab": {
          "base_uri": "https://localhost:8080/"
        },
        "id": "MtS-AipYRRLK",
        "outputId": "6eda2822-8428-4156-b821-30b368ad6b15"
      },
      "outputs": [
        {
          "name": "stdout",
          "output_type": "stream",
          "text": [
            "Naive Bayes Model with TF-IDF Accuracy: 71.77%\n"
          ]
        }
      ],
      "source": [
        "print('Naive Bayes Model with TF-IDF Accuracy: {:.2%}'.format(accuracy_score(y_test, y_pred_nb_tf)))"
      ]
    },
    {
      "cell_type": "code",
      "execution_count": 176,
      "metadata": {
        "colab": {
          "base_uri": "https://localhost:8080/"
        },
        "id": "kpGg7JO1YZtW",
        "outputId": "13b3b3cd-8703-452b-c96a-c23df86f689f"
      },
      "outputs": [
        {
          "name": "stdout",
          "output_type": "stream",
          "text": [
            "              precision    recall  f1-score   support\n",
            "\n",
            "     Bearish       0.05      0.93      0.09        14\n",
            "     Bullish       0.29      0.84      0.43       130\n",
            "     Neutral       1.00      0.71      0.83      1765\n",
            "\n",
            "    accuracy                           0.72      1909\n",
            "   macro avg       0.44      0.82      0.45      1909\n",
            "weighted avg       0.94      0.72      0.79      1909\n",
            "\n"
          ]
        }
      ],
      "source": [
        "labels = {\"Bearish\":0, \"Bullish\":1, \"Neutral\":2}\n",
        "print(classification_report(y_pred_nb_tf, y_test, target_names = labels.keys()))"
      ]
    },
    {
      "cell_type": "code",
      "execution_count": 177,
      "metadata": {
        "colab": {
          "base_uri": "https://localhost:8080/",
          "height": 0
        },
        "id": "vzi9nreJfl-f",
        "outputId": "19f9b403-70ce-4f80-d581-8b6d1e5e61ef"
      },
      "outputs": [
        {
          "data": {
            "image/png": "[encoded data removed]",
            "text/plain": [
              "<Figure size 360x360 with 2 Axes>"
            ]
          },
          "metadata": {},
          "output_type": "display_data"
        }
      ],
      "source": [
        "plot_confusion(confusion_matrix(y_test, y_pred_nb_tf));"
      ]
    },
    {
      "cell_type": "markdown",
      "metadata": {},
      "source": [
        "###### Balanced Dataset"
      ]
    },
    {
      "cell_type": "code",
      "execution_count": 178,
      "metadata": {},
      "outputs": [],
      "source": [
        "y_pred_nb_tf_resampled = model_nb_tf_resampled.predict(X_test_resampled_tf)"
      ]
    },
    {
      "cell_type": "code",
      "execution_count": 179,
      "metadata": {},
      "outputs": [
        {
          "name": "stdout",
          "output_type": "stream",
          "text": [
            "KNN Model with TF-IDF Accuracy: 65.22%\n"
          ]
        }
      ],
      "source": [
        "print('KNN Model with TF-IDF Accuracy: {:.2%}'.format(accuracy_score(y_test, y_pred_nb_tf_resampled)))"
      ]
    },
    {
      "cell_type": "code",
      "execution_count": 180,
      "metadata": {},
      "outputs": [
        {
          "name": "stdout",
          "output_type": "stream",
          "text": [
            "              precision    recall  f1-score   support\n",
            "\n",
            "     Bearish       0.69      0.38      0.49       508\n",
            "     Bullish       0.76      0.50      0.60       579\n",
            "     Neutral       0.61      0.93      0.74       822\n",
            "\n",
            "    accuracy                           0.65      1909\n",
            "   macro avg       0.69      0.60      0.61      1909\n",
            "weighted avg       0.68      0.65      0.63      1909\n",
            "\n"
          ]
        }
      ],
      "source": [
        "labels = {\"Bearish\":0, \"Bullish\":1, \"Neutral\":2}\n",
        "print(classification_report(y_pred_nb_tf_resampled, y_test, target_names = labels.keys()))"
      ]
    },
    {
      "cell_type": "code",
      "execution_count": 181,
      "metadata": {},
      "outputs": [
        {
          "data": {
            "image/png": "[encoded data removed]",
            "text/plain": [
              "<Figure size 360x360 with 2 Axes>"
            ]
          },
          "metadata": {},
          "output_type": "display_data"
        }
      ],
      "source": [
        "plot_confusion(confusion_matrix(y_test, y_pred_nb_tf_resampled));"
      ]
    },
    {
      "cell_type": "markdown",
      "metadata": {
        "id": "FBbLd4GWfl-g"
      },
      "source": [
        "#### Word2Vec"
      ]
    },
    {
      "cell_type": "markdown",
      "metadata": {},
      "source": [
        "###### Origianl Datatset"
      ]
    },
    {
      "cell_type": "code",
      "execution_count": 182,
      "metadata": {
        "id": "JLlaMHh5fl-g"
      },
      "outputs": [],
      "source": [
        "from sklearn.naive_bayes import GaussianNB"
      ]
    },
    {
      "cell_type": "code",
      "execution_count": 183,
      "metadata": {
        "id": "vbYnRQGVfl-g"
      },
      "outputs": [],
      "source": [
        "nb_w2v = GaussianNB()\n"
      ]
    },
    {
      "cell_type": "code",
      "execution_count": 184,
      "metadata": {
        "colab": {
          "base_uri": "https://localhost:8080/",
          "height": 0
        },
        "id": "HLGvWvmvfl-h",
        "outputId": "d94d68c9-ac47-40fe-a0ba-fd647c571d99"
      },
      "outputs": [
        {
          "data": {
            "text/html": [
              "<style>#sk-container-id-5 {color: black;}#sk-container-id-5 pre{padding: 0;}#sk-container-id-5 div.sk-toggleable {background-color: white;}#sk-container-id-5 label.sk-toggleable__label {cursor: pointer;display: block;width: 100%;margin-bottom: 0;padding: 0.3em;box-sizing: border-box;text-align: center;}#sk-container-id-5 label.sk-toggleable__label-arrow:before {content: \"▸\";float: left;margin-right: 0.25em;color: #696969;}#sk-container-id-5 label.sk-toggleable__label-arrow:hover:before {color: black;}#sk-container-id-5 div.sk-estimator:hover label.sk-toggleable__label-arrow:before {color: black;}#sk-container-id-5 div.sk-toggleable__content {max-height: 0;max-width: 0;overflow: hidden;text-align: left;background-color: #f0f8ff;}#sk-container-id-5 div.sk-toggleable__content pre {margin: 0.2em;color: black;border-radius: 0.25em;background-color: #f0f8ff;}#sk-container-id-5 input.sk-toggleable__control:checked~div.sk-toggleable__content {max-height: 200px;max-width: 100%;overflow: auto;}#sk-container-id-5 input.sk-toggleable__control:checked~label.sk-toggleable__label-arrow:before {content: \"▾\";}#sk-container-id-5 div.sk-estimator input.sk-toggleable__control:checked~label.sk-toggleable__label {background-color: #d4ebff;}#sk-container-id-5 div.sk-label input.sk-toggleable__control:checked~label.sk-toggleable__label {background-color: #d4ebff;}#sk-container-id-5 input.sk-hidden--visually {border: 0;clip: rect(1px 1px 1px 1px);clip: rect(1px, 1px, 1px, 1px);height: 1px;margin: -1px;overflow: hidden;padding: 0;position: absolute;width: 1px;}#sk-container-id-5 div.sk-estimator {font-family: monospace;background-color: #f0f8ff;border: 1px dotted black;border-radius: 0.25em;box-sizing: border-box;margin-bottom: 0.5em;}#sk-container-id-5 div.sk-estimator:hover {background-color: #d4ebff;}#sk-container-id-5 div.sk-parallel-item::after {content: \"\";width: 100%;border-bottom: 1px solid gray;flex-grow: 1;}#sk-container-id-5 div.sk-label:hover label.sk-toggleable__label {background-color: #d4ebff;}#sk-container-id-5 div.sk-serial::before {content: \"\";position: absolute;border-left: 1px solid gray;box-sizing: border-box;top: 0;bottom: 0;left: 50%;z-index: 0;}#sk-container-id-5 div.sk-serial {display: flex;flex-direction: column;align-items: center;background-color: white;padding-right: 0.2em;padding-left: 0.2em;position: relative;}#sk-container-id-5 div.sk-item {position: relative;z-index: 1;}#sk-container-id-5 div.sk-parallel {display: flex;align-items: stretch;justify-content: center;background-color: white;position: relative;}#sk-container-id-5 div.sk-item::before, #sk-container-id-5 div.sk-parallel-item::before {content: \"\";position: absolute;border-left: 1px solid gray;box-sizing: border-box;top: 0;bottom: 0;left: 50%;z-index: -1;}#sk-container-id-5 div.sk-parallel-item {display: flex;flex-direction: column;z-index: 1;position: relative;background-color: white;}#sk-container-id-5 div.sk-parallel-item:first-child::after {align-self: flex-end;width: 50%;}#sk-container-id-5 div.sk-parallel-item:last-child::after {align-self: flex-start;width: 50%;}#sk-container-id-5 div.sk-parallel-item:only-child::after {width: 0;}#sk-container-id-5 div.sk-dashed-wrapped {border: 1px dashed gray;margin: 0 0.4em 0.5em 0.4em;box-sizing: border-box;padding-bottom: 0.4em;background-color: white;}#sk-container-id-5 div.sk-label label {font-family: monospace;font-weight: bold;display: inline-block;line-height: 1.2em;}#sk-container-id-5 div.sk-label-container {text-align: center;}#sk-container-id-5 div.sk-container {/* jupyter's `normalize.less` sets `[hidden] { display: none; }` but bootstrap.min.css set `[hidden] { display: none !important; }` so we also need the `!important` here to be able to override the default hidden behavior on the sphinx rendered scikit-learn.org. See: https://github.com/scikit-learn/scikit-learn/issues/21755 */display: inline-block !important;position: relative;}#sk-container-id-5 div.sk-text-repr-fallback {display: none;}</style><div id=\"sk-container-id-5\" class=\"sk-top-container\"><div class=\"sk-text-repr-fallback\"><pre>GaussianNB()</pre><b>In a Jupyter environment, please rerun this cell to show the HTML representation or trust the notebook. <br />On GitHub, the HTML representation is unable to render, please try loading this page with nbviewer.org.</b></div><div class=\"sk-container\" hidden><div class=\"sk-item\"><div class=\"sk-estimator sk-toggleable\"><input class=\"sk-toggleable__control sk-hidden--visually\" id=\"sk-estimator-id-5\" type=\"checkbox\" checked><label for=\"sk-estimator-id-5\" class=\"sk-toggleable__label sk-toggleable__label-arrow\">GaussianNB</label><div class=\"sk-toggleable__content\"><pre>GaussianNB()</pre></div></div></div></div></div>"
            ],
            "text/plain": [
              "GaussianNB()"
            ]
          },
          "execution_count": 184,
          "metadata": {},
          "output_type": "execute_result"
        }
      ],
      "source": [
        "nb_w2v.fit(X_train_clean_w2v, y_train)"
      ]
    },
    {
      "cell_type": "code",
      "execution_count": 185,
      "metadata": {
        "id": "0kMYtyD9fl-h"
      },
      "outputs": [],
      "source": [
        "y_pred_nb_w2v = nb_w2v.predict(X_test_clean_w2v)"
      ]
    },
    {
      "cell_type": "code",
      "execution_count": 186,
      "metadata": {
        "colab": {
          "base_uri": "https://localhost:8080/"
        },
        "id": "94IOTZWPfl-h",
        "outputId": "0600fa1a-31f9-4a40-ab47-5d0beb11d010"
      },
      "outputs": [
        {
          "name": "stdout",
          "output_type": "stream",
          "text": [
            " Naive Bayes Model with Word2Vec Accuracy: 64.06%\n"
          ]
        }
      ],
      "source": [
        "print(' Naive Bayes Model with Word2Vec Accuracy: {:.2%}'.format(accuracy_score(y_test, y_pred_nb_w2v)))"
      ]
    },
    {
      "cell_type": "code",
      "execution_count": 187,
      "metadata": {
        "colab": {
          "base_uri": "https://localhost:8080/"
        },
        "id": "lKSB5Sxofl-i",
        "outputId": "07c6197a-febb-4e65-e92d-a9084ecc839c"
      },
      "outputs": [
        {
          "name": "stdout",
          "output_type": "stream",
          "text": [
            "              precision    recall  f1-score   support\n",
            "\n",
            "     Bearish       0.20      0.31      0.24       175\n",
            "     Bullish       0.46      0.42      0.44       410\n",
            "     Neutral       0.79      0.75      0.77      1324\n",
            "\n",
            "    accuracy                           0.64      1909\n",
            "   macro avg       0.48      0.50      0.48      1909\n",
            "weighted avg       0.67      0.64      0.65      1909\n",
            "\n"
          ]
        }
      ],
      "source": [
        "labels = {\"Bearish\":0, \"Bullish\":1, \"Neutral\":2}\n",
        "print(classification_report(y_pred_nb_w2v, y_test, target_names = labels.keys()))"
      ]
    },
    {
      "cell_type": "code",
      "execution_count": 188,
      "metadata": {
        "colab": {
          "base_uri": "https://localhost:8080/",
          "height": 0
        },
        "id": "UO7q-I0ffl-i",
        "outputId": "5161117f-3c4c-4a73-db46-faf718fbd2c7"
      },
      "outputs": [
        {
          "data": {
            "image/png": "[encoded data removed]",
            "text/plain": [
              "<Figure size 360x360 with 2 Axes>"
            ]
          },
          "metadata": {},
          "output_type": "display_data"
        }
      ],
      "source": [
        "plot_confusion(confusion_matrix(y_test, y_pred_nb_w2v));"
      ]
    },
    {
      "cell_type": "markdown",
      "metadata": {},
      "source": [
        "###### Balanced Dataset"
      ]
    },
    {
      "cell_type": "code",
      "execution_count": 189,
      "metadata": {},
      "outputs": [],
      "source": [
        "# Calcular a média dos vetores de palavras para cada documento nos dados de teste\n",
        "X_test_clean_w2v_adj_nb = np.mean(X_test_clean_w2v, axis=1)\n",
        "\n",
        "# Reshape para torná-lo uma matriz 2D\n",
        "X_test_clean_w2v_adj_nb_2d = X_test_clean_w2v_adj_nb.reshape(-1, 1)"
      ]
    },
    {
      "cell_type": "code",
      "execution_count": 190,
      "metadata": {},
      "outputs": [],
      "source": [
        "# Fazer previsões\n",
        "y_pred_nb_w2v_resampled = model_nb_w2v.predict(X_test_clean_w2v_adj_nb_2d)"
      ]
    },
    {
      "cell_type": "code",
      "execution_count": 191,
      "metadata": {},
      "outputs": [
        {
          "name": "stdout",
          "output_type": "stream",
          "text": [
            "Logistic Regression Model with Word2Vec Accuracy: 38.24%\n"
          ]
        }
      ],
      "source": [
        "print('Logistic Regression Model with Word2Vec Accuracy: {:.2%}'.format(accuracy_score(y_test, y_pred_nb_w2v_resampled)))"
      ]
    },
    {
      "cell_type": "code",
      "execution_count": 192,
      "metadata": {},
      "outputs": [
        {
          "name": "stdout",
          "output_type": "stream",
          "text": [
            "              precision    recall  f1-score   support\n",
            "\n",
            "     Bearish       0.64      0.19      0.29       931\n",
            "     Bullish       0.16      0.21      0.18       300\n",
            "     Neutral       0.39      0.73      0.51       678\n",
            "\n",
            "    accuracy                           0.38      1909\n",
            "   macro avg       0.40      0.37      0.33      1909\n",
            "weighted avg       0.47      0.38      0.35      1909\n",
            "\n"
          ]
        }
      ],
      "source": [
        "labels = {\"Bearish\":0, \"Bullish\":1, \"Neutral\":2}\n",
        "print(classification_report(y_pred_nb_w2v_resampled, y_test, target_names = labels.keys()))"
      ]
    },
    {
      "cell_type": "code",
      "execution_count": 193,
      "metadata": {},
      "outputs": [
        {
          "data": {
            "image/png": "[encoded data removed]",
            "text/plain": [
              "<Figure size 360x360 with 2 Axes>"
            ]
          },
          "metadata": {},
          "output_type": "display_data"
        }
      ],
      "source": [
        "plot_confusion(confusion_matrix(y_test, y_pred_nb_w2v_resampled));"
      ]
    },
    {
      "cell_type": "markdown",
      "metadata": {
        "id": "Ac3xPMq2fl-i"
      },
      "source": [
        "### Cross Validation (K-folds)"
      ]
    },
    {
      "cell_type": "code",
      "execution_count": 194,
      "metadata": {
        "colab": {
          "base_uri": "https://localhost:8080/"
        },
        "id": "TfwABbKsfl-j",
        "outputId": "8c045e03-5ec2-4087-f9dd-d7b0e135c4b4"
      },
      "outputs": [
        {
          "name": "stdout",
          "output_type": "stream",
          "text": [
            "BoW Average accuracy: 73.88%\n",
            "TF-IDF Average accuracy: 70.40%\n",
            "Word2Vec Average accuracy: 63.09%\n"
          ]
        }
      ],
      "source": [
        "\n",
        "# Assuming X_train_BoW, X_train_tf, X_train_clean_w2v are defined\n",
        "model = MultinomialNB()\n",
        "model_w2v = GaussianNB()\n",
        "perform_cross_validation(model, X_train_BoW, y_train, \"BoW\")\n",
        "perform_cross_validation(model, X_train_tf, y_train, \"TF-IDF\")\n",
        "perform_cross_validation(model_w2v, X_train_clean_w2v, y_train, \"Word2Vec\")"
      ]
    },
    {
      "cell_type": "code",
      "execution_count": 195,
      "metadata": {},
      "outputs": [
        {
          "name": "stdout",
          "output_type": "stream",
          "text": [
            "BoW Balanced Dataset Average accuracy: 66.58%\n",
            "TF-IDF Balanced Dataset Average accuracy: 66.61%\n",
            "Word2Vec Balanced Dataset Average accuracy: 48.98%\n"
          ]
        }
      ],
      "source": [
        "perform_cross_validation(model, X_train_resampled_BoW, y_train_resampled, \"BoW Balanced Dataset\")\n",
        "perform_cross_validation(model, X_train_resambled_tf, y_train_resampled, \"TF-IDF Balanced Dataset\")\n",
        "perform_cross_validation(model_w2v, X_train_clean_w2v_resampled, y_train_resampled, \"Word2Vec Balanced Dataset\")"
      ]
    },
    {
      "cell_type": "markdown",
      "metadata": {
        "id": "4m-_a-9duOMO"
      },
      "source": [
        "## 4.4) Random Forest"
      ]
    },
    {
      "cell_type": "code",
      "execution_count": 196,
      "metadata": {
        "id": "XjSkj_n1udxW"
      },
      "outputs": [],
      "source": [
        "from sklearn.ensemble import RandomForestClassifier"
      ]
    },
    {
      "cell_type": "code",
      "execution_count": 197,
      "metadata": {
        "id": "Kj__ZWKYufc-"
      },
      "outputs": [],
      "source": [
        "def fit_rf(X_train, y_train):\n",
        "  model_rf = RandomForestClassifier(n_estimators=150, criterion='entropy', random_state = 0, max_depth=4)\n",
        "  model_rf.fit(X_train, y_train)\n",
        "  return model_rf"
      ]
    },
    {
      "cell_type": "markdown",
      "metadata": {
        "id": "A9VKapsnuTba"
      },
      "source": [
        "### Model construction"
      ]
    },
    {
      "cell_type": "markdown",
      "metadata": {},
      "source": [
        "##### Training the model with Bag of Words"
      ]
    },
    {
      "cell_type": "markdown",
      "metadata": {},
      "source": [
        "###### Original Dataset"
      ]
    },
    {
      "cell_type": "code",
      "execution_count": 198,
      "metadata": {
        "colab": {
          "base_uri": "https://localhost:8080/"
        },
        "id": "39KiTibPuflk",
        "outputId": "c36cee15-ced6-40e0-dd99-269496745a6c"
      },
      "outputs": [],
      "source": [
        "# código igual ao da LR\n",
        "# use the fit_cv function on training data to build the Bag-of-Words vectorizer\n",
        "cv = fit_cv(X_train)\n",
        "X_train_Bow = cv.transform(X_train)\n",
        "X_test_BoW = cv.transform(X_test)"
      ]
    },
    {
      "cell_type": "code",
      "execution_count": 199,
      "metadata": {
        "id": "A884yHRNufpg"
      },
      "outputs": [],
      "source": [
        "# Fit the Random Forest model on training data by using the fit_rf function\n",
        "model_rf_BoW = fit_rf(X_train_BoW, y_train)"
      ]
    },
    {
      "cell_type": "markdown",
      "metadata": {},
      "source": [
        "###### Balanced Dataset"
      ]
    },
    {
      "cell_type": "code",
      "execution_count": 200,
      "metadata": {},
      "outputs": [],
      "source": [
        "# Call the Logistic Regression function to fit it with BoW data\n",
        "model_rf_BoW_resample = fit_nb(X_train_resampled_BoW, y_train_resampled)"
      ]
    },
    {
      "cell_type": "markdown",
      "metadata": {},
      "source": [
        "##### Training the model with TF-IDF"
      ]
    },
    {
      "cell_type": "markdown",
      "metadata": {},
      "source": [
        "###### Original Dataset"
      ]
    },
    {
      "cell_type": "code",
      "execution_count": 201,
      "metadata": {
        "colab": {
          "base_uri": "https://localhost:8080/"
        },
        "id": "duOi-pGxuxk9",
        "outputId": "c9227b27-ff20-465c-fdc5-f565878f7bdd"
      },
      "outputs": [],
      "source": [
        "# use the fit_tfidf function on training data to build the TF-IDF vectorizer\n",
        "tf = fit_tfidf(X_train)\n",
        "X_train_tf = tf.transform(X_train)\n",
        "X_test_tf = tf.transform(X_test)"
      ]
    },
    {
      "cell_type": "code",
      "execution_count": 202,
      "metadata": {
        "id": "_-4oXP9Luxqv"
      },
      "outputs": [],
      "source": [
        "# Fit the Random Forest model on training data by using the fit_rf function\n",
        "model_rf_tf = fit_rf(X_train_tf, y_train)"
      ]
    },
    {
      "cell_type": "markdown",
      "metadata": {},
      "source": [
        "###### Balanced Dataset"
      ]
    },
    {
      "cell_type": "code",
      "execution_count": 203,
      "metadata": {},
      "outputs": [],
      "source": [
        "model_rf_tf_resampled = fit_rf(X_train_resambled_tf, y_train_resampled)"
      ]
    },
    {
      "cell_type": "markdown",
      "metadata": {},
      "source": [
        "##### Training the model with Word2Vec"
      ]
    },
    {
      "cell_type": "markdown",
      "metadata": {},
      "source": [
        "###### Original Dataset"
      ]
    },
    {
      "cell_type": "code",
      "execution_count": 204,
      "metadata": {},
      "outputs": [],
      "source": [
        "model_rf_w2v = fit_rf(X_train_clean_w2v, y_train)"
      ]
    },
    {
      "cell_type": "markdown",
      "metadata": {},
      "source": [
        "###### Balanced Dataset"
      ]
    },
    {
      "cell_type": "code",
      "execution_count": 205,
      "metadata": {},
      "outputs": [],
      "source": [
        "model_rf_w2v_resampled = fit_rf(X_train_clean_w2v_resampled, y_train_resampled)"
      ]
    },
    {
      "cell_type": "markdown",
      "metadata": {
        "id": "wYlSKPuAzTuM"
      },
      "source": [
        "### Performance metrics"
      ]
    },
    {
      "cell_type": "markdown",
      "metadata": {
        "id": "ShvTQiYjzaxR"
      },
      "source": [
        "#### BoW"
      ]
    },
    {
      "cell_type": "markdown",
      "metadata": {},
      "source": [
        "###### Original Dataset"
      ]
    },
    {
      "cell_type": "code",
      "execution_count": 206,
      "metadata": {
        "id": "g3GXO_XRzN2i"
      },
      "outputs": [],
      "source": [
        "# use the fitted model_rf_cv (BoW) to predict X_text\n",
        "y_pred_rf_Bow = model_rf_BoW.predict(X_test_BoW)"
      ]
    },
    {
      "cell_type": "code",
      "execution_count": 207,
      "metadata": {
        "colab": {
          "base_uri": "https://localhost:8080/"
        },
        "id": "21NlPKE5zN8x",
        "outputId": "4d31df90-6723-4b2e-8b72-c45e436b5232"
      },
      "outputs": [
        {
          "name": "stdout",
          "output_type": "stream",
          "text": [
            "LR Model Accuracy: 65.69%\n"
          ]
        }
      ],
      "source": [
        "print('LR Model Accuracy: {:.2%}'.format(accuracy_score(y_test, y_pred_rf_Bow)))"
      ]
    },
    {
      "cell_type": "code",
      "execution_count": 208,
      "metadata": {
        "colab": {
          "base_uri": "https://localhost:8080/"
        },
        "id": "_V2PGqwkzzdq",
        "outputId": "1120a9be-1d8f-4b93-fd1e-0804a4004ac7"
      },
      "outputs": [
        {
          "name": "stdout",
          "output_type": "stream",
          "text": [
            "              precision    recall  f1-score   support\n",
            "\n",
            "     Bearish       0.00      0.00      0.00         0\n",
            "     Bullish       0.00      0.00      0.00         0\n",
            "     Neutral       1.00      0.66      0.79      1909\n",
            "\n",
            "    accuracy                           0.66      1909\n",
            "   macro avg       0.33      0.22      0.26      1909\n",
            "weighted avg       1.00      0.66      0.79      1909\n",
            "\n"
          ]
        }
      ],
      "source": [
        "labels = {\"Bearish\":0, \"Bullish\":1, \"Neutral\":2}\n",
        "print(classification_report(y_pred_rf_Bow, y_test, target_names = labels.keys()))"
      ]
    },
    {
      "cell_type": "code",
      "execution_count": 209,
      "metadata": {
        "colab": {
          "base_uri": "https://localhost:8080/",
          "height": 485
        },
        "id": "pyh4BadGfl-p",
        "outputId": "c2830d0a-79fc-44bb-905c-97ab354ab31b"
      },
      "outputs": [
        {
          "data": {
            "image/png": "[encoded data removed]",
            "text/plain": [
              "<Figure size 360x360 with 2 Axes>"
            ]
          },
          "metadata": {},
          "output_type": "display_data"
        }
      ],
      "source": [
        "plot_confusion(confusion_matrix(y_test, y_pred_rf_Bow));"
      ]
    },
    {
      "cell_type": "markdown",
      "metadata": {},
      "source": [
        "###### Balanced Dataset"
      ]
    },
    {
      "cell_type": "code",
      "execution_count": 210,
      "metadata": {},
      "outputs": [],
      "source": [
        "y_pred_rf_BoW_resample = model_rf_BoW_resample.predict(X_test_resambled_BoW)"
      ]
    },
    {
      "cell_type": "code",
      "execution_count": 211,
      "metadata": {},
      "outputs": [
        {
          "name": "stdout",
          "output_type": "stream",
          "text": [
            "LR Model Accuracy: 66.00%\n"
          ]
        }
      ],
      "source": [
        "print('LR Model Accuracy: {:.2%}'.format(accuracy_score(y_test, y_pred_rf_BoW_resample)))"
      ]
    },
    {
      "cell_type": "code",
      "execution_count": 212,
      "metadata": {},
      "outputs": [
        {
          "name": "stdout",
          "output_type": "stream",
          "text": [
            "              precision    recall  f1-score   support\n",
            "\n",
            "     Bearish       0.70      0.38      0.49       508\n",
            "     Bullish       0.74      0.51      0.61       549\n",
            "     Neutral       0.63      0.92      0.75       852\n",
            "\n",
            "    accuracy                           0.66      1909\n",
            "   macro avg       0.69      0.60      0.61      1909\n",
            "weighted avg       0.68      0.66      0.64      1909\n",
            "\n"
          ]
        }
      ],
      "source": [
        "labels = {\"Bearish\":0, \"Bullish\":1, \"Neutral\":2}\n",
        "print(classification_report(y_pred_rf_BoW_resample, y_test, target_names = labels.keys()))"
      ]
    },
    {
      "cell_type": "code",
      "execution_count": 213,
      "metadata": {},
      "outputs": [
        {
          "data": {
            "image/png": "[encoded data removed]",
            "text/plain": [
              "<Figure size 360x360 with 2 Axes>"
            ]
          },
          "metadata": {},
          "output_type": "display_data"
        }
      ],
      "source": [
        "plot_confusion(confusion_matrix(y_test, y_pred_rf_BoW_resample));"
      ]
    },
    {
      "cell_type": "markdown",
      "metadata": {
        "id": "Fpxnwp_lzxy9"
      },
      "source": [
        "#### TF_IDF"
      ]
    },
    {
      "cell_type": "markdown",
      "metadata": {},
      "source": [
        "###### Original Dataset"
      ]
    },
    {
      "cell_type": "code",
      "execution_count": 214,
      "metadata": {
        "id": "rh7Xqw8Az-mp"
      },
      "outputs": [],
      "source": [
        "# use the fitted model_rf_cv (BoW) to predict X_text\n",
        "y_pred_rf_tf = model_rf_tf.predict(X_test_tf)"
      ]
    },
    {
      "cell_type": "code",
      "execution_count": 215,
      "metadata": {
        "colab": {
          "base_uri": "https://localhost:8080/"
        },
        "id": "yFI0Ce8-z-pQ",
        "outputId": "65c0b357-fa7c-4a7b-aea1-76989f897908"
      },
      "outputs": [
        {
          "name": "stdout",
          "output_type": "stream",
          "text": [
            "LR Model Accuracy: 65.69%\n"
          ]
        }
      ],
      "source": [
        "print('LR Model Accuracy: {:.2%}'.format(accuracy_score(y_test, y_pred_rf_tf)))"
      ]
    },
    {
      "cell_type": "code",
      "execution_count": 216,
      "metadata": {
        "colab": {
          "base_uri": "https://localhost:8080/"
        },
        "id": "WM1PO7kiz-rv",
        "outputId": "1bf479d2-d975-4997-ff48-5e65939affb0"
      },
      "outputs": [
        {
          "name": "stdout",
          "output_type": "stream",
          "text": [
            "              precision    recall  f1-score   support\n",
            "\n",
            "     Bearish       0.00      0.00      0.00         0\n",
            "     Bullish       0.00      0.00      0.00         0\n",
            "     Neutral       1.00      0.66      0.79      1909\n",
            "\n",
            "    accuracy                           0.66      1909\n",
            "   macro avg       0.33      0.22      0.26      1909\n",
            "weighted avg       1.00      0.66      0.79      1909\n",
            "\n"
          ]
        }
      ],
      "source": [
        "labels = {\"Bearish\":0, \"Bullish\":1, \"Neutral\":2}\n",
        "print(classification_report(y_pred_rf_tf, y_test, target_names = labels.keys()))"
      ]
    },
    {
      "cell_type": "code",
      "execution_count": 217,
      "metadata": {
        "colab": {
          "base_uri": "https://localhost:8080/",
          "height": 485
        },
        "id": "-8ZQvNs7fl-r",
        "outputId": "b6969477-ae38-41ad-ac3e-6669a622b571"
      },
      "outputs": [
        {
          "data": {
            "image/png": "[encoded data removed]",
            "text/plain": [
              "<Figure size 360x360 with 2 Axes>"
            ]
          },
          "metadata": {},
          "output_type": "display_data"
        }
      ],
      "source": [
        "plot_confusion(confusion_matrix(y_test, y_pred_rf_tf));"
      ]
    },
    {
      "cell_type": "markdown",
      "metadata": {},
      "source": [
        "###### Balanced Dataset"
      ]
    },
    {
      "cell_type": "code",
      "execution_count": 218,
      "metadata": {},
      "outputs": [],
      "source": [
        "y_pred_rf_tf_resampled = model_rf_tf_resampled.predict(X_test_resampled_tf)"
      ]
    },
    {
      "cell_type": "code",
      "execution_count": 219,
      "metadata": {},
      "outputs": [
        {
          "name": "stdout",
          "output_type": "stream",
          "text": [
            "LR Model Accuracy: 69.20%\n"
          ]
        }
      ],
      "source": [
        "print('LR Model Accuracy: {:.2%}'.format(accuracy_score(y_test, y_pred_rf_tf_resampled)))"
      ]
    },
    {
      "cell_type": "code",
      "execution_count": 220,
      "metadata": {},
      "outputs": [
        {
          "name": "stdout",
          "output_type": "stream",
          "text": [
            "              precision    recall  f1-score   support\n",
            "\n",
            "     Bearish       0.49      0.41      0.45       335\n",
            "     Bullish       0.50      0.54      0.52       350\n",
            "     Neutral       0.79      0.81      0.80      1224\n",
            "\n",
            "    accuracy                           0.69      1909\n",
            "   macro avg       0.60      0.59      0.59      1909\n",
            "weighted avg       0.69      0.69      0.69      1909\n",
            "\n"
          ]
        }
      ],
      "source": [
        "labels = {\"Bearish\":0, \"Bullish\":1, \"Neutral\":2}\n",
        "print(classification_report(y_pred_rf_tf_resampled, y_test, target_names = labels.keys()))"
      ]
    },
    {
      "cell_type": "code",
      "execution_count": 221,
      "metadata": {},
      "outputs": [
        {
          "data": {
            "image/png": "[encoded data removed]",
            "text/plain": [
              "<Figure size 360x360 with 2 Axes>"
            ]
          },
          "metadata": {},
          "output_type": "display_data"
        }
      ],
      "source": [
        "plot_confusion(confusion_matrix(y_test, y_pred_rf_tf_resampled));"
      ]
    },
    {
      "cell_type": "markdown",
      "metadata": {
        "id": "WoEjcj9Ofl-r"
      },
      "source": [
        "#### Word2Vec"
      ]
    },
    {
      "cell_type": "markdown",
      "metadata": {},
      "source": [
        "###### Original Dataset"
      ]
    },
    {
      "cell_type": "code",
      "execution_count": 222,
      "metadata": {
        "id": "DuYgs2B3fl-s"
      },
      "outputs": [],
      "source": [
        "rf_w2v = RandomForestClassifier(n_estimators=150, criterion='entropy', random_state = 0, max_depth=4)"
      ]
    },
    {
      "cell_type": "code",
      "execution_count": 223,
      "metadata": {
        "colab": {
          "base_uri": "https://localhost:8080/",
          "height": 92
        },
        "id": "yg019jOufl-s",
        "outputId": "98c81c8b-9c11-4f5f-c7ff-8deea7bfb5c1"
      },
      "outputs": [
        {
          "data": {
            "text/html": [
              "<style>#sk-container-id-6 {color: black;}#sk-container-id-6 pre{padding: 0;}#sk-container-id-6 div.sk-toggleable {background-color: white;}#sk-container-id-6 label.sk-toggleable__label {cursor: pointer;display: block;width: 100%;margin-bottom: 0;padding: 0.3em;box-sizing: border-box;text-align: center;}#sk-container-id-6 label.sk-toggleable__label-arrow:before {content: \"▸\";float: left;margin-right: 0.25em;color: #696969;}#sk-container-id-6 label.sk-toggleable__label-arrow:hover:before {color: black;}#sk-container-id-6 div.sk-estimator:hover label.sk-toggleable__label-arrow:before {color: black;}#sk-container-id-6 div.sk-toggleable__content {max-height: 0;max-width: 0;overflow: hidden;text-align: left;background-color: #f0f8ff;}#sk-container-id-6 div.sk-toggleable__content pre {margin: 0.2em;color: black;border-radius: 0.25em;background-color: #f0f8ff;}#sk-container-id-6 input.sk-toggleable__control:checked~div.sk-toggleable__content {max-height: 200px;max-width: 100%;overflow: auto;}#sk-container-id-6 input.sk-toggleable__control:checked~label.sk-toggleable__label-arrow:before {content: \"▾\";}#sk-container-id-6 div.sk-estimator input.sk-toggleable__control:checked~label.sk-toggleable__label {background-color: #d4ebff;}#sk-container-id-6 div.sk-label input.sk-toggleable__control:checked~label.sk-toggleable__label {background-color: #d4ebff;}#sk-container-id-6 input.sk-hidden--visually {border: 0;clip: rect(1px 1px 1px 1px);clip: rect(1px, 1px, 1px, 1px);height: 1px;margin: -1px;overflow: hidden;padding: 0;position: absolute;width: 1px;}#sk-container-id-6 div.sk-estimator {font-family: monospace;background-color: #f0f8ff;border: 1px dotted black;border-radius: 0.25em;box-sizing: border-box;margin-bottom: 0.5em;}#sk-container-id-6 div.sk-estimator:hover {background-color: #d4ebff;}#sk-container-id-6 div.sk-parallel-item::after {content: \"\";width: 100%;border-bottom: 1px solid gray;flex-grow: 1;}#sk-container-id-6 div.sk-label:hover label.sk-toggleable__label {background-color: #d4ebff;}#sk-container-id-6 div.sk-serial::before {content: \"\";position: absolute;border-left: 1px solid gray;box-sizing: border-box;top: 0;bottom: 0;left: 50%;z-index: 0;}#sk-container-id-6 div.sk-serial {display: flex;flex-direction: column;align-items: center;background-color: white;padding-right: 0.2em;padding-left: 0.2em;position: relative;}#sk-container-id-6 div.sk-item {position: relative;z-index: 1;}#sk-container-id-6 div.sk-parallel {display: flex;align-items: stretch;justify-content: center;background-color: white;position: relative;}#sk-container-id-6 div.sk-item::before, #sk-container-id-6 div.sk-parallel-item::before {content: \"\";position: absolute;border-left: 1px solid gray;box-sizing: border-box;top: 0;bottom: 0;left: 50%;z-index: -1;}#sk-container-id-6 div.sk-parallel-item {display: flex;flex-direction: column;z-index: 1;position: relative;background-color: white;}#sk-container-id-6 div.sk-parallel-item:first-child::after {align-self: flex-end;width: 50%;}#sk-container-id-6 div.sk-parallel-item:last-child::after {align-self: flex-start;width: 50%;}#sk-container-id-6 div.sk-parallel-item:only-child::after {width: 0;}#sk-container-id-6 div.sk-dashed-wrapped {border: 1px dashed gray;margin: 0 0.4em 0.5em 0.4em;box-sizing: border-box;padding-bottom: 0.4em;background-color: white;}#sk-container-id-6 div.sk-label label {font-family: monospace;font-weight: bold;display: inline-block;line-height: 1.2em;}#sk-container-id-6 div.sk-label-container {text-align: center;}#sk-container-id-6 div.sk-container {/* jupyter's `normalize.less` sets `[hidden] { display: none; }` but bootstrap.min.css set `[hidden] { display: none !important; }` so we also need the `!important` here to be able to override the default hidden behavior on the sphinx rendered scikit-learn.org. See: https://github.com/scikit-learn/scikit-learn/issues/21755 */display: inline-block !important;position: relative;}#sk-container-id-6 div.sk-text-repr-fallback {display: none;}</style><div id=\"sk-container-id-6\" class=\"sk-top-container\"><div class=\"sk-text-repr-fallback\"><pre>RandomForestClassifier(criterion=&#x27;entropy&#x27;, max_depth=4, n_estimators=150,\n",
              "                       random_state=0)</pre><b>In a Jupyter environment, please rerun this cell to show the HTML representation or trust the notebook. <br />On GitHub, the HTML representation is unable to render, please try loading this page with nbviewer.org.</b></div><div class=\"sk-container\" hidden><div class=\"sk-item\"><div class=\"sk-estimator sk-toggleable\"><input class=\"sk-toggleable__control sk-hidden--visually\" id=\"sk-estimator-id-6\" type=\"checkbox\" checked><label for=\"sk-estimator-id-6\" class=\"sk-toggleable__label sk-toggleable__label-arrow\">RandomForestClassifier</label><div class=\"sk-toggleable__content\"><pre>RandomForestClassifier(criterion=&#x27;entropy&#x27;, max_depth=4, n_estimators=150,\n",
              "                       random_state=0)</pre></div></div></div></div></div>"
            ],
            "text/plain": [
              "RandomForestClassifier(criterion='entropy', max_depth=4, n_estimators=150,\n",
              "                       random_state=0)"
            ]
          },
          "execution_count": 223,
          "metadata": {},
          "output_type": "execute_result"
        }
      ],
      "source": [
        "rf_w2v.fit(X_train_clean_w2v, y_train)"
      ]
    },
    {
      "cell_type": "code",
      "execution_count": 224,
      "metadata": {
        "id": "njrRXqGpfl-s"
      },
      "outputs": [],
      "source": [
        "y_pred_rf_w2v = rf_w2v.predict(X_test_clean_w2v)"
      ]
    },
    {
      "cell_type": "code",
      "execution_count": 225,
      "metadata": {
        "colab": {
          "base_uri": "https://localhost:8080/"
        },
        "id": "Jd2abTP-fl-t",
        "outputId": "2b07ff87-f136-462a-ccb6-6c7d24d7a813"
      },
      "outputs": [
        {
          "name": "stdout",
          "output_type": "stream",
          "text": [
            " Random Forest Model with Word2Vec Accuracy: 65.69%\n"
          ]
        }
      ],
      "source": [
        "print(' Random Forest Model with Word2Vec Accuracy: {:.2%}'.format(accuracy_score(y_test, y_pred_rf_w2v)))"
      ]
    },
    {
      "cell_type": "code",
      "execution_count": 226,
      "metadata": {
        "colab": {
          "base_uri": "https://localhost:8080/"
        },
        "id": "aE-2rxppfl-t",
        "outputId": "01353556-441f-492e-8819-65103104769c"
      },
      "outputs": [
        {
          "name": "stdout",
          "output_type": "stream",
          "text": [
            "              precision    recall  f1-score   support\n",
            "\n",
            "     Bearish       0.00      0.00      0.00         0\n",
            "     Bullish       0.00      0.00      0.00         0\n",
            "     Neutral       1.00      0.66      0.79      1909\n",
            "\n",
            "    accuracy                           0.66      1909\n",
            "   macro avg       0.33      0.22      0.26      1909\n",
            "weighted avg       1.00      0.66      0.79      1909\n",
            "\n"
          ]
        }
      ],
      "source": [
        "labels = {\"Bearish\":0, \"Bullish\":1, \"Neutral\":2}\n",
        "print(classification_report(y_pred_rf_w2v, y_test, target_names = labels.keys()))"
      ]
    },
    {
      "cell_type": "code",
      "execution_count": 227,
      "metadata": {
        "colab": {
          "base_uri": "https://localhost:8080/",
          "height": 485
        },
        "id": "nccy7qnafl-t",
        "outputId": "e8583a6c-7366-4c1e-c839-9822291642c3"
      },
      "outputs": [
        {
          "data": {
            "image/png": "[encoded data removed]",
            "text/plain": [
              "<Figure size 360x360 with 2 Axes>"
            ]
          },
          "metadata": {},
          "output_type": "display_data"
        }
      ],
      "source": [
        "plot_confusion(confusion_matrix(y_test, y_pred_rf_w2v));"
      ]
    },
    {
      "cell_type": "markdown",
      "metadata": {},
      "source": [
        "###### Balanced Dataset"
      ]
    },
    {
      "cell_type": "code",
      "execution_count": 228,
      "metadata": {},
      "outputs": [],
      "source": [
        "# Calcular a média dos vetores de palavras para cada documento nos dados de teste\n",
        "X_test_clean_w2v_adj_nb = np.mean(X_test_clean_w2v, axis=1)\n",
        "\n",
        "# Reshape para torná-lo uma matriz 2D\n",
        "X_test_clean_w2v_adj_nb_2d = X_test_clean_w2v_adj_nb.reshape(-1, 1)\n",
        "\n",
        "# Se necessário, preencher para manter 25 features\n",
        "# Isso depende de como os vetores de palavras foram originalmente criados\n",
        "# Aqui estamos preenchendo com zeros, mas ajuste conforme necessário\n",
        "X_test_clean_w2v_adj_nb_2d = np.hstack([X_test_clean_w2v_adj_nb_2d, np.zeros((X_test_clean_w2v_adj_nb_2d.shape[0], 24))])\n"
      ]
    },
    {
      "cell_type": "code",
      "execution_count": 229,
      "metadata": {},
      "outputs": [],
      "source": [
        "# Fazer previsões\n",
        "y_pred_nb_w2v_resampled = rf_w2v.predict(X_test_clean_w2v_adj_nb_2d)"
      ]
    },
    {
      "cell_type": "code",
      "execution_count": 230,
      "metadata": {},
      "outputs": [
        {
          "name": "stdout",
          "output_type": "stream",
          "text": [
            " Random Forest Model with Word2Vec Accuracy: 65.69%\n"
          ]
        }
      ],
      "source": [
        "print(' Random Forest Model with Word2Vec Accuracy: {:.2%}'.format(accuracy_score(y_test, y_pred_nb_w2v_resampled)))"
      ]
    },
    {
      "cell_type": "code",
      "execution_count": 231,
      "metadata": {},
      "outputs": [
        {
          "name": "stdout",
          "output_type": "stream",
          "text": [
            "              precision    recall  f1-score   support\n",
            "\n",
            "     Bearish       0.00      0.00      0.00         0\n",
            "     Bullish       0.00      0.00      0.00         0\n",
            "     Neutral       1.00      0.66      0.79      1909\n",
            "\n",
            "    accuracy                           0.66      1909\n",
            "   macro avg       0.33      0.22      0.26      1909\n",
            "weighted avg       1.00      0.66      0.79      1909\n",
            "\n"
          ]
        }
      ],
      "source": [
        "labels = {\"Bearish\":0, \"Bullish\":1, \"Neutral\":2}\n",
        "print(classification_report(y_pred_nb_w2v_resampled, y_test, target_names = labels.keys()))"
      ]
    },
    {
      "cell_type": "code",
      "execution_count": 232,
      "metadata": {},
      "outputs": [
        {
          "data": {
            "image/png": "[encoded data removed]",
            "text/plain": [
              "<Figure size 360x360 with 2 Axes>"
            ]
          },
          "metadata": {},
          "output_type": "display_data"
        }
      ],
      "source": [
        "plot_confusion(confusion_matrix(y_test, y_pred_nb_w2v_resampled));"
      ]
    },
    {
      "cell_type": "markdown",
      "metadata": {
        "id": "woINPmuafl-u"
      },
      "source": [
        "### Cross Validation (K-folds)"
      ]
    },
    {
      "cell_type": "code",
      "execution_count": 233,
      "metadata": {
        "colab": {
          "base_uri": "https://localhost:8080/"
        },
        "id": "JnUsPNXHfl-u",
        "outputId": "22018b3d-f0e4-4a40-c35b-e67d0dbe1409"
      },
      "outputs": [
        {
          "name": "stdout",
          "output_type": "stream",
          "text": [
            "BoW Average accuracy: 64.50%\n",
            "TF-IDF Average accuracy: 64.50%\n",
            "Word2Vec Average accuracy: 64.53%\n"
          ]
        }
      ],
      "source": [
        "# Assuming X_train_BoW, X_train_tf, X_train_clean_w2v are defined\n",
        "model = RandomForestClassifier(n_estimators=150, criterion='entropy', random_state = 0, max_depth=4)\n",
        "perform_cross_validation(model, X_train_BoW, y_train, \"BoW\")\n",
        "perform_cross_validation(model, X_train_tf, y_train, \"TF-IDF\")\n",
        "perform_cross_validation(model, X_train_clean_w2v, y_train, \"Word2Vec\")"
      ]
    },
    {
      "cell_type": "code",
      "execution_count": 234,
      "metadata": {},
      "outputs": [
        {
          "name": "stdout",
          "output_type": "stream",
          "text": [
            "BoW Balanced Dataset Average accuracy: 59.86%\n",
            "TF-IDF Balanced Dataset Average accuracy: 59.34%\n",
            "Word2Vec Balanced Dataset Average accuracy: 48.98%\n"
          ]
        }
      ],
      "source": [
        "perform_cross_validation(model, X_train_resampled_BoW, y_train_resampled, \"BoW Balanced Dataset\")\n",
        "perform_cross_validation(model, X_train_resambled_tf, y_train_resampled, \"TF-IDF Balanced Dataset\")\n",
        "perform_cross_validation(model_w2v, X_train_clean_w2v_resampled, y_train_resampled, \"Word2Vec Balanced Dataset\")"
      ]
    },
    {
      "cell_type": "markdown",
      "metadata": {
        "id": "gVau6zNUfl-u"
      },
      "source": [
        "## 4.5) Multilayer Perceptron - ANN"
      ]
    },
    {
      "cell_type": "markdown",
      "metadata": {
        "id": "TmN6OLQXfl-v"
      },
      "source": [
        "### Model construction"
      ]
    },
    {
      "cell_type": "code",
      "execution_count": 235,
      "metadata": {
        "id": "jUcLhyLKfl-v"
      },
      "outputs": [],
      "source": [
        "from sklearn.neural_network import MLPClassifier"
      ]
    },
    {
      "cell_type": "code",
      "execution_count": 236,
      "metadata": {
        "id": "1ew1EB4Wfl-v"
      },
      "outputs": [],
      "source": [
        "def fit_mlp(X_train, y_train):\n",
        "  model_mlp = MLPClassifier(solver='adam', hidden_layer_sizes=(2,2), activation='logistic', random_state=1)\n",
        "  model_mlp.fit(X_train, y_train)\n",
        "  return model_mlp"
      ]
    },
    {
      "cell_type": "markdown",
      "metadata": {},
      "source": [
        "##### Training the model with Bag of Words"
      ]
    },
    {
      "cell_type": "markdown",
      "metadata": {},
      "source": [
        "###### Original Dataset"
      ]
    },
    {
      "cell_type": "code",
      "execution_count": 237,
      "metadata": {
        "colab": {
          "base_uri": "https://localhost:8080/"
        },
        "id": "NdcKuqFXg4DO",
        "outputId": "6492ab0e-ccf9-4600-9053-dfb1297d4ab7"
      },
      "outputs": [],
      "source": [
        "# código igual ao da LR\n",
        "# use the fit_cv function on training data to build the Bag-of-Words vectorizer\n",
        "cv = fit_cv(X_train)\n",
        "X_train_Bow = cv.transform(X_train)\n",
        "X_test_BoW = cv.transform(X_test)"
      ]
    },
    {
      "cell_type": "code",
      "execution_count": 238,
      "metadata": {
        "colab": {
          "base_uri": "https://localhost:8080/"
        },
        "id": "ALKJmw3Bg4K1",
        "outputId": "988d8bb3-2b82-4756-ed04-acd742bc3a4d"
      },
      "outputs": [],
      "source": [
        "# Fit the MLP model on training data by using the fit_rf function\n",
        "model_mlp_BoW = fit_mlp(X_train_BoW, y_train)"
      ]
    },
    {
      "cell_type": "markdown",
      "metadata": {},
      "source": [
        "###### Balanced Dataset"
      ]
    },
    {
      "cell_type": "code",
      "execution_count": 239,
      "metadata": {},
      "outputs": [],
      "source": [
        "# Call the Logistic Regression function to fit it with BoW data\n",
        "model_mlp_BoW_resample = fit_mlp(X_train_resampled_BoW, y_train_resampled)"
      ]
    },
    {
      "cell_type": "markdown",
      "metadata": {},
      "source": [
        "##### Training the model with TF-IDF"
      ]
    },
    {
      "cell_type": "markdown",
      "metadata": {},
      "source": [
        "###### Original Dataset"
      ]
    },
    {
      "cell_type": "code",
      "execution_count": 240,
      "metadata": {
        "colab": {
          "base_uri": "https://localhost:8080/"
        },
        "id": "3DWxkIC6hBqZ",
        "outputId": "2dc029bc-f544-422d-e89a-5b537081b3e8"
      },
      "outputs": [],
      "source": [
        "# use the fit_tfidf function on training data to build the TF-IDF vectorizer\n",
        "tf = fit_tfidf(X_train)\n",
        "X_train_tf = tf.transform(X_train)\n",
        "X_test_tf = tf.transform(X_test)"
      ]
    },
    {
      "cell_type": "code",
      "execution_count": 241,
      "metadata": {
        "colab": {
          "base_uri": "https://localhost:8080/"
        },
        "id": "G4e7JLbThBuB",
        "outputId": "7c4374c5-5f17-4b02-9c9e-70b355f0899b"
      },
      "outputs": [],
      "source": [
        "# Fit the MLP model on training data by using the fit_rf function\n",
        "model_mlp_tf = fit_mlp(X_train_tf, y_train)"
      ]
    },
    {
      "cell_type": "markdown",
      "metadata": {},
      "source": [
        "###### Balanced Dataset"
      ]
    },
    {
      "cell_type": "code",
      "execution_count": 242,
      "metadata": {},
      "outputs": [],
      "source": [
        "model_mlp_tf_resampled = fit_mlp(X_train_resambled_tf, y_train_resampled)"
      ]
    },
    {
      "cell_type": "markdown",
      "metadata": {},
      "source": [
        "##### Training the model with Word2Vec"
      ]
    },
    {
      "cell_type": "markdown",
      "metadata": {},
      "source": [
        "###### Original Dataset"
      ]
    },
    {
      "cell_type": "code",
      "execution_count": 243,
      "metadata": {},
      "outputs": [],
      "source": [
        "model_mlp_w2v = fit_mlp(X_train_clean_w2v, y_train)"
      ]
    },
    {
      "cell_type": "markdown",
      "metadata": {},
      "source": [
        "###### Balanced Dataset"
      ]
    },
    {
      "cell_type": "code",
      "execution_count": 244,
      "metadata": {},
      "outputs": [],
      "source": [
        "model_mlp_w2v_resampled = fit_mlp(X_train_clean_w2v_resampled, y_train_resampled)"
      ]
    },
    {
      "cell_type": "markdown",
      "metadata": {
        "id": "f4dVDySofl-v"
      },
      "source": [
        "### Performance metrics"
      ]
    },
    {
      "cell_type": "markdown",
      "metadata": {
        "id": "TnZVV5usfl-w"
      },
      "source": [
        "#### BoW"
      ]
    },
    {
      "cell_type": "markdown",
      "metadata": {},
      "source": [
        "###### Original Dataset"
      ]
    },
    {
      "cell_type": "code",
      "execution_count": 245,
      "metadata": {
        "id": "gx7CyBAGfl-w"
      },
      "outputs": [],
      "source": [
        "# use the fitted model_mlp_cv (BoW) to predict X_text\n",
        "y_pred_mlp_Bow = model_mlp_BoW.predict(X_test_BoW)"
      ]
    },
    {
      "cell_type": "code",
      "execution_count": 246,
      "metadata": {
        "colab": {
          "base_uri": "https://localhost:8080/"
        },
        "id": "ICg9brWjhmhi",
        "outputId": "8c7ab267-751f-4a72-dd12-ae20a12bbb65"
      },
      "outputs": [
        {
          "name": "stdout",
          "output_type": "stream",
          "text": [
            "MLP Model Accuracy: 71.77%\n"
          ]
        }
      ],
      "source": [
        "print('MLP Model Accuracy: {:.2%}'.format(accuracy_score(y_test, y_pred_mlp_Bow)))"
      ]
    },
    {
      "cell_type": "code",
      "execution_count": 247,
      "metadata": {
        "colab": {
          "base_uri": "https://localhost:8080/"
        },
        "id": "5iMJ_8b9hmmb",
        "outputId": "a79b00f4-cc9d-4110-ba6a-cd988b92705b"
      },
      "outputs": [
        {
          "name": "stdout",
          "output_type": "stream",
          "text": [
            "              precision    recall  f1-score   support\n",
            "\n",
            "     Bearish       0.31      0.32      0.32       268\n",
            "     Bullish       0.60      0.62      0.61       368\n",
            "     Neutral       0.84      0.83      0.84      1273\n",
            "\n",
            "    accuracy                           0.72      1909\n",
            "   macro avg       0.58      0.59      0.59      1909\n",
            "weighted avg       0.72      0.72      0.72      1909\n",
            "\n"
          ]
        }
      ],
      "source": [
        "labels = {\"Bearish\":0, \"Bullish\":1, \"Neutral\":2}\n",
        "print(classification_report(y_pred_mlp_Bow, y_test, target_names = labels.keys()))"
      ]
    },
    {
      "cell_type": "code",
      "execution_count": 248,
      "metadata": {
        "colab": {
          "base_uri": "https://localhost:8080/",
          "height": 0
        },
        "id": "JsQvxKhXhwY0",
        "outputId": "ffc7db04-6264-4ac8-fd5c-42211238f811"
      },
      "outputs": [
        {
          "data": {
            "image/png": "[encoded data removed]",
            "text/plain": [
              "<Figure size 360x360 with 2 Axes>"
            ]
          },
          "metadata": {},
          "output_type": "display_data"
        }
      ],
      "source": [
        "plot_confusion(confusion_matrix(y_test, y_pred_mlp_Bow));"
      ]
    },
    {
      "cell_type": "markdown",
      "metadata": {},
      "source": [
        "###### Balaced Dataset"
      ]
    },
    {
      "cell_type": "code",
      "execution_count": 249,
      "metadata": {},
      "outputs": [],
      "source": [
        "y_pred_mlp_BoW_resample = model_mlp_BoW_resample.predict(X_test_resambled_BoW)"
      ]
    },
    {
      "cell_type": "code",
      "execution_count": 250,
      "metadata": {},
      "outputs": [
        {
          "name": "stdout",
          "output_type": "stream",
          "text": [
            "MLP Model Accuracy: 63.96%\n"
          ]
        }
      ],
      "source": [
        "print('MLP Model Accuracy: {:.2%}'.format(accuracy_score(y_test, y_pred_mlp_BoW_resample)))"
      ]
    },
    {
      "cell_type": "code",
      "execution_count": 251,
      "metadata": {},
      "outputs": [
        {
          "name": "stdout",
          "output_type": "stream",
          "text": [
            "              precision    recall  f1-score   support\n",
            "\n",
            "     Bearish       0.53      0.36      0.43       409\n",
            "     Bullish       0.37      0.32      0.34       436\n",
            "     Neutral       0.74      0.88      0.81      1064\n",
            "\n",
            "    accuracy                           0.64      1909\n",
            "   macro avg       0.55      0.52      0.53      1909\n",
            "weighted avg       0.61      0.64      0.62      1909\n",
            "\n"
          ]
        }
      ],
      "source": [
        "labels = {\"Bearish\":0, \"Bullish\":1, \"Neutral\":2}\n",
        "print(classification_report(y_pred_mlp_BoW_resample, y_test, target_names = labels.keys()))"
      ]
    },
    {
      "cell_type": "code",
      "execution_count": 252,
      "metadata": {},
      "outputs": [
        {
          "data": {
            "image/png": "[encoded data removed]",
            "text/plain": [
              "<Figure size 360x360 with 2 Axes>"
            ]
          },
          "metadata": {},
          "output_type": "display_data"
        }
      ],
      "source": [
        "plot_confusion(confusion_matrix(y_test, y_pred_mlp_BoW_resample));"
      ]
    },
    {
      "cell_type": "markdown",
      "metadata": {
        "id": "mu3xokaPfl-x"
      },
      "source": [
        "#### TF-IDF"
      ]
    },
    {
      "cell_type": "markdown",
      "metadata": {},
      "source": [
        "###### Original Dataset"
      ]
    },
    {
      "cell_type": "code",
      "execution_count": 253,
      "metadata": {
        "id": "fwsd6ku9fl-x"
      },
      "outputs": [],
      "source": [
        "# use the fitted model_mlp_cv (BoW) to predict X_text\n",
        "y_pred_mlp_tf = model_mlp_tf.predict(X_test_tf)"
      ]
    },
    {
      "cell_type": "code",
      "execution_count": 254,
      "metadata": {
        "colab": {
          "base_uri": "https://localhost:8080/"
        },
        "id": "JPo5YFKph2q6",
        "outputId": "37580aef-2cc5-47ec-d983-0864365128c7"
      },
      "outputs": [
        {
          "name": "stdout",
          "output_type": "stream",
          "text": [
            "MLP Model Accuracy: 73.34%\n"
          ]
        }
      ],
      "source": [
        "print('MLP Model Accuracy: {:.2%}'.format(accuracy_score(y_test, y_pred_mlp_tf)))"
      ]
    },
    {
      "cell_type": "code",
      "execution_count": 255,
      "metadata": {
        "colab": {
          "base_uri": "https://localhost:8080/"
        },
        "id": "SDci1lA7h2tm",
        "outputId": "5c45c5f4-3f5a-4c62-d9b1-ffc9db44459a"
      },
      "outputs": [
        {
          "name": "stdout",
          "output_type": "stream",
          "text": [
            "              precision    recall  f1-score   support\n",
            "\n",
            "     Bearish       0.35      0.35      0.35       275\n",
            "     Bullish       0.60      0.64      0.62       354\n",
            "     Neutral       0.86      0.84      0.85      1280\n",
            "\n",
            "    accuracy                           0.73      1909\n",
            "   macro avg       0.60      0.61      0.61      1909\n",
            "weighted avg       0.74      0.73      0.74      1909\n",
            "\n"
          ]
        }
      ],
      "source": [
        "labels = {\"Bearish\":0, \"Bullish\":1, \"Neutral\":2}\n",
        "print(classification_report(y_pred_mlp_tf, y_test, target_names = labels.keys()))"
      ]
    },
    {
      "cell_type": "code",
      "execution_count": 256,
      "metadata": {
        "colab": {
          "base_uri": "https://localhost:8080/",
          "height": 0
        },
        "id": "vdN9zJIih2wP",
        "outputId": "5df6a518-d7b7-4dd1-d313-9ab25ca02d0a"
      },
      "outputs": [
        {
          "data": {
            "image/png": "[encoded data removed]",
            "text/plain": [
              "<Figure size 360x360 with 2 Axes>"
            ]
          },
          "metadata": {},
          "output_type": "display_data"
        }
      ],
      "source": [
        "plot_confusion(confusion_matrix(y_test, y_pred_mlp_tf));"
      ]
    },
    {
      "cell_type": "markdown",
      "metadata": {},
      "source": [
        "###### Balanced Dataset"
      ]
    },
    {
      "cell_type": "code",
      "execution_count": 257,
      "metadata": {},
      "outputs": [],
      "source": [
        "y_pred_mlp_tf_resampled = model_mlp_tf_resampled.predict(X_test_resampled_tf)"
      ]
    },
    {
      "cell_type": "code",
      "execution_count": 258,
      "metadata": {},
      "outputs": [
        {
          "name": "stdout",
          "output_type": "stream",
          "text": [
            "MLP Model Accuracy: 62.70%\n"
          ]
        }
      ],
      "source": [
        "print('MLP Model Accuracy: {:.2%}'.format(accuracy_score(y_test, y_pred_mlp_tf_resampled)))"
      ]
    },
    {
      "cell_type": "code",
      "execution_count": 259,
      "metadata": {},
      "outputs": [
        {
          "name": "stdout",
          "output_type": "stream",
          "text": [
            "              precision    recall  f1-score   support\n",
            "\n",
            "     Bearish       0.53      0.39      0.45       381\n",
            "     Bullish       0.40      0.30      0.34       506\n",
            "     Neutral       0.72      0.88      0.79      1022\n",
            "\n",
            "    accuracy                           0.63      1909\n",
            "   macro avg       0.55      0.52      0.53      1909\n",
            "weighted avg       0.60      0.63      0.60      1909\n",
            "\n"
          ]
        }
      ],
      "source": [
        "labels = {\"Bearish\":0, \"Bullish\":1, \"Neutral\":2}\n",
        "print(classification_report(y_pred_mlp_tf_resampled, y_test, target_names = labels.keys()))"
      ]
    },
    {
      "cell_type": "code",
      "execution_count": 260,
      "metadata": {},
      "outputs": [
        {
          "data": {
            "image/png": "[encoded data removed]",
            "text/plain": [
              "<Figure size 360x360 with 2 Axes>"
            ]
          },
          "metadata": {},
          "output_type": "display_data"
        }
      ],
      "source": [
        "plot_confusion(confusion_matrix(y_test, y_pred_mlp_tf_resampled));"
      ]
    },
    {
      "cell_type": "markdown",
      "metadata": {
        "id": "-gTxlAeTfl-x"
      },
      "source": [
        "#### Word2Vec"
      ]
    },
    {
      "cell_type": "markdown",
      "metadata": {},
      "source": [
        "###### Original Dataset"
      ]
    },
    {
      "cell_type": "code",
      "execution_count": 261,
      "metadata": {
        "id": "dR-dIhW-fl-x"
      },
      "outputs": [],
      "source": [
        "mlp_w2v = MLPClassifier(solver='adam', hidden_layer_sizes=(2,2), activation='logistic', random_state=1)\n",
        "model_mlp_w2v = mlp_w2v.fit(X_train_clean_w2v, y_train)"
      ]
    },
    {
      "cell_type": "code",
      "execution_count": 262,
      "metadata": {
        "id": "ASo3ANdOiMtB"
      },
      "outputs": [],
      "source": [
        "y_pred_mlp_w2v = mlp_w2v.predict(X_test_clean_w2v)"
      ]
    },
    {
      "cell_type": "code",
      "execution_count": 263,
      "metadata": {
        "colab": {
          "base_uri": "https://localhost:8080/"
        },
        "id": "4tq7iGzJibrg",
        "outputId": "c046e654-7faf-4e6d-9b06-4b5fc069f1fe"
      },
      "outputs": [
        {
          "name": "stdout",
          "output_type": "stream",
          "text": [
            "MLP Model with Word2Vec Accuracy: 67.89%\n"
          ]
        }
      ],
      "source": [
        "print('MLP Model with Word2Vec Accuracy: {:.2%}'.format(accuracy_score(y_test, y_pred_mlp_w2v)))"
      ]
    },
    {
      "cell_type": "code",
      "execution_count": 264,
      "metadata": {
        "colab": {
          "base_uri": "https://localhost:8080/"
        },
        "id": "f_wycPs0ibuB",
        "outputId": "98b95803-581f-4660-fc21-69bed5e67106"
      },
      "outputs": [
        {
          "name": "stdout",
          "output_type": "stream",
          "text": [
            "              precision    recall  f1-score   support\n",
            "\n",
            "     Bearish       0.00      0.00      0.00         0\n",
            "     Bullish       0.27      0.48      0.35       215\n",
            "     Neutral       0.95      0.70      0.81      1694\n",
            "\n",
            "    accuracy                           0.68      1909\n",
            "   macro avg       0.41      0.39      0.39      1909\n",
            "weighted avg       0.87      0.68      0.76      1909\n",
            "\n"
          ]
        }
      ],
      "source": [
        "labels = {\"Bearish\":0, \"Bullish\":1, \"Neutral\":2}\n",
        "print(classification_report(y_pred_mlp_w2v, y_test, target_names = labels.keys()))"
      ]
    },
    {
      "cell_type": "code",
      "execution_count": 265,
      "metadata": {
        "colab": {
          "base_uri": "https://localhost:8080/",
          "height": 0
        },
        "id": "q3wIjxDHibwQ",
        "outputId": "793dd10b-703a-4eda-d4f0-2f835b1a05d4"
      },
      "outputs": [
        {
          "data": {
            "image/png": "[encoded data removed]",
            "text/plain": [
              "<Figure size 360x360 with 2 Axes>"
            ]
          },
          "metadata": {},
          "output_type": "display_data"
        }
      ],
      "source": [
        "plot_confusion(confusion_matrix(y_test, y_pred_mlp_w2v));"
      ]
    },
    {
      "cell_type": "markdown",
      "metadata": {},
      "source": [
        "###### Balanced Dataset"
      ]
    },
    {
      "cell_type": "code",
      "execution_count": 266,
      "metadata": {},
      "outputs": [],
      "source": [
        "y_pred_mlp_w2c_resambled = model_mlp_w2v_resampled.predict(X_test_clean_w2v)"
      ]
    },
    {
      "cell_type": "code",
      "execution_count": 267,
      "metadata": {},
      "outputs": [
        {
          "name": "stdout",
          "output_type": "stream",
          "text": [
            "MLP Model with Word2Vec Accuracy: 58.20%\n"
          ]
        }
      ],
      "source": [
        "print('MLP Model with Word2Vec Accuracy: {:.2%}'.format(accuracy_score(y_test, y_pred_mlp_w2c_resambled)))"
      ]
    },
    {
      "cell_type": "code",
      "execution_count": 268,
      "metadata": {},
      "outputs": [
        {
          "name": "stdout",
          "output_type": "stream",
          "text": [
            "              precision    recall  f1-score   support\n",
            "\n",
            "     Bearish       0.06      0.12      0.08       141\n",
            "     Bullish       0.63      0.36      0.46       663\n",
            "     Neutral       0.68      0.77      0.73      1105\n",
            "\n",
            "    accuracy                           0.58      1909\n",
            "   macro avg       0.46      0.42      0.42      1909\n",
            "weighted avg       0.62      0.58      0.58      1909\n",
            "\n"
          ]
        }
      ],
      "source": [
        "labels = {\"Bearish\":0, \"Bullish\":1, \"Neutral\":2}\n",
        "print(classification_report(y_pred_mlp_w2c_resambled, y_test, target_names = labels.keys()))"
      ]
    },
    {
      "cell_type": "code",
      "execution_count": 269,
      "metadata": {},
      "outputs": [
        {
          "data": {
            "image/png": "[encoded data removed]",
            "text/plain": [
              "<Figure size 360x360 with 2 Axes>"
            ]
          },
          "metadata": {},
          "output_type": "display_data"
        }
      ],
      "source": [
        "plot_confusion(confusion_matrix(y_test, y_pred_mlp_w2c_resambled));"
      ]
    },
    {
      "cell_type": "markdown",
      "metadata": {
        "id": "VESpHnM5fl-y"
      },
      "source": [
        "### Cross Validation (K-folds)"
      ]
    },
    {
      "cell_type": "code",
      "execution_count": 270,
      "metadata": {
        "colab": {
          "base_uri": "https://localhost:8080/"
        },
        "id": "PUaTvI2Lfl-y",
        "outputId": "67703d6b-6608-4449-a612-b812633212f3"
      },
      "outputs": [
        {
          "name": "stdout",
          "output_type": "stream",
          "text": [
            "BoW Average accuracy: 69.44%\n",
            "TF-IDF Average accuracy: 70.33%\n",
            "Word2Vec Average accuracy: 66.26%\n"
          ]
        }
      ],
      "source": [
        "# Assuming X_train_BoW, X_train_tf, X_train_clean_w2v are defined\n",
        "model = MLPClassifier(solver='adam', hidden_layer_sizes=(2,2), activation='logistic', random_state=1)\n",
        "perform_cross_validation(model, X_train_BoW, y_train, \"BoW\")\n",
        "perform_cross_validation(model, X_train_tf, y_train, \"TF-IDF\")\n",
        "perform_cross_validation(model, X_train_clean_w2v, y_train, \"Word2Vec\")"
      ]
    },
    {
      "cell_type": "code",
      "execution_count": null,
      "metadata": {},
      "outputs": [],
      "source": [
        "perform_cross_validation(model, X_train_resampled_BoW, y_train_resampled, \"BoW Balanced Dataset\")\n",
        "perform_cross_validation(model, X_train_resambled_tf, y_train_resampled, \"TF-IDF Balanced Dataset\")\n",
        "perform_cross_validation(model, X_train_clean_w2v_resampled, y_train_resampled, \"Word2Vec Balanced Dataset\")"
      ]
    },
    {
      "cell_type": "markdown",
      "metadata": {
        "id": "HW2ypIn7i6to"
      },
      "source": [
        "# 5) Fazer previsões no data_test"
      ]
    },
    {
      "cell_type": "code",
      "execution_count": 271,
      "metadata": {},
      "outputs": [],
      "source": [
        "# Pré-processamento no conjunto data_test\n",
        "data_test['text_cleaned'] = data_test['text'].apply(pre_processing_cleaning)"
      ]
    },
    {
      "cell_type": "code",
      "execution_count": 272,
      "metadata": {},
      "outputs": [
        {
          "data": {
            "text/html": [
              "<div>\n",
              "<style scoped>\n",
              "    .dataframe tbody tr th:only-of-type {\n",
              "        vertical-align: middle;\n",
              "    }\n",
              "\n",
              "    .dataframe tbody tr th {\n",
              "        vertical-align: top;\n",
              "    }\n",
              "\n",
              "    .dataframe thead th {\n",
              "        text-align: right;\n",
              "    }\n",
              "</style>\n",
              "<table border=\"1\" class=\"dataframe\">\n",
              "  <thead>\n",
              "    <tr style=\"text-align: right;\">\n",
              "      <th></th>\n",
              "      <th>id</th>\n",
              "      <th>text</th>\n",
              "      <th>text_cleaned</th>\n",
              "    </tr>\n",
              "  </thead>\n",
              "  <tbody>\n",
              "    <tr>\n",
              "      <th>0</th>\n",
              "      <td>0</td>\n",
              "      <td>ETF assets to surge tenfold in 10 years to $50 trillion, Bank of America predicts</td>\n",
              "      <td>etf assets surge tenfold 10 years trillion bank america predicts</td>\n",
              "    </tr>\n",
              "    <tr>\n",
              "      <th>1</th>\n",
              "      <td>1</td>\n",
              "      <td>Here’s What Hedge Funds Think Evolution Petroleum Corporation (EPM)</td>\n",
              "      <td>hedge funds think evolution petroleum corporation epm</td>\n",
              "    </tr>\n",
              "    <tr>\n",
              "      <th>2</th>\n",
              "      <td>2</td>\n",
              "      <td>$PVH - Phillips-Van Heusen Q3 2020 Earnings Preview https://t.co/kNhCYwVnBX</td>\n",
              "      <td>phillipsvan heusen q3 2020 earnings preview</td>\n",
              "    </tr>\n",
              "    <tr>\n",
              "      <th>3</th>\n",
              "      <td>3</td>\n",
              "      <td>China is in the process of waiving retaliatory tariffs on imports of U.S. pork and soy by domestic companies, a pro… https://t.co/08mZU9TrBX</td>\n",
              "      <td>china process waiving retaliatory tariffs imports yous pork soy domestic companies pro</td>\n",
              "    </tr>\n",
              "    <tr>\n",
              "      <th>4</th>\n",
              "      <td>4</td>\n",
              "      <td>Highlight: “When growth is scarce, investors seem very willing to pay up for growth stock\" @PNCBank's… https://t.co/rO4fBOkBG9</td>\n",
              "      <td>highlight when growth scarce investors seem willing pay growth stock s</td>\n",
              "    </tr>\n",
              "  </tbody>\n",
              "</table>\n",
              "</div>"
            ],
            "text/plain": [
              "   id  \\\n",
              "0   0   \n",
              "1   1   \n",
              "2   2   \n",
              "3   3   \n",
              "4   4   \n",
              "\n",
              "                                                                                                                                           text  \\\n",
              "0                                                             ETF assets to surge tenfold in 10 years to $50 trillion, Bank of America predicts   \n",
              "1                                                                           Here’s What Hedge Funds Think Evolution Petroleum Corporation (EPM)   \n",
              "2                                                                   $PVH - Phillips-Van Heusen Q3 2020 Earnings Preview https://t.co/kNhCYwVnBX   \n",
              "3  China is in the process of waiving retaliatory tariffs on imports of U.S. pork and soy by domestic companies, a pro… https://t.co/08mZU9TrBX   \n",
              "4                Highlight: “When growth is scarce, investors seem very willing to pay up for growth stock\" @PNCBank's… https://t.co/rO4fBOkBG9   \n",
              "\n",
              "                                                                             text_cleaned  \n",
              "0                        etf assets surge tenfold 10 years trillion bank america predicts  \n",
              "1                                   hedge funds think evolution petroleum corporation epm  \n",
              "2                                             phillipsvan heusen q3 2020 earnings preview  \n",
              "3  china process waiving retaliatory tariffs imports yous pork soy domestic companies pro  \n",
              "4                  highlight when growth scarce investors seem willing pay growth stock s  "
            ]
          },
          "execution_count": 272,
          "metadata": {},
          "output_type": "execute_result"
        }
      ],
      "source": [
        "data_test.head()"
      ]
    },
    {
      "cell_type": "code",
      "execution_count": 301,
      "metadata": {
        "id": "kBhOIrYCi9uh"
      },
      "outputs": [
        {
          "data": {
            "text/plain": [
              "\"\\n# Vetorização do conjunto data_test usando o vetorizador tf\\nX_test_tf = tf.transform(data_test['text_cleaned'])\\n\\n# Previsões usando o modelo treinado model_lr_tf\\ny_pred_tf = model_lr_tf.predict(X_test_tf)\""
            ]
          },
          "execution_count": 301,
          "metadata": {},
          "output_type": "execute_result"
        }
      ],
      "source": [
        "# Vetorização do conjunto data_test usando o vetorizador cv\n",
        "X_test_cv = cv.transform(data_test['text_cleaned'])\n",
        "\n",
        "# Previsões usando o modelo treinado model_lr_cv\n",
        "y_pred_cv = model_lr_BoW.predict(X_test_cv)\n",
        "\n",
        "\"\"\"\n",
        "# Vetorização do conjunto data_test usando o vetorizador tf\n",
        "X_test_tf = tf.transform(data_test['text_cleaned'])\n",
        "\n",
        "# Previsões usando o modelo treinado model_lr_tf\n",
        "y_pred_tf = model_lr_tf.predict(X_test_tf)\"\"\""
      ]
    },
    {
      "cell_type": "code",
      "execution_count": 302,
      "metadata": {
        "id": "DhxVXJQEi92i"
      },
      "outputs": [],
      "source": [
        "# Adicionar as previsões usando o modelo Logistic Regression com Bag-of-Words (cv)\n",
        "data_test['predicted_labels'] = y_pred_cv\n",
        "\n",
        "# Ou, se você preferir usar TF-IDF:\n",
        "# data_test['predictions_lr_tf'] = model_lr_tf.predict(X_test_tf)"
      ]
    },
    {
      "cell_type": "code",
      "execution_count": 296,
      "metadata": {
        "colab": {
          "base_uri": "https://localhost:8080/",
          "height": 275
        },
        "id": "iK1u6e_Vi98V",
        "outputId": "d5d6b796-0c68-4fbd-c899-1f16ddf377cd"
      },
      "outputs": [
        {
          "data": {
            "text/html": [
              "<div>\n",
              "<style scoped>\n",
              "    .dataframe tbody tr th:only-of-type {\n",
              "        vertical-align: middle;\n",
              "    }\n",
              "\n",
              "    .dataframe tbody tr th {\n",
              "        vertical-align: top;\n",
              "    }\n",
              "\n",
              "    .dataframe thead th {\n",
              "        text-align: right;\n",
              "    }\n",
              "</style>\n",
              "<table border=\"1\" class=\"dataframe\">\n",
              "  <thead>\n",
              "    <tr style=\"text-align: right;\">\n",
              "      <th></th>\n",
              "      <th>id</th>\n",
              "      <th>text</th>\n",
              "      <th>text_cleaned</th>\n",
              "      <th>predictions_lr_BoW</th>\n",
              "      <th>predicted_label</th>\n",
              "      <th>predicted_labels</th>\n",
              "    </tr>\n",
              "  </thead>\n",
              "  <tbody>\n",
              "    <tr>\n",
              "      <th>0</th>\n",
              "      <td>0</td>\n",
              "      <td>ETF assets to surge tenfold in 10 years to $50 trillion, Bank of America predicts</td>\n",
              "      <td>etf assets surge tenfold 10 years trillion bank america predicts</td>\n",
              "      <td>2</td>\n",
              "      <td>2</td>\n",
              "      <td>2</td>\n",
              "    </tr>\n",
              "    <tr>\n",
              "      <th>1</th>\n",
              "      <td>1</td>\n",
              "      <td>Here’s What Hedge Funds Think Evolution Petroleum Corporation (EPM)</td>\n",
              "      <td>hedge funds think evolution petroleum corporation epm</td>\n",
              "      <td>2</td>\n",
              "      <td>2</td>\n",
              "      <td>2</td>\n",
              "    </tr>\n",
              "    <tr>\n",
              "      <th>2</th>\n",
              "      <td>2</td>\n",
              "      <td>$PVH - Phillips-Van Heusen Q3 2020 Earnings Preview https://t.co/kNhCYwVnBX</td>\n",
              "      <td>phillipsvan heusen q3 2020 earnings preview</td>\n",
              "      <td>2</td>\n",
              "      <td>2</td>\n",
              "      <td>2</td>\n",
              "    </tr>\n",
              "    <tr>\n",
              "      <th>3</th>\n",
              "      <td>3</td>\n",
              "      <td>China is in the process of waiving retaliatory tariffs on imports of U.S. pork and soy by domestic companies, a pro… https://t.co/08mZU9TrBX</td>\n",
              "      <td>china process waiving retaliatory tariffs imports yous pork soy domestic companies pro</td>\n",
              "      <td>2</td>\n",
              "      <td>2</td>\n",
              "      <td>2</td>\n",
              "    </tr>\n",
              "    <tr>\n",
              "      <th>4</th>\n",
              "      <td>4</td>\n",
              "      <td>Highlight: “When growth is scarce, investors seem very willing to pay up for growth stock\" @PNCBank's… https://t.co/rO4fBOkBG9</td>\n",
              "      <td>highlight when growth scarce investors seem willing pay growth stock s</td>\n",
              "      <td>2</td>\n",
              "      <td>2</td>\n",
              "      <td>2</td>\n",
              "    </tr>\n",
              "  </tbody>\n",
              "</table>\n",
              "</div>"
            ],
            "text/plain": [
              "   id  \\\n",
              "0   0   \n",
              "1   1   \n",
              "2   2   \n",
              "3   3   \n",
              "4   4   \n",
              "\n",
              "                                                                                                                                           text  \\\n",
              "0                                                             ETF assets to surge tenfold in 10 years to $50 trillion, Bank of America predicts   \n",
              "1                                                                           Here’s What Hedge Funds Think Evolution Petroleum Corporation (EPM)   \n",
              "2                                                                   $PVH - Phillips-Van Heusen Q3 2020 Earnings Preview https://t.co/kNhCYwVnBX   \n",
              "3  China is in the process of waiving retaliatory tariffs on imports of U.S. pork and soy by domestic companies, a pro… https://t.co/08mZU9TrBX   \n",
              "4                Highlight: “When growth is scarce, investors seem very willing to pay up for growth stock\" @PNCBank's… https://t.co/rO4fBOkBG9   \n",
              "\n",
              "                                                                             text_cleaned  \\\n",
              "0                        etf assets surge tenfold 10 years trillion bank america predicts   \n",
              "1                                   hedge funds think evolution petroleum corporation epm   \n",
              "2                                             phillipsvan heusen q3 2020 earnings preview   \n",
              "3  china process waiving retaliatory tariffs imports yous pork soy domestic companies pro   \n",
              "4                  highlight when growth scarce investors seem willing pay growth stock s   \n",
              "\n",
              "   predictions_lr_BoW  predicted_label  predicted_labels  \n",
              "0                   2                2                 2  \n",
              "1                   2                2                 2  \n",
              "2                   2                2                 2  \n",
              "3                   2                2                 2  \n",
              "4                   2                2                 2  "
            ]
          },
          "execution_count": 296,
          "metadata": {},
          "output_type": "execute_result"
        }
      ],
      "source": [
        "data_test.head()"
      ]
    },
    {
      "cell_type": "code",
      "execution_count": 297,
      "metadata": {},
      "outputs": [],
      "source": [
        "prediction_data_test = data_test[['id', 'predicted_labels']]"
      ]
    },
    {
      "cell_type": "code",
      "execution_count": 298,
      "metadata": {},
      "outputs": [
        {
          "data": {
            "text/html": [
              "<div>\n",
              "<style scoped>\n",
              "    .dataframe tbody tr th:only-of-type {\n",
              "        vertical-align: middle;\n",
              "    }\n",
              "\n",
              "    .dataframe tbody tr th {\n",
              "        vertical-align: top;\n",
              "    }\n",
              "\n",
              "    .dataframe thead th {\n",
              "        text-align: right;\n",
              "    }\n",
              "</style>\n",
              "<table border=\"1\" class=\"dataframe\">\n",
              "  <thead>\n",
              "    <tr style=\"text-align: right;\">\n",
              "      <th></th>\n",
              "      <th>id</th>\n",
              "      <th>predicted_labels</th>\n",
              "    </tr>\n",
              "  </thead>\n",
              "  <tbody>\n",
              "    <tr>\n",
              "      <th>0</th>\n",
              "      <td>0</td>\n",
              "      <td>2</td>\n",
              "    </tr>\n",
              "    <tr>\n",
              "      <th>1</th>\n",
              "      <td>1</td>\n",
              "      <td>2</td>\n",
              "    </tr>\n",
              "    <tr>\n",
              "      <th>2</th>\n",
              "      <td>2</td>\n",
              "      <td>2</td>\n",
              "    </tr>\n",
              "    <tr>\n",
              "      <th>3</th>\n",
              "      <td>3</td>\n",
              "      <td>2</td>\n",
              "    </tr>\n",
              "    <tr>\n",
              "      <th>4</th>\n",
              "      <td>4</td>\n",
              "      <td>2</td>\n",
              "    </tr>\n",
              "    <tr>\n",
              "      <th>5</th>\n",
              "      <td>5</td>\n",
              "      <td>0</td>\n",
              "    </tr>\n",
              "    <tr>\n",
              "      <th>6</th>\n",
              "      <td>6</td>\n",
              "      <td>0</td>\n",
              "    </tr>\n",
              "    <tr>\n",
              "      <th>7</th>\n",
              "      <td>7</td>\n",
              "      <td>2</td>\n",
              "    </tr>\n",
              "    <tr>\n",
              "      <th>8</th>\n",
              "      <td>8</td>\n",
              "      <td>2</td>\n",
              "    </tr>\n",
              "    <tr>\n",
              "      <th>9</th>\n",
              "      <td>9</td>\n",
              "      <td>2</td>\n",
              "    </tr>\n",
              "  </tbody>\n",
              "</table>\n",
              "</div>"
            ],
            "text/plain": [
              "   id  predicted_labels\n",
              "0   0                 2\n",
              "1   1                 2\n",
              "2   2                 2\n",
              "3   3                 2\n",
              "4   4                 2\n",
              "5   5                 0\n",
              "6   6                 0\n",
              "7   7                 2\n",
              "8   8                 2\n",
              "9   9                 2"
            ]
          },
          "execution_count": 298,
          "metadata": {},
          "output_type": "execute_result"
        }
      ],
      "source": [
        "prediction_data_test.head(10)"
      ]
    },
    {
      "cell_type": "markdown",
      "metadata": {},
      "source": [
        "# Load The predictions to cvs file"
      ]
    },
    {
      "cell_type": "code",
      "execution_count": 299,
      "metadata": {},
      "outputs": [],
      "source": [
        "# Exportar DataFrame para um arquivo Excel\n",
        "prediction_data_test.to_csv('Stock_Sentiment_Output.csv', index=False, sep=';')\n",
        "\n",
        "#from google.colab import files\n",
        "\n",
        "# Fazer o download do arquivo para o seu computador\n",
        "#files.download('data_train_processed.xlsx')'''"
      ]
    }
  ],
  "metadata": {
    "colab": {
      "provenance": [],
      "toc_visible": true
    },
    "kernelspec": {
      "display_name": "Python 3",
      "name": "python3"
    },
    "language_info": {
      "codemirror_mode": {
        "name": "ipython",
        "version": 3
      },
      "file_extension": ".py",
      "mimetype": "text/x-python",
      "name": "python",
      "nbconvert_exporter": "python",
      "pygments_lexer": "ipython3",
      "version": "3.9.7"
    }
  },
  "nbformat": 4,
  "nbformat_minor": 0
}
